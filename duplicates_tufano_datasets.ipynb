{
 "cells": [
  {
   "cell_type": "code",
   "execution_count": 51,
   "metadata": {},
   "outputs": [],
   "source": [
    "import os\n",
    "from tqdm.auto import tqdm\n",
    "import random"
   ]
  },
  {
   "cell_type": "code",
   "execution_count": 18,
   "metadata": {},
   "outputs": [],
   "source": [
    "def read_data(path):\n",
    "    data = []\n",
    "    with open(os.path.join(path, 'prev.txt'), mode='r', encoding='utf-8') as prev, \\\n",
    "        open(os.path.join(path, 'updated.txt'), mode='r', encoding='utf-8') as updated:\n",
    "        for prev_line, updated_line in zip(prev, updated):\n",
    "            prev_line, updated_line = prev_line.strip(), updated_line.strip()\n",
    "            if prev_line != '' and updated_line != '':\n",
    "                data.append({'prev': prev_line, 'updated': updated_line})\n",
    "            else:\n",
    "                print('EMPTY LINE IN DATASET')\n",
    "    return data\n",
    "            \n",
    "def load_datasets(path):\n",
    "    data = {'train': [], 'test': [], 'val': []}\n",
    "    for k in data:\n",
    "        data_root = os.path.join(path, k)\n",
    "        data[k] = read_data(data_root)\n",
    "    return data"
   ]
  },
  {
   "cell_type": "code",
   "execution_count": 39,
   "metadata": {},
   "outputs": [],
   "source": [
    "TUFANO_BUG_FIXES_0_50 = load_datasets('../embeddings-for-code-diffs-data/datasets/java/tufano_bug_fixes/0_50_copy')"
   ]
  },
  {
   "cell_type": "code",
   "execution_count": 72,
   "metadata": {},
   "outputs": [],
   "source": [
    "def find_duplicates_fast_by_pred(train_dataset, test_dataset, pred, label):\n",
    "    print('\\nFinding duplicates...')\n",
    "    print(label)\n",
    "    train_set = set(pred(el) for el in train_dataset)\n",
    "    duplicates = [el for el in test_dataset if pred(el) in train_set]\n",
    "    print(f'Found {len(duplicates)} duplicates')\n",
    "    return duplicates\n",
    "\n",
    "def print_duplicates(duplicates):\n",
    "    for duplicate in duplicates:\n",
    "        print(duplicate['prev'])\n",
    "        print(duplicate['updated'])\n",
    "        print()\n",
    "\n",
    "def find_duplicates_fast(train_dataset, test_dataset):\n",
    "    pred1 = lambda x: x['prev']\n",
    "    prev_duplicates = find_duplicates_fast_by_pred(train_dataset, test_dataset, pred1, 'Prev matching')\n",
    "    print('Samples')\n",
    "    print_duplicates(random.sample(prev_duplicates, k=min(len(prev_duplicates), 5)))\n",
    "    pred2 = lambda x: (x['prev'], x['updated'])\n",
    "    prev_and_updated_duplicates = find_duplicates_fast_by_pred(train_dataset, test_dataset, pred2, 'Prev and updated matching')\n",
    "    print('Samples')\n",
    "    print_duplicates(random.sample(prev_and_updated_duplicates, k=min(len(prev_and_updated_duplicates), 5)))"
   ]
  },
  {
   "cell_type": "code",
   "execution_count": 73,
   "metadata": {},
   "outputs": [
    {
     "name": "stdout",
     "output_type": "stream",
     "text": [
      "\n",
      "Finding duplicates...\n",
      "Prev matching\n",
      "Found 1 duplicates\n",
      "Samples\n",
      "public java.lang.String METHOD_1 ( ) { return new TYPE_1 ( STRING_1 ) . format ( VAR_1 [ ( ( VAR_1 . length ) - 1 ) ] . getTime ( ) ) ; }\n",
      "public java.lang.String METHOD_1 ( ) { return new TYPE_1 ( STRING_1 ) . format ( VAR_1 [ ( ( type ) - 1 ) ] . getime ( ) ) ; }\n",
      "\n",
      "\n",
      "Finding duplicates...\n",
      "Prev and updated matching\n",
      "Found 0 duplicates\n",
      "Samples\n"
     ]
    }
   ],
   "source": [
    "find_duplicates_fast(TUFANO_BUG_FIXES_0_50['train'], TUFANO_BUG_FIXES_0_50['test'])"
   ]
  },
  {
   "cell_type": "code",
   "execution_count": 74,
   "metadata": {},
   "outputs": [],
   "source": [
    "def find_duplicates_for_dataset(dataset_root):\n",
    "    datasets = load_datasets(dataset_root)\n",
    "    print('train vs test')\n",
    "    find_duplicates_fast(datasets['train'], datasets['test'])"
   ]
  },
  {
   "cell_type": "code",
   "execution_count": 75,
   "metadata": {},
   "outputs": [
    {
     "name": "stdout",
     "output_type": "stream",
     "text": [
      "train vs test\n",
      "\n",
      "Finding duplicates...\n",
      "Prev matching\n",
      "Found 1 duplicates\n",
      "Samples\n",
      "public java.lang.String METHOD_1 ( ) { return new TYPE_1 ( STRING_1 ) . format ( VAR_1 [ ( ( VAR_1 . length ) - 1 ) ] . getTime ( ) ) ; }\n",
      "public java.lang.String METHOD_1 ( ) { return new TYPE_1 ( STRING_1 ) . format ( VAR_1 [ ( ( type ) - 1 ) ] . getime ( ) ) ; }\n",
      "\n",
      "\n",
      "Finding duplicates...\n",
      "Prev and updated matching\n",
      "Found 0 duplicates\n",
      "Samples\n"
     ]
    }
   ],
   "source": [
    "find_duplicates_for_dataset('../embeddings-for-code-diffs-data/datasets/java/tufano_bug_fixes/0_50_copy')"
   ]
  },
  {
   "cell_type": "code",
   "execution_count": 86,
   "metadata": {},
   "outputs": [],
   "source": [
    "def find_duplicates_for_datasets(dataset_roots):\n",
    "    for dataset_root in dataset_roots:\n",
    "        print(f'\\nNEW DATASET: {dataset_root}')\n",
    "        find_duplicates_for_dataset(dataset_root)\n",
    "        print('-------------------------------------------------------------')"
   ]
  },
  {
   "cell_type": "code",
   "execution_count": 87,
   "metadata": {},
   "outputs": [],
   "source": [
    "DATASET_ROOTS_TO_CHECK = [\n",
    "    '../embeddings-for-code-diffs-data/datasets/java/tufano_bug_fixes/0_50',\n",
    "    '../embeddings-for-code-diffs-data/datasets/java/tufano_bug_fixes/50_100',\n",
    "    '../embeddings-for-code-diffs-data/datasets/java/tufano_code_changes/0_50',\n",
    "    '../embeddings-for-code-diffs-data/datasets/java/tufano_code_changes/50_100',\n",
    "]"
   ]
  },
  {
   "cell_type": "code",
   "execution_count": 88,
   "metadata": {},
   "outputs": [
    {
     "name": "stdout",
     "output_type": "stream",
     "text": [
      "\n",
      "NEW DATASET: ../embeddings-for-code-diffs-data/datasets/java/tufano_bug_fixes/0_50\n",
      "train vs test\n",
      "\n",
      "Finding duplicates...\n",
      "Prev matching\n",
      "Found 0 duplicates\n",
      "Samples\n",
      "\n",
      "Finding duplicates...\n",
      "Prev and updated matching\n",
      "Found 0 duplicates\n",
      "Samples\n",
      "-------------------------------------------------------------\n",
      "\n",
      "NEW DATASET: ../embeddings-for-code-diffs-data/datasets/java/tufano_bug_fixes/50_100\n",
      "train vs test\n",
      "\n",
      "Finding duplicates...\n",
      "Prev matching\n",
      "Found 0 duplicates\n",
      "Samples\n",
      "\n",
      "Finding duplicates...\n",
      "Prev and updated matching\n",
      "Found 0 duplicates\n",
      "Samples\n",
      "-------------------------------------------------------------\n",
      "\n",
      "NEW DATASET: ../embeddings-for-code-diffs-data/datasets/java/tufano_code_changes/0_50\n",
      "train vs test\n",
      "\n",
      "Finding duplicates...\n",
      "Prev matching\n",
      "Found 13 duplicates\n",
      "Samples\n",
      "TYPE_1 < TYPE_2 > METHOD_1 ( TYPE_3 VAR_1 ) ;\n",
      "TYPE_1 < TYPE_2 > get ( TYPE_3 VAR_1 ) ;\n",
      "\n",
      "public void METHOD_1 ( boolean VAR_1 ) { this . VAR_2 = VAR_1 ; }\n",
      "public void METHOD_1 ( boolean VAR_1 ) { VAR_2 = VAR_1 ; }\n",
      "\n",
      "public TYPE_1 METHOD_1 ( ) { this . VAR_1 = true ; return this ; }\n",
      "public TYPE_1 METHOD_1 ( boolean VAR_1 ) { this . VAR_1 = VAR_1 ; return this ; }\n",
      "\n",
      "public void METHOD_1 ( ) { TYPE_1 . METHOD_2 ( ) ; }\n",
      "public void METHOD_1 ( ) { METHOD_2 ( ) ; }\n",
      "\n",
      "public TYPE_1 METHOD_1 ( ) { return VAR_1 . METHOD_1 ( ) ; }\n",
      "public TYPE_1 METHOD_1 ( android.bluetooth.BluetoothDevice device ) { return VAR_1 . METHOD_1 ( device ) ; }\n",
      "\n",
      "\n",
      "Finding duplicates...\n",
      "Prev and updated matching\n",
      "Found 2 duplicates\n",
      "Samples\n",
      "public void METHOD_1 ( boolean VAR_1 ) { this . VAR_2 = VAR_1 ; }\n",
      "public void METHOD_1 ( boolean VAR_1 ) { VAR_2 = VAR_1 ; }\n",
      "\n",
      "public boolean METHOD_1 ( ) { return false ; }\n",
      "public boolean METHOD_1 ( ) { return true ; }\n",
      "\n",
      "-------------------------------------------------------------\n",
      "\n",
      "NEW DATASET: ../embeddings-for-code-diffs-data/datasets/java/tufano_code_changes/50_100\n",
      "train vs test\n",
      "\n",
      "Finding duplicates...\n",
      "Prev matching\n",
      "Found 0 duplicates\n",
      "Samples\n",
      "\n",
      "Finding duplicates...\n",
      "Prev and updated matching\n",
      "Found 0 duplicates\n",
      "Samples\n",
      "-------------------------------------------------------------\n"
     ]
    }
   ],
   "source": [
    "find_duplicates_for_datasets(DATASET_ROOTS_TO_CHECK)"
   ]
  },
  {
   "cell_type": "code",
   "execution_count": 85,
   "metadata": {},
   "outputs": [
    {
     "name": "stdout",
     "output_type": "stream",
     "text": [
      "train vs test\n",
      "\n",
      "Finding duplicates...\n",
      "Prev matching\n",
      "Found 49 duplicates\n",
      "Samples\n",
      "public boolean METHOD_1 ( TYPE_1 node ) { if ( ( ( this . VAR_1 . x ) == ( node . x ) ) && ( ( this . VAR_1 . y ) <= ( node . y ) ) ) return true ; else return false ; }\n",
      "public boolean METHOD_1 ( TYPE_1 node ) { if ( ( ( this . VAR_1 . x ) == ( node . x ) ) && ( ( this . VAR_1 . y ) == ( node . y ) ) ) return true ; else return false ; }\n",
      "\n",
      "public static TYPE_1 METHOD_1 ( final float min , final float VAR_1 ) { return TYPE_2 . METHOD_2 ( new TYPE_3 ( VAR_1 , VAR_1 ) ) . msg ( ( ( ( ( STRING_1 + min ) + STRING_2 ) + VAR_1 ) + STRING_3 ) ) ; }\n",
      "public static TYPE_1 METHOD_1 ( final float min , final float VAR_1 ) { return TYPE_2 . METHOD_2 ( new TYPE_3 ( min , VAR_1 ) ) . msg ( ( ( ( ( STRING_1 + min ) + STRING_2 ) + VAR_1 ) + STRING_3 ) ) ; }\n",
      "\n",
      "public void METHOD_1 ( TYPE_1 VAR_1 , java.util.List < TYPE_1 > VAR_2 ) { super . METHOD_1 ( VAR_1 , VAR_2 ) ; VAR_3 . error ( STRING_1 , METHOD_2 ( ) ) ; METHOD_3 ( ) . METHOD_4 ( ) ; TYPE_2 . METHOD_5 ( VAR_1 ) ; }\n",
      "public void METHOD_1 ( TYPE_1 VAR_1 , java.util.List < TYPE_1 > VAR_2 ) { super . METHOD_1 ( VAR_1 , VAR_2 ) ; VAR_3 . info ( STRING_1 , METHOD_2 ( ) ) ; METHOD_3 ( ) . METHOD_4 ( ) ; TYPE_2 . METHOD_5 ( VAR_1 ) ; }\n",
      "\n",
      "public boolean METHOD_1 ( java.lang.String VAR_1 , java.lang.String VAR_2 , TYPE_1 data ) { if ( ! ( VAR_1 . equals ( STRING_1 ) ) ) return false ; java.lang.String [ ] VAR_3 = VAR_2 . split ( \"\\n\" ) ; return METHOD_2 ( VAR_3 , data ) ; }\n",
      "public boolean METHOD_1 ( java.lang.String VAR_1 , java.lang.String VAR_2 , TYPE_1 data ) { if ( ! ( VAR_1 . startsWith ( STRING_1 ) ) ) return false ; java.lang.String [ ] VAR_3 = VAR_2 . split ( \"\\n\" ) ; return METHOD_2 ( VAR_3 , data ) ; }\n",
      "\n",
      "public void METHOD_1 ( android.view.View VAR_1 ) { VAR_2 = VAR_3 . METHOD_2 ( ) ; VAR_4 = VAR_2 . METHOD_3 ( ) . METHOD_4 ( ) ; if ( ( VAR_4 ) == null ) { VAR_5 = false ; VAR_6 . METHOD_5 ( VAR_5 ) ; } }\n",
      "public void METHOD_1 ( android.view.View VAR_1 ) { VAR_2 = VAR_3 . METHOD_2 ( ) ; VAR_4 = VAR_2 . METHOD_3 ( ) . METHOD_4 ( ) ; if ( ( VAR_4 ) == null ) { VAR_5 = false ; VAR_6 . METHOD_5 ( false ) ; } }\n",
      "\n",
      "\n",
      "Finding duplicates...\n",
      "Prev and updated matching\n",
      "Found 48 duplicates\n",
      "Samples\n",
      "private int METHOD_1 ( java.lang.String key ) { final int VAR_1 = ( java.lang.Math.abs ( key . METHOD_2 ( ) ) ) % ( VAR_2 ) ; try { return VAR_3 . getColor ( VAR_1 , VAR_4 ) ; } finally { VAR_3 . METHOD_3 ( ) ; } }\n",
      "public int METHOD_1 ( java.lang.String key ) { final int VAR_1 = ( java.lang.Math.abs ( key . METHOD_2 ( ) ) ) % ( VAR_2 ) ; try { return VAR_3 . getColor ( VAR_1 , VAR_4 ) ; } finally { VAR_3 . METHOD_3 ( ) ; } }\n",
      "\n",
      "public void METHOD_1 ( float x , float y , int VAR_1 ) { if ( ( index ) == ( - 1 ) ) { return ; } TYPE_1 . METHOD_2 ( VAR_2 . METHOD_3 ( index ) , VAR_3 , x , y , VAR_1 ) ; }\n",
      "public void METHOD_1 ( float x , float y , float VAR_1 ) { if ( ( index ) == ( - 1 ) ) { return ; } TYPE_1 . METHOD_2 ( VAR_2 . METHOD_3 ( index ) , VAR_3 , x , y , VAR_1 ) ; }\n",
      "\n",
      "private boolean METHOD_1 ( TYPE_1 node ) { TYPE_2 VAR_1 = new TYPE_2 ( VAR_2 . METHOD_2 ( ) ) ; VAR_2 . METHOD_3 ( VAR_1 ) ; boolean VAR_3 = METHOD_4 ( node . METHOD_5 ( ) ) ; VAR_2 . METHOD_6 ( ) ; return VAR_3 ; }\n",
      "protected boolean METHOD_1 ( TYPE_1 node ) { TYPE_2 VAR_1 = new TYPE_2 ( VAR_2 . METHOD_2 ( ) ) ; VAR_2 . METHOD_3 ( VAR_1 ) ; boolean VAR_3 = METHOD_4 ( node . METHOD_5 ( ) ) ; VAR_2 . METHOD_6 ( ) ; return VAR_3 ; }\n",
      "\n",
      "public int put ( final TYPE_1 list ) throws java.lang.NullPointerException { if ( list == null ) throw new java.lang.NullPointerException ( ) ; final int result = this . VAR_1 . size ( ) ; this . VAR_1 . add ( result , list ) ; return result ; }\n",
      "protected int put ( final TYPE_1 list ) throws java.lang.NullPointerException { if ( list == null ) throw new java.lang.NullPointerException ( ) ; final int result = this . VAR_1 . size ( ) ; this . VAR_1 . add ( result , list ) ; return result ; }\n",
      "\n",
      "public void METHOD_1 ( android.view.View VAR_1 ) { if ( VAR_2 . METHOD_2 ( ) ) { VAR_2 . METHOD_3 ( false ) ; METHOD_4 ( VAR_3 , false ) ; } else { VAR_2 . METHOD_3 ( true ) ; METHOD_4 ( VAR_3 , false ) ; } }\n",
      "public void METHOD_1 ( android.view.View VAR_1 ) { if ( VAR_2 . METHOD_2 ( ) ) { VAR_2 . METHOD_3 ( false ) ; METHOD_4 ( VAR_3 , false ) ; } else { VAR_2 . METHOD_3 ( true ) ; METHOD_4 ( VAR_3 , true ) ; } }\n",
      "\n"
     ]
    }
   ],
   "source": [
    "find_duplicates_for_dataset('../embeddings-for-code-diffs-data/datasets/java/tufano_bug_fixes/0_100')"
   ]
  },
  {
   "cell_type": "code",
   "execution_count": null,
   "metadata": {},
   "outputs": [],
   "source": []
  }
 ],
 "metadata": {
  "kernelspec": {
   "display_name": "Python 3",
   "language": "python",
   "name": "python3"
  },
  "language_info": {
   "codemirror_mode": {
    "name": "ipython",
    "version": 3
   },
   "file_extension": ".py",
   "mimetype": "text/x-python",
   "name": "python",
   "nbconvert_exporter": "python",
   "pygments_lexer": "ipython3",
   "version": "3.6.9"
  }
 },
 "nbformat": 4,
 "nbformat_minor": 2
}
