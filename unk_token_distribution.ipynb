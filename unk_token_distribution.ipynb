{
 "cells": [
  {
   "cell_type": "code",
   "execution_count": 1,
   "metadata": {},
   "outputs": [],
   "source": [
    "%load_ext autoreload\n",
    "%autoreload 2"
   ]
  },
  {
   "cell_type": "code",
   "execution_count": 41,
   "metadata": {},
   "outputs": [],
   "source": [
    "import os\n",
    "from pathlib import Path\n",
    "import torch\n",
    "from torchtext import data\n",
    "from neural_editor.seq2seq.train import load_data, load_tufano_dataset\n",
    "from neural_editor.seq2seq.config import load_config\n",
    "from neural_editor.seq2seq.train_utils import greedy_decode, remove_eos, lookup_words, calculate_accuracy\n",
    "from neural_editor.seq2seq.datasets.dataset_utils import take_part_from_dataset\n",
    "from neural_editor.seq2seq.train_utils import rebatch\n",
    "import numpy as np"
   ]
  },
  {
   "cell_type": "code",
   "execution_count": 3,
   "metadata": {},
   "outputs": [],
   "source": [
    "RESULTS_ROOT = '/home/mikhail/Documents/Development/embeddings-for-code-diffs-data/experiment_20'"
   ]
  },
  {
   "cell_type": "code",
   "execution_count": 4,
   "metadata": {},
   "outputs": [],
   "source": [
    "CONFIG = load_config(False, Path(os.path.join(RESULTS_ROOT, 'config.pkl')))"
   ]
  },
  {
   "cell_type": "code",
   "execution_count": 5,
   "metadata": {},
   "outputs": [
    {
     "name": "stdout",
     "output_type": "stream",
     "text": [
      "Data set sizes (number of sentence pairs):\n",
      "train 8793\n",
      "valid 1100\n",
      "test 1098 \n",
      "\n",
      "First training example:\n",
      "src: public void METHOD_1 ( ) { TYPE_1 VAR_1 = new TYPE_1 ( ) ; byte [ ] VAR_2 = TYPE_2 . METHOD_2 ( ) ; VAR_1 . METHOD_3 ( VAR_2 , 0 , VAR_2 . length ) ; org.junit.Assert.assertEquals ( STRING_1 , VAR_1 . METHOD_4 ( ) . get ( STRING_2 ) ) ; }\n",
      "trg: public void METHOD_1 ( ) { TYPE_1 VAR_1 = new TYPE_1 ( ) ; byte [ ] VAR_2 = TYPE_2 . METHOD_2 ( ) ; VAR_1 . METHOD_3 ( VAR_2 , 0 , VAR_2 . length ) ; assertEquals ( STRING_1 , VAR_1 . METHOD_4 ( ) . get ( STRING_2 ) ) ; }\n",
      "diff_alignment: замена\n",
      "diff_prev: org.junit.Assert.assertEquals\n",
      "diff_updated: assertEquals \n",
      "\n",
      "Most common words:\n",
      "         )     194026\n",
      "         (     193976\n",
      "         .      92332\n",
      "         ;      82530\n",
      "   паддинг      54790\n",
      "         ,      54180\n",
      "         {      42036\n",
      "         }      41868\n",
      "     VAR_1      41750\n",
      "  удаление      41184 \n",
      "\n",
      "First 10 words:\n",
      "00 <unk>\n",
      "01 <pad>\n",
      "02 <s>\n",
      "03 </s>\n",
      "04 )\n",
      "05 (\n",
      "06 .\n",
      "07 ;\n",
      "08 паддинг\n",
      "09 , \n",
      "\n",
      "Special words frequency and ids: \n",
      "<unk> 0 0\n",
      "<pad> 0 1\n",
      "<s> 0 2\n",
      "</s> 0 3\n",
      "замена 8514 35\n",
      "удаление 41184 13\n",
      "добавление 13606 23\n",
      "равенство 0 0\n",
      "паддинг 54790 8\n",
      "Number of words (types): 758\n"
     ]
    }
   ],
   "source": [
    "train_dataset, val_dataset, test_dataset, diffs_field = load_data(verbose=True, config=CONFIG)"
   ]
  },
  {
   "cell_type": "code",
   "execution_count": 15,
   "metadata": {},
   "outputs": [],
   "source": [
    "PAD_INDEX = diffs_field.vocab.stoi[CONFIG['PAD_TOKEN']]\n",
    "SOS_INDEX = diffs_field.vocab.stoi[CONFIG['SOS_TOKEN']]\n",
    "EOS_INDEX = diffs_field.vocab.stoi[CONFIG['EOS_TOKEN']]\n",
    "UNK_INDEX = diffs_field.vocab.stoi[CONFIG['UNK_TOKEN']]"
   ]
  },
  {
   "cell_type": "code",
   "execution_count": 7,
   "metadata": {},
   "outputs": [],
   "source": [
    "CONFIG._CONFIG['DEVICE'] = torch.device('cpu')"
   ]
  },
  {
   "cell_type": "code",
   "execution_count": 9,
   "metadata": {},
   "outputs": [],
   "source": [
    "MODEL = torch.load(os.path.join(RESULTS_ROOT, 'model_best_on_validation.pt'), map_location=CONFIG['DEVICE'])"
   ]
  },
  {
   "cell_type": "code",
   "execution_count": 50,
   "metadata": {},
   "outputs": [],
   "source": [
    "def calculate_unk_tokens(dataset):\n",
    "    iterator = data.Iterator(dataset, batch_size=1, train=False,\n",
    "                             repeat=False,\n",
    "                             sort=False,\n",
    "                             device=CONFIG['DEVICE'])\n",
    "    src_unk = 0\n",
    "    trg_unk = 0\n",
    "    examples_containing_unk = 0\n",
    "    src_total = 0\n",
    "    trg_total = 0\n",
    "    for batch in iterator:\n",
    "        src_unk += (batch.src[0][0] == UNK_INDEX).sum()\n",
    "        trg_unk += (batch.trg[0][0] == UNK_INDEX).sum()\n",
    "        examples_containing_unk += 1 if (batch.src[0][0] == UNK_INDEX).sum() + (batch.trg[0][0] == UNK_INDEX).sum() > 0 else 0\n",
    "        src_total += len(batch.src[0][0]) - 2\n",
    "        trg_total += len(batch.trg[0][0]) - 2\n",
    "    print(f'Src prob: {src_unk.item() / src_total}')\n",
    "    print(f'Trg prob: {trg_unk.item() / trg_total}')\n",
    "    print(f'Total prob: {(src_unk.item() + trg_unk.item()) / (src_total + trg_total)}')\n",
    "    print(f'Examples with unk: {examples_containing_unk} / {len(dataset)} = {examples_containing_unk / len(dataset)}')\n",
    "    return (src_unk.item(), src_total), (trg_unk.item(), trg_total), (examples_containing_unk, len(dataset))"
   ]
  },
  {
   "cell_type": "code",
   "execution_count": 51,
   "metadata": {},
   "outputs": [
    {
     "name": "stdout",
     "output_type": "stream",
     "text": [
      "Src prob: 0.0001451835361869964\n",
      "Trg prob: 0.00015166835187057634\n",
      "Total prob: 0.000148355112688071\n",
      "Examples with unk: 3 / 1098 = 0.00273224043715847\n"
     ]
    },
    {
     "data": {
      "text/plain": [
       "((12, 82654), (12, 79120), (3, 1098))"
      ]
     },
     "execution_count": 51,
     "metadata": {},
     "output_type": "execute_result"
    }
   ],
   "source": [
    "calculate_unk_tokens(test_dataset)"
   ]
  },
  {
   "cell_type": "code",
   "execution_count": 52,
   "metadata": {},
   "outputs": [
    {
     "name": "stdout",
     "output_type": "stream",
     "text": [
      "Src prob: 0.00016737602218927836\n",
      "Trg prob: 0.00018895257290420104\n",
      "Total prob: 0.00017788246262934816\n",
      "Examples with unk: 10 / 1100 = 0.00909090909090909\n"
     ]
    },
    {
     "data": {
      "text/plain": [
       "((14, 83644), (15, 79385), (10, 1100))"
      ]
     },
     "execution_count": 52,
     "metadata": {},
     "output_type": "execute_result"
    }
   ],
   "source": [
    "calculate_unk_tokens(val_dataset)"
   ]
  },
  {
   "cell_type": "code",
   "execution_count": 53,
   "metadata": {},
   "outputs": [
    {
     "name": "stdout",
     "output_type": "stream",
     "text": [
      "Src prob: 0.0\n",
      "Trg prob: 0.0\n",
      "Total prob: 0.0\n",
      "Examples with unk: 0 / 8793 = 0.0\n"
     ]
    },
    {
     "data": {
      "text/plain": [
       "((0, 656447), (0, 628869), (0, 8793))"
      ]
     },
     "execution_count": 53,
     "metadata": {},
     "output_type": "execute_result"
    }
   ],
   "source": [
    "calculate_unk_tokens(train_dataset)"
   ]
  },
  {
   "cell_type": "code",
   "execution_count": 43,
   "metadata": {},
   "outputs": [],
   "source": [
    "tufano_bug_fixes_0_50_dataset_train, tufano_bug_fixes_0_50_dataset_val, tufano_bug_fixes_0_50_dataset_test = \\\n",
    "        load_tufano_dataset(CONFIG['TUFANO_BUG_FIXES_0_50_PATH'], diffs_field, CONFIG)\n",
    "tufano_bug_fixes_50_100_dataset_train, tufano_bug_fixes_50_100_dataset_val, tufano_bug_fixes_50_100_dataset_test = \\\n",
    "    load_tufano_dataset(CONFIG['TUFANO_BUG_FIXES_50_100_PATH'], diffs_field, CONFIG)\n",
    "tufano_code_changes_0_50_dataset_train, tufano_code_changes_0_50_dataset_val, tufano_code_changes_0_50_dataset_test = \\\n",
    "    load_tufano_dataset(CONFIG['TUFANO_CODE_CHANGES_0_50_PATH'], diffs_field, CONFIG)\n",
    "tufano_code_changes_50_100_dataset_train, tufano_code_changes_50_100_dataset_val, tufano_code_changes_50_100_dataset_test = \\\n",
    "    load_tufano_dataset(CONFIG['TUFANO_CODE_CHANGES_50_100_PATH'], diffs_field, CONFIG)"
   ]
  },
  {
   "cell_type": "code",
   "execution_count": 54,
   "metadata": {},
   "outputs": [
    {
     "name": "stdout",
     "output_type": "stream",
     "text": [
      "Src prob: 0.014737728950073298\n",
      "Trg prob: 0.015802480449206367\n",
      "Total prob: 0.01524560801771845\n",
      "Examples with unk: 15234 / 46680 = 0.3263496143958869\n"
     ]
    },
    {
     "data": {
      "text/plain": [
       "((21866, 1483675), (21383, 1353142), (15234, 46680))"
      ]
     },
     "execution_count": 54,
     "metadata": {},
     "output_type": "execute_result"
    }
   ],
   "source": [
    "calculate_unk_tokens(tufano_bug_fixes_0_50_dataset_train)"
   ]
  },
  {
   "cell_type": "code",
   "execution_count": 55,
   "metadata": {},
   "outputs": [
    {
     "name": "stdout",
     "output_type": "stream",
     "text": [
      "Src prob: 0.014723781641921492\n",
      "Trg prob: 0.015810137295467368\n",
      "Total prob: 0.01524204741409525\n",
      "Examples with unk: 1905 / 5835 = 0.3264781491002571\n"
     ]
    },
    {
     "data": {
      "text/plain": [
       "((2746, 186501), (2690, 170144), (1905, 5835))"
      ]
     },
     "execution_count": 55,
     "metadata": {},
     "output_type": "execute_result"
    }
   ],
   "source": [
    "calculate_unk_tokens(tufano_bug_fixes_0_50_dataset_val)"
   ]
  },
  {
   "cell_type": "code",
   "execution_count": 56,
   "metadata": {},
   "outputs": [
    {
     "name": "stdout",
     "output_type": "stream",
     "text": [
      "Src prob: 0.014143485416722877\n",
      "Trg prob: 0.01542370878146791\n",
      "Total prob: 0.014754537633802023\n",
      "Examples with unk: 1918 / 5835 = 0.32870608397600687\n"
     ]
    },
    {
     "data": {
      "text/plain": [
       "((2621, 185315), (2610, 169220), (1918, 5835))"
      ]
     },
     "execution_count": 56,
     "metadata": {},
     "output_type": "execute_result"
    }
   ],
   "source": [
    "calculate_unk_tokens(tufano_bug_fixes_0_50_dataset_test)"
   ]
  },
  {
   "cell_type": "code",
   "execution_count": 63,
   "metadata": {},
   "outputs": [
    {
     "name": "stdout",
     "output_type": "stream",
     "text": [
      "Src prob: 0.014354252969446419\n",
      "Trg prob: 0.01484665783896647\n",
      "Total prob: 0.014598006636795877\n",
      "Examples with unk: 25294 / 52364 = 0.48304178443205253\n"
     ]
    },
    {
     "data": {
      "text/plain": [
       "((56131, 3910409), (56913, 3833388), (25294, 52364))"
      ]
     },
     "execution_count": 63,
     "metadata": {},
     "output_type": "execute_result"
    }
   ],
   "source": [
    "calculate_unk_tokens(tufano_bug_fixes_50_100_dataset_train)"
   ]
  },
  {
   "cell_type": "code",
   "execution_count": 64,
   "metadata": {},
   "outputs": [
    {
     "name": "stdout",
     "output_type": "stream",
     "text": [
      "Src prob: 0.014083816381196787\n",
      "Trg prob: 0.014586544469902103\n",
      "Total prob: 0.014332762264485672\n",
      "Examples with unk: 3181 / 6546 = 0.48594561564314087\n"
     ]
    },
    {
     "data": {
      "text/plain": [
       "((6893, 489427), (7003, 480100), (3181, 6546))"
      ]
     },
     "execution_count": 64,
     "metadata": {},
     "output_type": "execute_result"
    }
   ],
   "source": [
    "calculate_unk_tokens(tufano_bug_fixes_50_100_dataset_val)"
   ]
  },
  {
   "cell_type": "code",
   "execution_count": 65,
   "metadata": {},
   "outputs": [
    {
     "name": "stdout",
     "output_type": "stream",
     "text": [
      "Src prob: 0.014637762099920333\n",
      "Trg prob: 0.015096981857704205\n",
      "Total prob: 0.014865329560379007\n",
      "Examples with unk: 3149 / 6545 = 0.48113063407181056\n"
     ]
    },
    {
     "data": {
      "text/plain": [
       "((7129, 487028), (7223, 478440), (3149, 6545))"
      ]
     },
     "execution_count": 65,
     "metadata": {},
     "output_type": "execute_result"
    }
   ],
   "source": [
    "calculate_unk_tokens(tufano_bug_fixes_50_100_dataset_test)"
   ]
  },
  {
   "cell_type": "code",
   "execution_count": 57,
   "metadata": {
    "scrolled": true
   },
   "outputs": [
    {
     "name": "stdout",
     "output_type": "stream",
     "text": [
      "Src prob: 0.0009798628931468759\n",
      "Trg prob: 0.0012938189629918954\n",
      "Total prob: 0.001129341572554869\n",
      "Examples with unk: 337 / 8627 = 0.03906340558711024\n"
     ]
    },
    {
     "data": {
      "text/plain": [
       "((265, 270446), (318, 245784), (337, 8627))"
      ]
     },
     "execution_count": 57,
     "metadata": {},
     "output_type": "execute_result"
    }
   ],
   "source": [
    "calculate_unk_tokens(tufano_code_changes_0_50_dataset_train)"
   ]
  },
  {
   "cell_type": "code",
   "execution_count": 59,
   "metadata": {},
   "outputs": [
    {
     "name": "stdout",
     "output_type": "stream",
     "text": [
      "Src prob: 0.0009474182851729038\n",
      "Trg prob: 0.0013551927017914987\n",
      "Total prob: 0.0011400905825394347\n",
      "Examples with unk: 43 / 1079 = 0.03985171455050973\n"
     ]
    },
    {
     "data": {
      "text/plain": [
       "((32, 33776), (41, 30254), (43, 1079))"
      ]
     },
     "execution_count": 59,
     "metadata": {},
     "output_type": "execute_result"
    }
   ],
   "source": [
    "calculate_unk_tokens(tufano_code_changes_0_50_dataset_val)"
   ]
  },
  {
   "cell_type": "code",
   "execution_count": 60,
   "metadata": {},
   "outputs": [
    {
     "name": "stdout",
     "output_type": "stream",
     "text": [
      "Src prob: 0.0007237146827234831\n",
      "Trg prob: 0.001156849513159163\n",
      "Total prob: 0.000928985882460442\n",
      "Examples with unk: 38 / 1077 = 0.035283194057567316\n"
     ]
    },
    {
     "data": {
      "text/plain": [
       "((25, 34544), (36, 31119), (38, 1077))"
      ]
     },
     "execution_count": 60,
     "metadata": {},
     "output_type": "execute_result"
    }
   ],
   "source": [
    "calculate_unk_tokens(tufano_code_changes_0_50_dataset_test)"
   ]
  },
  {
   "cell_type": "code",
   "execution_count": 58,
   "metadata": {
    "scrolled": true
   },
   "outputs": [
    {
     "name": "stdout",
     "output_type": "stream",
     "text": [
      "Src prob: 0.0\n",
      "Trg prob: 0.0\n",
      "Total prob: 0.0\n",
      "Examples with unk: 0 / 8793 = 0.0\n"
     ]
    },
    {
     "data": {
      "text/plain": [
       "((0, 656447), (0, 628869), (0, 8793))"
      ]
     },
     "execution_count": 58,
     "metadata": {},
     "output_type": "execute_result"
    }
   ],
   "source": [
    "calculate_unk_tokens(tufano_code_changes_50_100_dataset_train)"
   ]
  },
  {
   "cell_type": "code",
   "execution_count": 61,
   "metadata": {},
   "outputs": [
    {
     "name": "stdout",
     "output_type": "stream",
     "text": [
      "Src prob: 0.00016737602218927836\n",
      "Trg prob: 0.00018895257290420104\n",
      "Total prob: 0.00017788246262934816\n",
      "Examples with unk: 10 / 1100 = 0.00909090909090909\n"
     ]
    },
    {
     "data": {
      "text/plain": [
       "((14, 83644), (15, 79385), (10, 1100))"
      ]
     },
     "execution_count": 61,
     "metadata": {},
     "output_type": "execute_result"
    }
   ],
   "source": [
    "calculate_unk_tokens(tufano_code_changes_50_100_dataset_val)"
   ]
  },
  {
   "cell_type": "code",
   "execution_count": 62,
   "metadata": {},
   "outputs": [
    {
     "name": "stdout",
     "output_type": "stream",
     "text": [
      "Src prob: 0.0001451835361869964\n",
      "Trg prob: 0.00015166835187057634\n",
      "Total prob: 0.000148355112688071\n",
      "Examples with unk: 3 / 1098 = 0.00273224043715847\n"
     ]
    },
    {
     "data": {
      "text/plain": [
       "((12, 82654), (12, 79120), (3, 1098))"
      ]
     },
     "execution_count": 62,
     "metadata": {},
     "output_type": "execute_result"
    }
   ],
   "source": [
    "calculate_unk_tokens(tufano_code_changes_50_100_dataset_test)"
   ]
  },
  {
   "cell_type": "code",
   "execution_count": null,
   "metadata": {},
   "outputs": [],
   "source": []
  }
 ],
 "metadata": {
  "kernelspec": {
   "display_name": "Python 3",
   "language": "python",
   "name": "python3"
  },
  "language_info": {
   "codemirror_mode": {
    "name": "ipython",
    "version": 3
   },
   "file_extension": ".py",
   "mimetype": "text/x-python",
   "name": "python",
   "nbconvert_exporter": "python",
   "pygments_lexer": "ipython3",
   "version": "3.6.9"
  }
 },
 "nbformat": 4,
 "nbformat_minor": 2
}
