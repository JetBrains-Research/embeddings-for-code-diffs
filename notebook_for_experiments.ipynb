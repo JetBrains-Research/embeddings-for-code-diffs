{
 "cells": [
  {
   "cell_type": "code",
   "execution_count": 1,
   "metadata": {},
   "outputs": [],
   "source": [
    "%load_ext autoreload\n",
    "%autoreload 2"
   ]
  },
  {
   "cell_type": "code",
   "execution_count": 2,
   "metadata": {},
   "outputs": [],
   "source": [
    "from neural_editor.seq2seq.train import load_data\n",
    "import os\n",
    "import pickle\n",
    "import pprint\n",
    "import sys\n",
    "\n",
    "import torch\n",
    "from torchtext.data import Dataset\n",
    "\n",
    "from neural_editor.seq2seq.experiments.OneShotLearning import OneShotLearning\n",
    "from neural_editor.seq2seq.test_utils import plot_perplexity, load_defects4j_dataset, output_accuracy_on_defects4j\n",
    "from typing import List\n",
    "\n",
    "import torch\n",
    "from torchtext import data\n",
    "from torchtext.data import Dataset, Field\n",
    "from torchtext.vocab import Vocab\n",
    "\n",
    "from neural_editor.seq2seq import EncoderDecoder\n",
    "from neural_editor.seq2seq.train_config import CONFIG\n",
    "from neural_editor.seq2seq.train_utils import print_examples, rebatch, calculate_accuracy\n",
    "\n",
    "import matplotlib.pyplot as plt\n",
    "import pandas as pd\n",
    "import seaborn as sns\n",
    "import torch\n",
    "from sklearn.decomposition import PCA\n",
    "from sklearn.manifold import TSNE\n",
    "import numpy as np"
   ]
  },
  {
   "cell_type": "code",
   "execution_count": 3,
   "metadata": {},
   "outputs": [],
   "source": [
    "RESULTS_ROOT = '/home/mikhail/Documents/Development/embeddings-for-code-diffs-data/experiment_2_basic_seq2seq'"
   ]
  },
  {
   "cell_type": "code",
   "execution_count": 4,
   "metadata": {},
   "outputs": [
    {
     "name": "stdout",
     "output_type": "stream",
     "text": [
      "Data set sizes (number of sentence pairs):\n",
      "train 46680\n",
      "valid 5835\n",
      "test 5835 \n",
      "\n",
      "First training example:\n",
      "src: public java.lang.String METHOD_1 ( ) { return new TYPE_1 ( STRING_1 ) . format ( VAR_1 [ ( ( VAR_1 . length ) - 1 ) ] . getTime ( ) ) ; }\n",
      "trg: public java.lang.String METHOD_1 ( ) { return new TYPE_1 ( STRING_1 ) . format ( VAR_1 [ ( ( type ) - 1 ) ] . getTime ( ) ) ; }\n",
      "diff_alignment: равенство равенство равенство равенство равенство равенство равенство равенство равенство равенство равенство равенство равенство равенство равенство равенство равенство равенство равенство удаление удаление замена равенство равенство равенство равенство равенство равенство равенство равенство равенство равенство равенство равенство\n",
      "diff_prev: public java.lang.String METHOD_1 ( ) { return new TYPE_1 ( STRING_1 ) . format ( VAR_1 [ ( ( VAR_1 . length ) - 1 ) ] . getTime ( ) ) ; }\n",
      "diff_updated: public java.lang.String METHOD_1 ( ) { return new TYPE_1 ( STRING_1 ) . format ( VAR_1 [ ( ( паддинг паддинг type ) - 1 ) ] . getTime ( ) ) ; } \n",
      "\n",
      "Most common words:\n",
      " равенство    1232667\n",
      "         (     759658\n",
      "         )     759658\n",
      "         ;     379192\n",
      "   паддинг     303839\n",
      "     VAR_1     300792\n",
      "         .     293592\n",
      "         {     243120\n",
      "         }     243120\n",
      "  удаление     217186 \n",
      "\n",
      "First 10 words:\n",
      "00 <unk>\n",
      "01 <pad>\n",
      "02 <s>\n",
      "03 </s>\n",
      "04 равенство\n",
      "05 (\n",
      "06 )\n",
      "07 ;\n",
      "08 паддинг\n",
      "09 VAR_1 \n",
      "\n",
      "Special words frequency and ids: \n",
      "<unk> 0 0\n",
      "<pad> 0 1\n",
      "<s> 0 2\n",
      "</s> 0 3\n",
      "замена 33822 34\n",
      "удаление 217186 13\n",
      "добавление 86653 23\n",
      "равенство 1232667 4\n",
      "паддинг 303839 8\n",
      "Number of words (types): 438\n"
     ]
    }
   ],
   "source": [
    "train_dataset, val_dataset, test_dataset, diffs_field = load_data(verbose=True)"
   ]
  },
  {
   "cell_type": "code",
   "execution_count": 5,
   "metadata": {},
   "outputs": [],
   "source": [
    "defects4j_dataset, defects4j_classes = load_defects4j_dataset(diffs_field)"
   ]
  },
  {
   "cell_type": "code",
   "execution_count": 26,
   "metadata": {},
   "outputs": [],
   "source": [
    "model = torch.load(os.path.join(RESULTS_ROOT, 'model.pt'), map_location=torch.device('cpu'))\n",
    "model.eval()\n",
    "model.unset_edit_representation()"
   ]
  },
  {
   "cell_type": "code",
   "execution_count": 7,
   "metadata": {},
   "outputs": [],
   "source": [
    "one_shot_learning_experiment = OneShotLearning(model, diffs_field)"
   ]
  },
  {
   "cell_type": "code",
   "execution_count": 8,
   "metadata": {},
   "outputs": [
    {
     "name": "stdout",
     "output_type": "stream",
     "text": [
      "Start conducting one shot learning experiment for Defects4J...\n",
      "Accuracy on Defects4J for same edit representations: 0.0 / 8 = 0.0\n",
      "Accuracy on Defects4J for other edit representations: 0.0 / 12 = 0.0\n",
      "================\n",
      "Correct Examples\n",
      "================\n",
      "================\n",
      "Incorrect Examples\n",
      "Class: ['condBlockExcAdd']\n",
      "Golden example (False):\n",
      "\u001b[31mExample #1\u001b[0m\n",
      "Src : public static long METHOD_1 ( long VAR_1 , int VAR_2 ) { switch ( VAR_2 ) { case - 1 : return - VAR_1 ; case 0 : return 0L ; case 1 : return VAR_1 ; } long VAR_3 = VAR_1 * VAR_2 ; if ( VAR_3 / VAR_2 != VAR_1 ) { throw new TYPE_1 ( STRING_1 + VAR_1 + STRING_2 + VAR_2 ) ; } return VAR_3 ; }\u001b[0m\n",
      "Trg : public static long METHOD_1 ( long VAR_1 , int VAR_2 ) { switch ( VAR_2 ) { case - 1 : if ( VAR_1 == VAR_4 ) { throw new TYPE_1 ( STRING_1 + VAR_1 + STRING_2 + VAR_2 ) ; } return - VAR_1 ; case 0 : return 0L ; case 1 : return VAR_1 ; } long VAR_3 = VAR_1 * VAR_2 ; if ( VAR_3 / VAR_2 != VAR_1 ) { throw new TYPE_1 ( STRING_1 + VAR_1 + STRING_2 + VAR_2 ) ; } return VAR_3 ; }\u001b[0m\n",
      "Pred: public static long long long long long int int int VAR_2 VAR_2 VAR_2 VAR_2 VAR_2 ) ) ) ) ) ) ) ) ) ) VAR_2 VAR_2 VAR_2 VAR_2 VAR_2 VAR_2 VAR_2 VAR_2 VAR_2 VAR_2 VAR_2 VAR_2 VAR_2 VAR_2 VAR_2 VAR_2 VAR_2 VAR_2 VAR_2 VAR_2 VAR_2 VAR_2 VAR_2 VAR_2 VAR_2 VAR_2 VAR_2 VAR_2 VAR_2 VAR_2 VAR_2 VAR_2 VAR_2 VAR_2 VAR_2 VAR_2 VAR_2 VAR_2 VAR_2 VAR_2 VAR_2 VAR_2 VAR_2 VAR_2 VAR_2 VAR_2 VAR_2 VAR_2 VAR_2 VAR_2 VAR_2 VAR_2 VAR_2 VAR_2 VAR_2 VAR_2 VAR_2 VAR_2 VAR_2 VAR_2 VAR_2 VAR_2 VAR_2 VAR_2 VAR_2 VAR_2 VAR_2 VAR_2 VAR_2 VAR_2 VAR_2 VAR_2 VAR_2 VAR_2 VAR_2 VAR_2 VAR_2\u001b[0m\n",
      "+++++++++++++++\n",
      "\u001b[31mExample #1\u001b[0m\n",
      "Src : public VAR_1 ( int VAR_2 , int VAR_3 ) { super ( VAR_2 , VAR_3 ) ; this . rows = VAR_2 ; this . VAR_4 = VAR_3 ; this . VAR_5 = new TYPE_1 ( 0.0 ) ; }\u001b[0m\n",
      "Trg : public VAR_1 ( int VAR_2 , int VAR_3 ) { super ( VAR_2 , VAR_3 ) ; long VAR_6 = ( long ) VAR_2 ; long VAR_7 = ( long ) VAR_3 ; if ( VAR_6 * VAR_7 >= ( long ) VAR_8 ) { throw new TYPE_2 ( VAR_6 * VAR_7 , VAR_8 , false ) ; } this . rows = VAR_2 ; this . VAR_4 = VAR_3 ; this . VAR_5 = new TYPE_1 ( 0.0 ) ; }\u001b[0m\n",
      "Pred: public VAR_1 ( int VAR_2 int int VAR_3 VAR_3 VAR_3 ) ) ) ) ) ) ) ) ) ) ) ) ) ) ) ) ) ) ) ) ) ) ) ) ) ) ) ) ) ) ) ) ) ) ) ) ) ) ) ) ) ) ) ) ) ) ) ) ) ) ) ) ) ) ) ) ) ) ) ) ) ) ) ) ) ) ) ) ) ) ) ) ) ) ) ) ) ) ) ) ) ) ) ) ) ) ) ) ) ) ) )\u001b[0m\n",
      "---------------\n",
      "Class: ['condBlockOthersAdd']\n",
      "Golden example (False):\n",
      "\u001b[31mExample #1\u001b[0m\n",
      "Src : void add ( String VAR_1 ) { METHOD_1 ( ) ; if ( VAR_1 . length ( ) == 0 ) { return ; } char c = VAR_1 . METHOD_2 ( 0 ) ; if ( ( METHOD_3 ( c ) || c == CHAR_1 ) && METHOD_3 ( METHOD_4 ( ) ) ) { append ( STRING_1 ) ; } append ( VAR_1 ) ; }\u001b[0m\n",
      "Trg : void add ( String VAR_1 ) { METHOD_1 ( ) ; if ( VAR_1 . length ( ) == 0 ) { return ; } char c = VAR_1 . METHOD_2 ( 0 ) ; if ( ( METHOD_3 ( c ) || c == CHAR_1 ) && METHOD_3 ( METHOD_4 ( ) ) ) { append ( STRING_1 ) ; } else if ( c == CHAR_2 && METHOD_4 ( ) == CHAR_2 ) { append ( STRING_1 ) ; } append ( VAR_1 ) ; }\u001b[0m\n",
      "Pred: void void void ( VAR_1 VAR_1 VAR_1 VAR_1 VAR_1 VAR_1 ) ) ) ) ) ) ) ) ) ) CHAR_1 CHAR_1 CHAR_1 CHAR_1 CHAR_1 CHAR_1 CHAR_1 CHAR_1 CHAR_1 CHAR_1 CHAR_1 CHAR_1 CHAR_1 CHAR_1 CHAR_1 CHAR_1 CHAR_1 CHAR_1 CHAR_1 CHAR_1 CHAR_1 CHAR_1 CHAR_1 CHAR_1 CHAR_1 CHAR_1 CHAR_1 CHAR_1 CHAR_1 CHAR_1 CHAR_1 CHAR_1 CHAR_1 CHAR_1 CHAR_1 CHAR_1 CHAR_1 CHAR_1 CHAR_1 CHAR_1 CHAR_1 CHAR_1 CHAR_1 CHAR_1 CHAR_1 CHAR_1 CHAR_1 CHAR_1 CHAR_1 CHAR_1 CHAR_1 CHAR_1 CHAR_1 CHAR_1 CHAR_1 CHAR_1 CHAR_1 CHAR_1 CHAR_1 CHAR_1 CHAR_1 CHAR_1 CHAR_1 CHAR_1 CHAR_1 CHAR_1 CHAR_1 CHAR_1 CHAR_1 CHAR_1 CHAR_1 CHAR_1 CHAR_1 CHAR_1 CHAR_1 CHAR_1 CHAR_1 CHAR_1 CHAR_1 CHAR_1 CHAR_1 CHAR_1\u001b[0m\n",
      "+++++++++++++++\n",
      "\u001b[31mExample #1\u001b[0m\n",
      "Src : public TYPE_1 METHOD_1 ( ) throws TYPE_2 { return VAR_1 . METHOD_2 ( VAR_2 , VAR_3 ) ; }\u001b[0m\n",
      "Trg : public TYPE_1 METHOD_1 ( ) throws TYPE_2 { if ( this . METHOD_3 ( ) . METHOD_4 ( ) . METHOD_5 ( ) ) { new TYPE_3 ( ) . METHOD_6 ( ) ; } return VAR_1 . METHOD_2 ( VAR_2 , VAR_3 ) ; }\u001b[0m\n",
      "Pred: public TYPE_1 METHOD_1 ( TYPE_2 TYPE_2 TYPE_2 TYPE_2 TYPE_2 VAR_3 VAR_3 VAR_3 VAR_3 VAR_3 VAR_3 VAR_3 VAR_3 VAR_3 VAR_3 VAR_3 VAR_3 VAR_3 VAR_3 VAR_3 VAR_3 VAR_3 VAR_3 VAR_3 VAR_3 VAR_3 VAR_3 VAR_3 VAR_3 VAR_3 VAR_3 VAR_3 VAR_3 VAR_3 ) ) ) ) ) ) ) ) ) ) ) ) ) ) ) ) ) ) ) ) ) ) ) ) ) ) ) ) ) ) ) ) ) ) ) ) ) ) ) ) ) ) ) ) ) ) ) ) ) ) ) ) ) ) ) ) ) ) ) ) ) ) ) )\u001b[0m\n",
      "---------------\n",
      "Class: ['condBlockRetAdd']\n",
      "Golden example (False):\n",
      "\u001b[31mExample #1\u001b[0m\n",
      "Src : public static boolean METHOD_1 ( TYPE_1 VAR_1 , TYPE_1 VAR_2 ) { if ( VAR_1 == null || VAR_2 == null ) { return VAR_1 == null && VAR_2 == null ; } else if ( METHOD_2 ( VAR_1 ) ) { return METHOD_2 ( VAR_2 ) && METHOD_3 ( VAR_1 , VAR_2 ) ; } else { return VAR_1 . equals ( VAR_2 ) ; } }\u001b[0m\n",
      "Trg : public static boolean METHOD_1 ( TYPE_1 VAR_1 , TYPE_1 VAR_2 ) { if ( VAR_1 == VAR_2 ) { return true ; } else if ( VAR_1 == null || VAR_2 == null ) { return VAR_1 == null && VAR_2 == null ; } else if ( METHOD_2 ( VAR_1 ) ) { return METHOD_2 ( VAR_2 ) && METHOD_3 ( VAR_1 , VAR_2 ) ; } else { return VAR_1 . equals ( VAR_2 ) ; } }\u001b[0m\n",
      "Pred: public static boolean TYPE_1 TYPE_1 TYPE_1 TYPE_1 TYPE_1 TYPE_1 TYPE_1 TYPE_1 VAR_2 VAR_2 VAR_2 VAR_2 VAR_2 VAR_2 VAR_2 VAR_2 VAR_2 VAR_2 VAR_2 VAR_2 VAR_2 VAR_2 VAR_2 VAR_2 VAR_2 VAR_2 VAR_2 VAR_2 VAR_2 VAR_2 VAR_2 VAR_2 VAR_2 VAR_2 VAR_2 VAR_2 VAR_2 VAR_2 VAR_2 VAR_2 VAR_2 VAR_2 VAR_2 VAR_2 VAR_2 VAR_2 VAR_2 VAR_2 VAR_2 VAR_2 VAR_2 VAR_2 VAR_2 VAR_2 VAR_2 ) ) ) ) ) ) ) ) ) ) ) ) ) ) ) ) ) ) ) ) ) ) ) ) ) ) ) ) ) ) ) ) ) ) ) ) ) ) ) ) ) ) ) )\u001b[0m\n",
      "+++++++++++++++\n",
      "\u001b[31mExample #1\u001b[0m\n",
      "Src : public TYPE_1 answer ( TYPE_2 VAR_1 ) throws TYPE_3 { return VAR_1 . METHOD_1 ( ) ; }\u001b[0m\n",
      "Trg : public TYPE_1 answer ( TYPE_2 VAR_1 ) throws TYPE_3 { if ( TYPE_4 . METHOD_2 ( VAR_1 . METHOD_3 ( ) . METHOD_4 ( ) ) ) { return new TYPE_5 ( ) . answer ( VAR_1 ) ; } return VAR_1 . METHOD_1 ( ) ; }\u001b[0m\n",
      "Pred: public TYPE_1 TYPE_1 ( TYPE_2 TYPE_2 TYPE_2 TYPE_2 TYPE_3 ) ) ) ) ) VAR_1 VAR_1 VAR_1 ) ) ) ) ) ) ) ) ) ) ) ) ) ) ) ) ) ) ) ) ) ) ) ) ) ) ) ) ) ) ) ) ) ) ) ) ) ) ) ) ) ) ) ) ) ) ) ) ) ) ) ) ) ) ) ) ) ) ) ) ) ) ) ) ) ) ) ) ) ) ) ) ) ) ) ) ) ) ) ) ) ) ) ) )\u001b[0m\n",
      "\u001b[31mExample #2\u001b[0m\n",
      "Src : public TYPE_1 add ( TYPE_1 VAR_1 ) throws TYPE_2 { TYPE_3 . METHOD_1 ( VAR_1 ) ; return METHOD_2 ( VAR_2 + VAR_1 . METHOD_3 ( ) , VAR_3 + VAR_1 . METHOD_4 ( ) ) ; }\u001b[0m\n",
      "Trg : public TYPE_1 add ( TYPE_1 VAR_1 ) throws TYPE_2 { TYPE_3 . METHOD_1 ( VAR_1 ) ; if ( VAR_4 || VAR_5 ) { return VAR_6 ; } return METHOD_2 ( VAR_2 + VAR_1 . METHOD_3 ( ) , VAR_3 + VAR_1 . METHOD_4 ( ) ) ; }\u001b[0m\n",
      "Pred: public TYPE_1 add ( TYPE_1 TYPE_1 VAR_1 VAR_1 VAR_1 VAR_1 VAR_1 VAR_1 VAR_1 VAR_1 VAR_1 VAR_1 VAR_1 VAR_1 VAR_1 VAR_1 VAR_1 VAR_1 VAR_1 VAR_1 VAR_1 VAR_1 VAR_1 VAR_1 VAR_1 VAR_1 VAR_1 VAR_1 VAR_1 VAR_1 VAR_1 VAR_1 ) ) ) ) ) ) ) ) ) ) ) ) ) ) ) ) ) ) ) ) ) VAR_1 VAR_1 VAR_1 VAR_1 VAR_1 VAR_1 VAR_1 VAR_1 VAR_1 VAR_1 VAR_1 VAR_1 VAR_1 VAR_1 VAR_1 VAR_1 VAR_1 VAR_1 VAR_1 VAR_1 VAR_1 VAR_1 VAR_1 VAR_1 VAR_1 VAR_1 VAR_1 ) ) ) ) ) ) ) ) ) ) ) ) ) ) ) ) ) )\u001b[0m\n",
      "\u001b[31mExample #3\u001b[0m\n",
      "Src : public void METHOD_1 ( TYPE_1 VAR_1 ) { if ( VAR_1 . METHOD_2 ( ) ) { for ( String VAR_2 : VAR_1 . METHOD_3 ( ) ) { TYPE_2 VAR_3 = VAR_1 . METHOD_4 ( VAR_2 ) ; if ( ! METHOD_5 ( VAR_2 ) ) { TYPE_2 VAR_4 = VAR_3 ; if ( ! METHOD_6 ( VAR_2 ) ) { VAR_4 = METHOD_7 ( VAR_5 ) . METHOD_8 ( VAR_3 ) ; } METHOD_9 ( VAR_2 , VAR_4 , null ) ; } } } }\u001b[0m\n",
      "Trg : public void METHOD_1 ( TYPE_1 VAR_1 ) { if ( METHOD_10 ( ) ) { return ; } if ( VAR_1 . METHOD_2 ( ) ) { for ( String VAR_2 : VAR_1 . METHOD_3 ( ) ) { TYPE_2 VAR_3 = VAR_1 . METHOD_4 ( VAR_2 ) ; if ( ! METHOD_5 ( VAR_2 ) ) { TYPE_2 VAR_4 = VAR_3 ; if ( ! METHOD_6 ( VAR_2 ) ) { VAR_4 = METHOD_7 ( VAR_5 ) . METHOD_8 ( VAR_3 ) ; } METHOD_9 ( VAR_2 , VAR_4 , null ) ; } } } }\u001b[0m\n",
      "Pred: public void void ( TYPE_1 TYPE_1 TYPE_1 TYPE_1 VAR_1 VAR_1 ) ) ) ) ) ) ) ) ) ) ) ) ) ) ) ) ) ) ) ) ) ) ) ) ) ) ) ) ) ) ) ) ) ) ) ) ) ) ) ) ) ) ) ) ) ) ) ) ) ) ) ) ) ) ) ) ) ) ) ) ) ) ) ) ) ) ) ) ) ) ) ) ) ) ) ) ) ) ) ) ) ) ) ) ) ) ) ) ) ) ) )\u001b[0m\n",
      "\u001b[31mExample #4\u001b[0m\n",
      "Src : boolean METHOD_1 ( ) { TYPE_1 VAR_1 = METHOD_2 ( ) ; if ( VAR_1 == null ) { return false ; } for ( TYPE_2 VAR_2 = VAR_1 . METHOD_3 ( ) ; VAR_2 != null ; VAR_2 = VAR_2 . METHOD_4 ( ) ) { if ( VAR_3 ) { break ; } else if ( VAR_4 ) { return false ; } } return true ; }\u001b[0m\n",
      "Trg : boolean METHOD_1 ( ) { TYPE_1 VAR_1 = METHOD_2 ( ) ; if ( VAR_1 == null ) { return false ; } for ( TYPE_2 VAR_2 = VAR_1 . METHOD_3 ( ) ; VAR_2 != null ; VAR_2 = VAR_2 . METHOD_4 ( ) ) { if ( VAR_3 ) { if ( VAR_1 . METHOD_5 ( ) . METHOD_6 ( ) != VAR_5 ) { return false ; } break ; } else if ( VAR_4 ) { return false ; } } return true ; }\u001b[0m\n",
      "Pred: boolean boolean ( ) TYPE_1 TYPE_1 ) ) ) ) ) ) ) ) ) ) ) ) ) ) ) ) ) ) ) ) ) ) ) ) ) ) ) ) ) ) ) ) ) ) ) ) ) ) ) ) ) ) ) ) ) ) ) ) ) ) ) ) ) ) ) ) ) ) ) ) ) ) ) ) ) ) ) ) ) ) ) ) ) ) ) ) ) ) ) ) ) ) ) ) ) ) ) ) ) ) ) ) ) ) ) )\u001b[0m\n",
      "---------------\n",
      "Class: ['notClassified']\n",
      "Golden example (False):\n"
     ]
    },
    {
     "name": "stdout",
     "output_type": "stream",
     "text": [
      "\u001b[31mExample #1\u001b[0m\n",
      "Src : public TYPE_1 [ ] METHOD_1 ( int VAR_1 ) throws TYPE_2 { if ( VAR_1 <= 0 ) { throw new TYPE_2 ( VAR_2 , VAR_1 ) ; } final TYPE_1 [ ] out = ( TYPE_1 [ ] ) TYPE_3 . METHOD_2 ( VAR_3 . get ( 0 ) . getClass ( ) , VAR_1 ) ; for ( int i = 0 ; i < VAR_1 ; i ++ ) { out [ i ] = METHOD_1 ( ) ; } return out ; }\u001b[0m\n",
      "Trg : public TYPE_4 [ ] METHOD_1 ( int VAR_1 ) throws TYPE_2 { if ( VAR_1 <= 0 ) { throw new TYPE_2 ( VAR_2 , VAR_1 ) ; } final TYPE_4 [ ] out = new TYPE_4 [ VAR_1 ] ; for ( int i = 0 ; i < VAR_1 ; i ++ ) { out [ i ] = METHOD_1 ( ) ; } return out ; }\u001b[0m\n",
      "Pred: public TYPE_1 [ int int int int int int ) ) ) ) ) ) ) ) ) ) ) ) ) ) ) ) ) ) ) ) ) ) ) ) ) ) ) ) ) ) ) ) ) ) ) ) ) ) ) ) ) ) ) ) ) ) ) ) ) ) ) ) ) ) ) ) ) ) ) ) ) ) ) ) ) ) ) ) ) ) ) ) ) ) ) ) ) ) ) ) ) ) ) ) ) ) ) ) ) ) ) ) )\u001b[0m\n",
      "+++++++++++++++\n",
      "\u001b[31mExample #1\u001b[0m\n",
      "Src : public static double METHOD_1 ( int [ ] VAR_1 , int [ ] VAR_2 ) { int sum = 0 ; for ( int i = 0 ; i < VAR_1 . length ; i ++ ) { final int VAR_3 = VAR_1 [ i ] - VAR_2 [ i ] ; sum += VAR_3 * VAR_3 ; } return TYPE_1 . METHOD_2 ( sum ) ; }\u001b[0m\n",
      "Trg : public static double METHOD_1 ( int [ ] VAR_1 , int [ ] VAR_2 ) { double sum = 0 ; for ( int i = 0 ; i < VAR_1 . length ; i ++ ) { final double VAR_3 = VAR_1 [ i ] - VAR_2 [ i ] ; sum += VAR_3 * VAR_3 ; } return TYPE_1 . METHOD_2 ( sum ) ; }\u001b[0m\n",
      "Pred: public static double METHOD_1 int int int [ int VAR_1 VAR_1 VAR_1 VAR_1 VAR_1 VAR_1 int int int VAR_2 VAR_2 VAR_2 VAR_2 ) ) VAR_2 - - - - - - - - - - - - - - - - - - - - - - - - - - - - - - - - - - - - - - - - - - - - - - - - - - - - - - - - - - - - - - - - - - - - - - - - - - - - -\u001b[0m\n",
      "---------------\n",
      "Class: ['singleLine']\n",
      "Golden example (False):\n",
      "\u001b[31mExample #1\u001b[0m\n",
      "Src : static float METHOD_1 ( String VAR_1 ) { return METHOD_2 ( METHOD_3 ( VAR_1 , VAR_2 ) ) ; }\u001b[0m\n",
      "Trg : static int METHOD_1 ( String VAR_1 ) { return METHOD_2 ( METHOD_3 ( VAR_1 , VAR_2 ) ) ; }\u001b[0m\n",
      "Pred: static float METHOD_1 METHOD_1 METHOD_1 METHOD_1 METHOD_1 java.lang.CharSequence java.lang.CharSequence java.lang.CharSequence java.lang.CharSequence java.lang.CharSequence java.lang.CharSequence java.lang.CharSequence java.lang.CharSequence java.lang.CharSequence java.lang.CharSequence VAR_1 VAR_1 VAR_1 VAR_1 VAR_1 VAR_1 VAR_1 VAR_1 VAR_1 ) ) ) ) ) ) ) ) ) ) ) ) ) ) ) ) ) ) ) ) ) ) ) ) ) ) ) ) ) ) ) ) ) ) ) ) ) ) ) ) ) ) ) ) ) ) ) ) ) ) ) ) ) ) ) ) ) ) ) ) ) ) ) ) ) ) ) ) ) ) ) ) ) ) ) )\u001b[0m\n",
      "+++++++++++++++\n",
      "\u001b[31mExample #1\u001b[0m\n",
      "Src : public void METHOD_1 ( TYPE_1 data ) { TYPE_2 error = null ; VAR_1 . start ( ) ; while ( VAR_1 . METHOD_2 ( ) ) { try { VAR_2 . METHOD_1 ( data ) ; if ( VAR_3 ) { return ; } else { error = null ; } } catch ( TYPE_3 VAR_4 ) { error = METHOD_3 ( VAR_4 ) ; } catch ( TYPE_4 VAR_4 ) { error = METHOD_3 ( VAR_4 ) ; } } if ( error != null ) { throw error ; } }\u001b[0m\n",
      "Trg : public void METHOD_1 ( TYPE_1 data ) { TYPE_2 error = null ; VAR_1 . start ( ) ; while ( VAR_1 . METHOD_2 ( ) ) { try { VAR_2 . METHOD_1 ( data ) ; if ( VAR_3 ) { return ; } else { error = null ; } } catch ( TYPE_3 VAR_4 ) { error = METHOD_3 ( VAR_4 ) ; } catch ( TYPE_2 VAR_4 ) { error = METHOD_3 ( VAR_4 ) ; } } if ( error != null ) { throw error ; } }\u001b[0m\n",
      "Pred: public void void void TYPE_1 TYPE_1 TYPE_1 data TYPE_1 ) ) ) ) ) ) ) ) ) ) ) ) ) ) ) ) ) ) ) ) ) ) ) ) ) ) ) ) ) ) ) ) ) ) ) ) ) ) ) ) ) ) ) ) ) ) ) ) ) ) ) ) ) ) ) ) ) ) ) ) ) ) ) ) ) ) ) ) ) ) ) ) ) ) ) ) ) ) ) ) ) ) ) ) ) ) ) ) ) ) ) ) )\u001b[0m\n",
      "\u001b[31mExample #2\u001b[0m\n",
      "Src : private double METHOD_1 ( final double VAR_1 , final int VAR_2 , final int VAR_3 ) throws TYPE_1 , TYPE_2 { final int VAR_4 = VAR_2 * VAR_3 ; final double VAR_5 = VAR_4 / FLOAT_1 ; final double VAR_6 = VAR_4 * ( VAR_2 + VAR_3 + 1 ) / FLOAT_2 ; final double VAR_7 = ( VAR_1 - VAR_5 ) / TYPE_3 . METHOD_2 ( VAR_6 ) ; final TYPE_4 VAR_8 = new TYPE_4 ( 0 , 1 ) ; return INT_1 * VAR_8 . METHOD_3 ( VAR_7 ) ; }\u001b[0m\n",
      "Trg : private double METHOD_1 ( final double VAR_1 , final int VAR_2 , final int VAR_3 ) throws TYPE_1 , TYPE_2 { final double VAR_4 = VAR_2 * VAR_3 ; final double VAR_5 = VAR_4 / FLOAT_1 ; final double VAR_6 = VAR_4 * ( VAR_2 + VAR_3 + 1 ) / FLOAT_2 ; final double VAR_7 = ( VAR_1 - VAR_5 ) / TYPE_3 . METHOD_2 ( VAR_6 ) ; final TYPE_4 VAR_8 = new TYPE_4 ( 0 , 1 ) ; return INT_1 * VAR_8 . METHOD_3 ( VAR_7 ) ; }\u001b[0m\n",
      "Pred: public double METHOD_1 METHOD_1 final double double double int int int int int int int int int ) ) ) ) ) ) ) ) ) ) ) ) ) ) ) ) ) ) ) ) ) ) ) ) ) ) ) ) ) ) ) ) ) ) ) ) ) ) ) ) ) ) ) ) ) ) ) ) ) ) ) ) ) ) ) ) ) ) ) ) ) ) ) ) ) ) ) ) ) ) ) ) ) ) ) ) ) ) ) ) ) ) ) ) )\u001b[0m\n",
      "---------------\n",
      "Class: ['wrapsIf']\n",
      "Golden example (False):\n",
      "\u001b[31mExample #1\u001b[0m\n",
      "Src : public void METHOD_1 ( ) { if ( this . VAR_1 != VAR_2 && this . VAR_1 != VAR_3 ) { throw new TYPE_1 ( STRING_1 ) ; } VAR_4 = TYPE_2 . METHOD_2 ( ) ; this . VAR_1 = VAR_5 ; }\u001b[0m\n",
      "Trg : public void METHOD_1 ( ) { if ( this . VAR_1 != VAR_2 && this . VAR_1 != VAR_3 ) { throw new TYPE_1 ( STRING_1 ) ; } if ( this . VAR_1 == VAR_2 ) { VAR_4 = TYPE_2 . METHOD_2 ( ) ; } this . VAR_1 = VAR_5 ; }\u001b[0m\n",
      "Pred: public void void ( ) ( VAR_1 VAR_1 VAR_1 VAR_2 VAR_2 VAR_2 VAR_2 VAR_2 VAR_2 VAR_2 VAR_2 VAR_2 VAR_2 VAR_2 VAR_2 VAR_3 VAR_3 VAR_3 VAR_3 VAR_3 VAR_3 VAR_3 VAR_3 VAR_3 VAR_3 VAR_3 VAR_3 VAR_3 VAR_3 VAR_3 VAR_3 VAR_3 VAR_3 ) ) ) ) ) ) ) ) ) ) ) ) ) ) ) ) ) ) ) ) ) ) ) ) ) ) ) ) ) ) ) ) ) ) ) ) ) ) ) ) ) ) ) ) ) ) ) ) ) ) ) ) ) ) ) ) ) ) ) ) ) ) )\u001b[0m\n",
      "+++++++++++++++\n",
      "\u001b[31mExample #1\u001b[0m\n",
      "Src : public static boolean equals ( TYPE_1 VAR_1 , TYPE_1 VAR_2 ) { if ( VAR_1 == VAR_2 ) { return true ; } if ( VAR_1 == null || VAR_2 == null ) { return false ; } return VAR_1 . equals ( VAR_2 ) ; }\u001b[0m\n",
      "Trg : public static boolean equals ( TYPE_1 VAR_1 , TYPE_1 VAR_2 ) { if ( VAR_1 == VAR_2 ) { return true ; } if ( VAR_1 == null || VAR_2 == null ) { return false ; } if ( VAR_1 instanceof String && VAR_2 instanceof String ) { return VAR_1 . equals ( VAR_2 ) ; } return TYPE_2 . METHOD_1 ( VAR_1 , false , 0 , VAR_2 , 0 , TYPE_3 . METHOD_2 ( VAR_1 . length ( ) , VAR_2 . length ( ) ) ) ; }\u001b[0m\n",
      "Pred: public static boolean equals TYPE_1 TYPE_1 TYPE_1 TYPE_1 TYPE_1 TYPE_1 VAR_2 VAR_2 VAR_2 VAR_2 ) ) VAR_2 VAR_2 VAR_2 VAR_2 VAR_2 VAR_2 VAR_2 VAR_2 VAR_2 VAR_2 VAR_2 VAR_2 VAR_2 VAR_2 VAR_2 VAR_2 VAR_2 VAR_2 VAR_2 VAR_2 VAR_2 VAR_2 VAR_2 VAR_2 VAR_2 VAR_2 VAR_2 VAR_2 VAR_2 VAR_2 VAR_2 VAR_2 VAR_2 VAR_2 VAR_2 ) ) ) ) ) ) ) ) ) ) ) ) ) ) ) ) ) ) ) ) ) ) ) ) ) ) ) ) ) ) ) ) ) ) ) ) ) ) ) ) ) ) ) ) ) ) ) ) ) ) )\u001b[0m\n",
      "---------------\n",
      "Class: ['wrapsIfElse']\n",
      "Golden example (False):\n",
      "\u001b[31mExample #1\u001b[0m\n",
      "Src : public void METHOD_1 ( TYPE_1 VAR_1 ) { METHOD_1 ( ( TYPE_2 < ? > ) VAR_1 ) ; }\u001b[0m\n",
      "Trg : public void METHOD_1 ( TYPE_1 VAR_1 ) { if ( VAR_1 instanceof TYPE_2 < ? > ) { METHOD_1 ( ( TYPE_2 < ? > ) VAR_1 ) ; } else { throw new TYPE_3 ( STRING_1 ) ; } }\u001b[0m\n",
      "Pred: public void void void void void void TYPE_1 TYPE_1 TYPE_2 TYPE_2 TYPE_2 TYPE_2 ) ) ) ) ) ) ) ) ) ) ) ) ) ) ) ) ) ) ) ) ) ) ) ) ) ) ) ) ) ) ) ) ) ) ) ) ) ) ) ) ) ) ) ) ) ) ) ) ) ) ) ) ) ) ) ) ) ) ) ) ) ) ) ) ) ) ) ) ) ) ) ) ) ) ) ) ) ) ) ) ) ) ) ) ) ) ) ) )\u001b[0m\n",
      "+++++++++++++++\n",
      "\u001b[31mExample #1\u001b[0m\n",
      "Src : public TYPE_1 METHOD_1 ( TYPE_2 field ) { TYPE_3 VAR_1 = field . METHOD_1 ( ) ; if ( VAR_1 != null && VAR_1 instanceof TYPE_4 ) { TYPE_3 VAR_2 = ( ( TYPE_4 ) VAR_1 ) . METHOD_2 ( ) [ 0 ] ; return ( TYPE_1 ) VAR_2 ; } return VAR_3 class ; }\u001b[0m\n",
      "Trg : public TYPE_1 METHOD_1 ( TYPE_2 field ) { TYPE_3 VAR_1 = field . METHOD_1 ( ) ; if ( VAR_1 != null && VAR_1 instanceof TYPE_4 ) { TYPE_3 VAR_2 = ( ( TYPE_4 ) VAR_1 ) . METHOD_2 ( ) [ 0 ] ; if ( VAR_2 instanceof TYPE_1 ) { return ( TYPE_1 ) VAR_2 ; } else if ( VAR_2 instanceof TYPE_4 ) { return ( TYPE_1 ) ( ( TYPE_4 ) VAR_2 ) . METHOD_3 ( ) ; } } return VAR_3 class ; }\u001b[0m\n",
      "Pred: public TYPE_1 METHOD_1 TYPE_1 TYPE_2 TYPE_2 field field field ) ) ) ) ) ) ) ) ) ) ) ) ) ) ) ) ) ) ) ) ) ) ) ) ) ) ) ) ) ) ) ) ) ) ) ) ) ) ) ) ) ) ) ) ) ) ) ) ) ) ) ) ) ) ) ) ) ) ) ) ) ) ) ) ) ) ) ) ) ) ) ) ) ) ) ) ) ) ) ) ) ) ) ) ) ) ) ) ) ) ) ) )\u001b[0m\n",
      "\u001b[31mExample #2\u001b[0m\n",
      "Src : public TYPE_1 METHOD_1 ( final int x ) { return METHOD_2 ( x ) ; }\u001b[0m\n",
      "Trg : public TYPE_1 METHOD_1 ( final int x ) { if ( x >= 0 && x < VAR_1 ) { return METHOD_2 ( x ) ; } else { return METHOD_1 ( METHOD_3 ( x ) ) ; } }\u001b[0m\n",
      "Pred: public TYPE_1 TYPE_1 TYPE_1 final int int int x x x x x x x x x ) ) ) ) ) ) ) ) ) ) ) ) ) ) ) ) ) ) ) ) ) ) ) ) ) ) ) ) ) ) ) ) ) ) ) ) ) ) ) ) ) ) ) ) ) ) ) ) ) ) ) ) ) ) ) ) ) ) ) ) ) ) ) ) ) ) ) ) ) ) ) ) ) ) ) ) ) ) ) ) ) ) ) ) )\u001b[0m\n",
      "---------------\n",
      "================\n"
     ]
    }
   ],
   "source": [
    "with torch.no_grad():\n",
    "    one_shot_learning_experiment.conduct(defects4j_dataset, defects4j_classes, 'Defects4J')"
   ]
  },
  {
   "cell_type": "code",
   "execution_count": 7,
   "metadata": {},
   "outputs": [],
   "source": [
    "def take_part_from_dataset(dataset, n):\n",
    "    import torchtext\n",
    "    return torchtext.data.Dataset(dataset[:n], dataset.fields)"
   ]
  },
  {
   "cell_type": "code",
   "execution_count": 18,
   "metadata": {},
   "outputs": [],
   "source": [
    "TEST_DATASET_PART_300 = take_part_from_dataset(test_dataset, 300)"
   ]
  },
  {
   "cell_type": "code",
   "execution_count": 19,
   "metadata": {},
   "outputs": [],
   "source": [
    "TEST_DATASET_PART_25 = take_part_from_dataset(test_dataset, 25)"
   ]
  },
  {
   "cell_type": "code",
   "execution_count": 9,
   "metadata": {},
   "outputs": [],
   "source": [
    "TRAIN_DATASET_PART_300 = take_part_from_dataset(train_dataset, 300)"
   ]
  },
  {
   "cell_type": "code",
   "execution_count": 10,
   "metadata": {},
   "outputs": [
    {
     "data": {
      "text/plain": [
       "[<torchtext.data.example.Example at 0x7f185539e208>,\n",
       " <torchtext.data.example.Example at 0x7f185539eeb8>]"
      ]
     },
     "execution_count": 10,
     "metadata": {},
     "output_type": "execute_result"
    }
   ],
   "source": [
    "TEST_DATASET_PART_300[:2]"
   ]
  },
  {
   "cell_type": "code",
   "execution_count": 11,
   "metadata": {},
   "outputs": [],
   "source": [
    "def lookup_words(x: np.array, vocab: Vocab) -> List[str]:\n",
    "    \"\"\"\n",
    "    :param x: [SeqLen]\n",
    "    :param vocab: torchtext vocabulary\n",
    "    :return: list of words\n",
    "    \"\"\"\n",
    "    return [vocab.itos[i] for i in x]"
   ]
  },
  {
   "cell_type": "code",
   "execution_count": 12,
   "metadata": {},
   "outputs": [],
   "source": [
    "from neural_editor.seq2seq.decoder.search import perform_search"
   ]
  },
  {
   "cell_type": "code",
   "execution_count": 13,
   "metadata": {},
   "outputs": [],
   "source": [
    "from neural_editor.seq2seq.decoder.search import get_sequence_with_maximum_probability"
   ]
  },
  {
   "cell_type": "code",
   "execution_count": 14,
   "metadata": {},
   "outputs": [],
   "source": [
    "from neural_editor.seq2seq.decoder import search"
   ]
  },
  {
   "cell_type": "code",
   "execution_count": 15,
   "metadata": {},
   "outputs": [],
   "source": [
    "def remove_eos(batch, eos_index: int):\n",
    "    result = []\n",
    "    for sequence in batch:\n",
    "        eos = np.where(sequence == eos_index)[0]\n",
    "        if eos.shape[0] > 0:\n",
    "            sequence = sequence[:eos[0]]\n",
    "        result.append(sequence)\n",
    "    return result"
   ]
  },
  {
   "cell_type": "code",
   "execution_count": 16,
   "metadata": {},
   "outputs": [],
   "source": [
    "from tqdm.auto import tqdm"
   ]
  },
  {
   "cell_type": "code",
   "execution_count": 279,
   "metadata": {},
   "outputs": [],
   "source": [
    "def test_perform_search_2(dataset_to_run, k):\n",
    "    model.unset_edit_representation()\n",
    "    with torch.no_grad():\n",
    "        data_iterator = data.Iterator(dataset_to_run, batch_size=1, sort=False, train=False, shuffle=False, device=CONFIG['DEVICE'])\n",
    "        correct = 0\n",
    "        total = 0\n",
    "        print_first_correct = True\n",
    "        i = -1\n",
    "        for batch in tqdm(data_iterator):\n",
    "            i += 1\n",
    "            batch = rebatch(1, batch)\n",
    "            hypothesis = perform_search(model, batch, 60, 2, [3], k, 1, None, False)\n",
    "            result = get_sequence_with_maximum_probability(hypothesis)\n",
    "            src = batch.src.cpu().numpy()[0, :]\n",
    "            trg = batch.trg_y.cpu().numpy()[0, :]\n",
    "\n",
    "            # remove </s> (if it is there)\n",
    "            src = src[:-1] if src[-1] == 3 else src\n",
    "            trg = trg[:-1] if trg[-1] == 3 else trg\n",
    "\n",
    "            # remove <s> for src\n",
    "            src = src[1:] if src[0] == 2 else src\n",
    "            result = remove_eos([result.numpy()], 3)[0]\n",
    "            if np.all(result == trg) and i != 7:\n",
    "                correct += 1\n",
    "                if print_first_correct:\n",
    "                    print_first_correct = False\n",
    "                    print(\"Example #%d\" % (i + 1))\n",
    "                    print(\"Src : \" + \" \".join(lookup_words(src, diffs_field.vocab)))\n",
    "                    print(\"Trg : \" + \" \".join(lookup_words(trg, diffs_field.vocab)))\n",
    "                    print(\"Pred: \" + \" \".join(lookup_words(result, diffs_field.vocab)))  \n",
    "            total += 1\n",
    "        print(f'Correct: {correct}, total: {total}, acc: {correct / total}')"
   ]
  },
  {
   "cell_type": "code",
   "execution_count": 280,
   "metadata": {},
   "outputs": [
    {
     "data": {
      "application/vnd.jupyter.widget-view+json": {
       "model_id": "0c62278c48484094a16c3ee743d293c3",
       "version_major": 2,
       "version_minor": 0
      },
      "text/plain": [
       "HBox(children=(IntProgress(value=0, max=300), HTML(value='')))"
      ]
     },
     "metadata": {},
     "output_type": "display_data"
    },
    {
     "name": "stdout",
     "output_type": "stream",
     "text": [
      "Example #9\n",
      "Src : public char getColor ( ) throws java.io.IOException { VAR_1 . METHOD_1 ( ( STRING_1 + \"\\n\" ) ) ; java.lang.String response = VAR_2 . METHOD_2 ( ) ; java.lang.System.out.println ( response ) ; return response . METHOD_3 ( 0 ) ; }\n",
      "Trg : public char getColor ( ) throws java.io.IOException { VAR_1 . METHOD_1 ( ( STRING_1 + \"\\n\" ) ) ; java.lang.String response = VAR_2 . METHOD_2 ( ) ; return response . METHOD_3 ( 0 ) ; }\n",
      "Pred: public char getColor ( ) throws java.io.IOException { VAR_1 . METHOD_1 ( ( STRING_1 + \"\\n\" ) ) ; java.lang.String response = VAR_2 . METHOD_2 ( ) ; return response . METHOD_3 ( 0 ) ; }\n",
      "\n",
      "Correct: 50, total: 300, acc: 0.16666666666666666\n"
     ]
    }
   ],
   "source": [
    "test_perform_search(TEST_DATASET_PART_300, k=5)"
   ]
  },
  {
   "cell_type": "code",
   "execution_count": null,
   "metadata": {},
   "outputs": [],
   "source": []
  },
  {
   "cell_type": "code",
   "execution_count": null,
   "metadata": {},
   "outputs": [],
   "source": []
  },
  {
   "cell_type": "code",
   "execution_count": 239,
   "metadata": {},
   "outputs": [],
   "source": [
    "def test_perform_search(dataset_to_run, k):\n",
    "    model.unset_edit_representation()\n",
    "    with torch.no_grad():\n",
    "        data_iterator = data.Iterator(dataset_to_run, batch_size=1, sort=False, train=False, shuffle=False, device=CONFIG['DEVICE'])\n",
    "        correct = 0\n",
    "        total = 0\n",
    "        print_first_correct = True\n",
    "        i = -1\n",
    "        for batch in tqdm(data_iterator):\n",
    "            i += 1\n",
    "            batch = rebatch(1, batch)\n",
    "            hypothesis = perform_search(model, batch, 60, 2, [3], k, 1, None, False)\n",
    "            result = hypothesis[0][0][0]\n",
    "            src = batch.src.cpu().numpy()[0, :]\n",
    "            trg = batch.trg_y.cpu().numpy()[0, :]\n",
    "\n",
    "            # remove </s> (if it is there)\n",
    "            src = src[:-1] if src[-1] == 3 else src\n",
    "            trg = trg[:-1] if trg[-1] == 3 else trg\n",
    "\n",
    "            # remove <s> for src\n",
    "            src = src[1:] if src[0] == 2 else src\n",
    "            result = remove_eos([result.numpy()], 3)[0]\n",
    "            if np.all(result == trg) and i != 7:\n",
    "                correct += 1\n",
    "                if print_first_correct:\n",
    "                    print_first_correct = False\n",
    "                    print(\"Example #%d\" % (i + 1))\n",
    "                    print(\"Src : \" + \" \".join(lookup_words(src, diffs_field.vocab)))\n",
    "                    print(\"Trg : \" + \" \".join(lookup_words(trg, diffs_field.vocab)))\n",
    "                    print(\"Pred: \" + \" \".join(lookup_words(result, diffs_field.vocab)))  \n",
    "            total += 1\n",
    "        print(f'Correct: {correct}, total: {total}, acc: {correct / total}')"
   ]
  },
  {
   "cell_type": "code",
   "execution_count": 219,
   "metadata": {},
   "outputs": [],
   "source": [
    "import warnings\n",
    "warnings.filterwarnings(\"ignore\")"
   ]
  },
  {
   "cell_type": "code",
   "execution_count": 220,
   "metadata": {
    "scrolled": true
   },
   "outputs": [
    {
     "data": {
      "application/vnd.jupyter.widget-view+json": {
       "model_id": "7acb67fa675d4a56a37cf47fd40a1679",
       "version_major": 2,
       "version_minor": 0
      },
      "text/plain": [
       "HBox(children=(IntProgress(value=0, max=5835), HTML(value='')))"
      ]
     },
     "metadata": {},
     "output_type": "display_data"
    },
    {
     "name": "stdout",
     "output_type": "stream",
     "text": [
      "Example #9\n",
      "Src : public char getColor ( ) throws java.io.IOException { VAR_1 . METHOD_1 ( ( STRING_1 + \"\\n\" ) ) ; java.lang.String response = VAR_2 . METHOD_2 ( ) ; java.lang.System.out.println ( response ) ; return response . METHOD_3 ( 0 ) ; }\n",
      "Trg : public char getColor ( ) throws java.io.IOException { VAR_1 . METHOD_1 ( ( STRING_1 + \"\\n\" ) ) ; java.lang.String response = VAR_2 . METHOD_2 ( ) ; return response . METHOD_3 ( 0 ) ; }\n",
      "Pred: public char getColor ( ) throws java.io.IOException { VAR_1 . METHOD_1 ( ( STRING_1 + \"\\n\" ) ) ; java.lang.String response = VAR_2 . METHOD_2 ( ) ; return response . METHOD_3 ( 0 ) ; }\n",
      "\n",
      "Correct: 926, total: 5835, acc: 0.15869751499571552\n"
     ]
    }
   ],
   "source": [
    "test_perform_search()"
   ]
  },
  {
   "cell_type": "code",
   "execution_count": 237,
   "metadata": {},
   "outputs": [],
   "source": [
    "from neural_editor.seq2seq.train_utils import greedy_decode\n",
    "def test_greedy_search(dataset_to_run):\n",
    "    model.unset_edit_representation()\n",
    "    with torch.no_grad():\n",
    "        data_iterator = data.Iterator(dataset_to_run, batch_size=1, sort=False, train=False, shuffle=False, device=CONFIG['DEVICE'])\n",
    "        correct = 0\n",
    "        total = 0\n",
    "        print_first_correct = True\n",
    "        i = -1\n",
    "        for batch in tqdm(data_iterator):\n",
    "            i += 1\n",
    "            batch = rebatch(1, batch)\n",
    "            result = greedy_decode(model, batch, 60, 2, 3)\n",
    "            src = batch.src.cpu().numpy()[0, :]\n",
    "            trg = batch.trg_y.cpu().numpy()[0, :]\n",
    "\n",
    "            # remove </s> (if it is there)\n",
    "            src = src[:-1] if src[-1] == 3 else src\n",
    "            trg = trg[:-1] if trg[-1] == 3 else trg\n",
    "\n",
    "            # remove <s> for src\n",
    "            src = src[1:] if src[0] == 2 else src\n",
    "            result = remove_eos(result, 3)[0]\n",
    "            if np.all(result == trg):\n",
    "                correct += 1\n",
    "                if print_first_correct and i != 7:\n",
    "                    print_first_correct = False\n",
    "                    print(\"Example #%d\" % (i + 1))\n",
    "                    print(\"Src : \" + \" \".join(lookup_words(src, diffs_field.vocab)))\n",
    "                    print(\"Trg : \" + \" \".join(lookup_words(trg, diffs_field.vocab)))\n",
    "                    print(\"Pred: \" + \" \".join(lookup_words(result, diffs_field.vocab)))\n",
    "            total += 1\n",
    "        print(f'Correct: {correct}, total: {total}, acc: {correct / total}')"
   ]
  },
  {
   "cell_type": "code",
   "execution_count": 215,
   "metadata": {},
   "outputs": [
    {
     "data": {
      "application/vnd.jupyter.widget-view+json": {
       "model_id": "bb1aa8641aed4bdc91c8bc8aa3a98484",
       "version_major": 2,
       "version_minor": 0
      },
      "text/plain": [
       "HBox(children=(IntProgress(value=0, max=5835), HTML(value='')))"
      ]
     },
     "metadata": {},
     "output_type": "display_data"
    },
    {
     "name": "stdout",
     "output_type": "stream",
     "text": [
      "Example #9\n",
      "Src : public char getColor ( ) throws java.io.IOException { VAR_1 . METHOD_1 ( ( STRING_1 + \"\\n\" ) ) ; java.lang.String response = VAR_2 . METHOD_2 ( ) ; java.lang.System.out.println ( response ) ; return response . METHOD_3 ( 0 ) ; }\n",
      "Trg : public char getColor ( ) throws java.io.IOException { VAR_1 . METHOD_1 ( ( STRING_1 + \"\\n\" ) ) ; java.lang.String response = VAR_2 . METHOD_2 ( ) ; return response . METHOD_3 ( 0 ) ; }\n",
      "Pred: public char getColor ( ) throws java.io.IOException { VAR_1 . METHOD_1 ( ( STRING_1 + \"\\n\" ) ) ; java.lang.String response = VAR_2 . METHOD_2 ( ) ; return response . METHOD_3 ( 0 ) ; }\n",
      "\n",
      "Correct: 949, total: 5835, acc: 0.16263924592973436\n"
     ]
    }
   ],
   "source": [
    "test_greedy_search()"
   ]
  },
  {
   "cell_type": "code",
   "execution_count": 304,
   "metadata": {},
   "outputs": [],
   "source": [
    "def test_top_k(dataset_to_run, k):\n",
    "    model.unset_edit_representation()\n",
    "    with torch.no_grad():\n",
    "        data_iterator = data.Iterator(dataset_to_run, batch_size=1, sort=False, train=False, shuffle=False, device=CONFIG['DEVICE'])\n",
    "        correct = 0\n",
    "        total = 0\n",
    "        print_first_correct = True\n",
    "        i = -1\n",
    "        for batch in tqdm(data_iterator):\n",
    "            i += 1\n",
    "            batch = rebatch(1, batch)\n",
    "            hypothesis = perform_search(model, batch, 60, 2, [3], k, 1, None, False)\n",
    "            for hypothes in hypothesis[0][:k]:\n",
    "                result = hypothes[0]\n",
    "                src = batch.src.cpu().numpy()[0, :]\n",
    "                trg = batch.trg_y.cpu().numpy()[0, :]\n",
    "\n",
    "                # remove </s> (if it is there)\n",
    "                src = src[:-1] if src[-1] == 3 else src\n",
    "                trg = trg[:-1] if trg[-1] == 3 else trg\n",
    "\n",
    "                # remove <s> for src\n",
    "                src = src[1:] if src[0] == 2 else src\n",
    "                result = remove_eos([result.numpy()], 3)[0]\n",
    "                if np.all(result == trg):\n",
    "                    correct += 1\n",
    "                    if print_first_correct:\n",
    "                        print_first_correct = False\n",
    "                        print(\"Example #%d\" % (i + 1))\n",
    "                        print(\"Src : \" + \" \".join(lookup_words(src, diffs_field.vocab)))\n",
    "                        print(\"Trg : \" + \" \".join(lookup_words(trg, diffs_field.vocab)))\n",
    "                        print(\"Pred: \" + \" \".join(lookup_words(result, diffs_field.vocab)))  \n",
    "                    break\n",
    "            total += 1\n",
    "        print(f'Correct: {correct}, total: {total}, acc: {correct / total}')"
   ]
  },
  {
   "cell_type": "markdown",
   "metadata": {},
   "source": [
    "# Proves that top k is correct because output of perform search is sorted"
   ]
  },
  {
   "cell_type": "code",
   "execution_count": 567,
   "metadata": {},
   "outputs": [
    {
     "data": {
      "application/vnd.jupyter.widget-view+json": {
       "model_id": "c3410a08b676413481ad6a8651cf054f",
       "version_major": 2,
       "version_minor": 0
      },
      "text/plain": [
       "HBox(children=(IntProgress(value=0, max=300), HTML(value='')))"
      ]
     },
     "metadata": {},
     "output_type": "display_data"
    },
    {
     "name": "stdout",
     "output_type": "stream",
     "text": [
      "-2.028057336807251\n",
      "-2.029066324234009\n",
      "-2.20809268951416\n",
      "-3.6808252334594727\n",
      "-4.458697319030762\n",
      "-4.458848476409912\n",
      "-4.498054504394531\n",
      "-5.254805564880371\n",
      "-6.881885051727295\n",
      "-6.882890701293945\n",
      "-7.105697154998779\n",
      "-7.477381706237793\n",
      "-7.497037410736084\n",
      "-7.76911735534668\n",
      "-7.774877071380615\n",
      "-8.450124740600586\n",
      "-8.4666166305542\n",
      "-8.50265884399414\n",
      "-9.124863624572754\n",
      "-9.246654510498047\n",
      "-9.498170852661133\n",
      "-9.645840644836426\n",
      "-9.647697448730469\n",
      "-9.94646167755127\n",
      "-9.994132041931152\n",
      "-9.995753288269043\n",
      "tensor(-10.0475)\n",
      "-10.047544479370117\n",
      "tensor(-10.8179)\n",
      "-10.817926406860352\n",
      "tensor(-11.1960)\n",
      "tensor(-11.3870)\n",
      "tensor(-11.8169)\n"
     ]
    }
   ],
   "source": [
    "test_top_k(TEST_DATASET_PART_300, k=5) # no normaliztion"
   ]
  },
  {
   "cell_type": "code",
   "execution_count": 555,
   "metadata": {
    "scrolled": true
   },
   "outputs": [
    {
     "data": {
      "application/vnd.jupyter.widget-view+json": {
       "model_id": "418690fd45ad42d196bc5d2ef8615b08",
       "version_major": 2,
       "version_minor": 0
      },
      "text/plain": [
       "HBox(children=(IntProgress(value=0, max=300), HTML(value='')))"
      ]
     },
     "metadata": {},
     "output_type": "display_data"
    },
    {
     "name": "stdout",
     "output_type": "stream",
     "text": [
      "-0.06996780633926392\n",
      "-0.07243061810731888\n",
      "-0.0736030861735344\n",
      "-0.11154016107320786\n",
      "-0.11245135962963104\n",
      "-0.11432944983243942\n",
      "-0.11733414232730865\n",
      "-0.14046715199947357\n",
      "-0.14211393892765045\n",
      "-0.14337261021137238\n",
      "-0.15867096185684204\n",
      "-0.16185660660266876\n",
      "-0.1635126769542694\n",
      "-0.16352029144763947\n",
      "tensor(-0.1647)\n",
      "-0.16568872332572937\n",
      "-0.16630759835243225\n",
      "-0.16745907068252563\n",
      "-0.1693323254585266\n",
      "-0.17216724157333374\n",
      "-0.17434971034526825\n",
      "tensor(-0.1773)\n",
      "-0.18029877543449402\n",
      "-0.18237516283988953\n",
      "tensor(-0.1835)\n",
      "-0.1850765198469162\n",
      "tensor(-0.1867)\n",
      "-0.1876690834760666\n",
      "-0.1885991245508194\n",
      "-0.1899634152650833\n",
      "tensor(-0.1937)\n",
      "-0.19673733413219452\n",
      "-0.3091062009334564\n"
     ]
    }
   ],
   "source": [
    "test_top_k(TEST_DATASET_PART_300, k=5)"
   ]
  },
  {
   "cell_type": "code",
   "execution_count": 227,
   "metadata": {
    "scrolled": true
   },
   "outputs": [
    {
     "data": {
      "application/vnd.jupyter.widget-view+json": {
       "model_id": "e76c1a658be54b8cb90fc8cfb086852a",
       "version_major": 2,
       "version_minor": 0
      },
      "text/plain": [
       "HBox(children=(IntProgress(value=0, max=5835), HTML(value='')))"
      ]
     },
     "metadata": {},
     "output_type": "display_data"
    },
    {
     "name": "stdout",
     "output_type": "stream",
     "text": [
      "Example #3\n",
      "Src : private void METHOD_1 ( java.lang.Class VAR_1 ) { android.content.Intent intent = new android.content.Intent ( this , VAR_1 ) ; METHOD_2 ( intent ) ; }\n",
      "Trg : public void METHOD_1 ( java.lang.Class VAR_1 ) { android.content.Intent intent = new android.content.Intent ( this , VAR_1 ) ; METHOD_2 ( intent ) ; }\n",
      "Pred: public void METHOD_1 ( java.lang.Class VAR_1 ) { android.content.Intent intent = new android.content.Intent ( this , VAR_1 ) ; METHOD_2 ( intent ) ; }\n",
      "\n",
      "Correct: 1096, total: 5835, acc: 0.18783204798628964\n"
     ]
    }
   ],
   "source": [
    "test_top_k(k=5)"
   ]
  },
  {
   "cell_type": "code",
   "execution_count": 229,
   "metadata": {},
   "outputs": [
    {
     "data": {
      "application/vnd.jupyter.widget-view+json": {
       "model_id": "268e6f6f52eb48089071e452455af008",
       "version_major": 2,
       "version_minor": 0
      },
      "text/plain": [
       "HBox(children=(IntProgress(value=0, max=5835), HTML(value='')))"
      ]
     },
     "metadata": {},
     "output_type": "display_data"
    },
    {
     "name": "stdout",
     "output_type": "stream",
     "text": [
      "Example #9\n",
      "Src : public char getColor ( ) throws java.io.IOException { VAR_1 . METHOD_1 ( ( STRING_1 + \"\\n\" ) ) ; java.lang.String response = VAR_2 . METHOD_2 ( ) ; java.lang.System.out.println ( response ) ; return response . METHOD_3 ( 0 ) ; }\n",
      "Trg : public char getColor ( ) throws java.io.IOException { VAR_1 . METHOD_1 ( ( STRING_1 + \"\\n\" ) ) ; java.lang.String response = VAR_2 . METHOD_2 ( ) ; return response . METHOD_3 ( 0 ) ; }\n",
      "Pred: public char getColor ( ) throws java.io.IOException { VAR_1 . METHOD_1 ( ( STRING_1 + \"\\n\" ) ) ; java.lang.String response = VAR_2 . METHOD_2 ( ) ; return response . METHOD_3 ( 0 ) ; }\n"
     ]
    },
    {
     "ename": "KeyboardInterrupt",
     "evalue": "",
     "output_type": "error",
     "traceback": [
      "\u001b[0;31m---------------------------------------------------------------------------\u001b[0m",
      "\u001b[0;31mKeyboardInterrupt\u001b[0m                         Traceback (most recent call last)",
      "\u001b[0;32m<ipython-input-229-8ab1d8e41d0d>\u001b[0m in \u001b[0;36m<module>\u001b[0;34m\u001b[0m\n\u001b[0;32m----> 1\u001b[0;31m \u001b[0mtest_top_k\u001b[0m\u001b[0;34m(\u001b[0m\u001b[0mk\u001b[0m\u001b[0;34m=\u001b[0m\u001b[0;36m2\u001b[0m\u001b[0;34m)\u001b[0m\u001b[0;34m\u001b[0m\u001b[0;34m\u001b[0m\u001b[0m\n\u001b[0m",
      "\u001b[0;32m<ipython-input-228-fc912be4a423>\u001b[0m in \u001b[0;36mtest_top_k\u001b[0;34m(k)\u001b[0m\n\u001b[1;32m     10\u001b[0m             \u001b[0mi\u001b[0m \u001b[0;34m+=\u001b[0m \u001b[0;36m1\u001b[0m\u001b[0;34m\u001b[0m\u001b[0;34m\u001b[0m\u001b[0m\n\u001b[1;32m     11\u001b[0m             \u001b[0mbatch\u001b[0m \u001b[0;34m=\u001b[0m \u001b[0mrebatch\u001b[0m\u001b[0;34m(\u001b[0m\u001b[0;36m1\u001b[0m\u001b[0;34m,\u001b[0m \u001b[0mbatch\u001b[0m\u001b[0;34m)\u001b[0m\u001b[0;34m\u001b[0m\u001b[0;34m\u001b[0m\u001b[0m\n\u001b[0;32m---> 12\u001b[0;31m             \u001b[0mhypothesis\u001b[0m \u001b[0;34m=\u001b[0m \u001b[0mperform_search\u001b[0m\u001b[0;34m(\u001b[0m\u001b[0mmodel\u001b[0m\u001b[0;34m,\u001b[0m \u001b[0mbatch\u001b[0m\u001b[0;34m,\u001b[0m \u001b[0;36m60\u001b[0m\u001b[0;34m,\u001b[0m \u001b[0;36m2\u001b[0m\u001b[0;34m,\u001b[0m \u001b[0;34m[\u001b[0m\u001b[0;36m3\u001b[0m\u001b[0;34m]\u001b[0m\u001b[0;34m,\u001b[0m \u001b[0mk\u001b[0m\u001b[0;34m,\u001b[0m \u001b[0;36m1\u001b[0m\u001b[0;34m,\u001b[0m \u001b[0;32mNone\u001b[0m\u001b[0;34m,\u001b[0m \u001b[0;32mFalse\u001b[0m\u001b[0;34m)\u001b[0m\u001b[0;34m\u001b[0m\u001b[0;34m\u001b[0m\u001b[0m\n\u001b[0m\u001b[1;32m     13\u001b[0m             \u001b[0;32mfor\u001b[0m \u001b[0mhypothes\u001b[0m \u001b[0;32min\u001b[0m \u001b[0mhypothesis\u001b[0m\u001b[0;34m[\u001b[0m\u001b[0;36m0\u001b[0m\u001b[0;34m]\u001b[0m\u001b[0;34m[\u001b[0m\u001b[0;34m:\u001b[0m\u001b[0mk\u001b[0m\u001b[0;34m]\u001b[0m\u001b[0;34m:\u001b[0m\u001b[0;34m\u001b[0m\u001b[0;34m\u001b[0m\u001b[0m\n\u001b[1;32m     14\u001b[0m                 \u001b[0mresult\u001b[0m \u001b[0;34m=\u001b[0m \u001b[0mhypothes\u001b[0m\u001b[0;34m[\u001b[0m\u001b[0;36m0\u001b[0m\u001b[0;34m]\u001b[0m\u001b[0;34m\u001b[0m\u001b[0;34m\u001b[0m\u001b[0m\n",
      "\u001b[0;32m~/Documents/Development/embeddings-for-code-diffs/neural_editor/seq2seq/decoder/search.py\u001b[0m in \u001b[0;36mperform_search\u001b[0;34m(model, batch, num_iterations, sos_index, terminal_id, beam_size, num_groups, diversity_strength, verbose)\u001b[0m\n\u001b[1;32m    353\u001b[0m         \u001b[0;31m# we predict from the pre-output layer, which is\u001b[0m\u001b[0;34m\u001b[0m\u001b[0;34m\u001b[0m\u001b[0;34m\u001b[0m\u001b[0m\n\u001b[1;32m    354\u001b[0m         \u001b[0;31m# a combination of Decoder state, prev emb, and context\u001b[0m\u001b[0;34m\u001b[0m\u001b[0;34m\u001b[0m\u001b[0;34m\u001b[0m\u001b[0m\n\u001b[0;32m--> 355\u001b[0;31m         \u001b[0mlog_probs\u001b[0m \u001b[0;34m=\u001b[0m \u001b[0mmodel\u001b[0m\u001b[0;34m.\u001b[0m\u001b[0mgenerator\u001b[0m\u001b[0;34m(\u001b[0m\u001b[0mpre_output\u001b[0m\u001b[0;34m[\u001b[0m\u001b[0;34m:\u001b[0m\u001b[0;34m,\u001b[0m \u001b[0;34m-\u001b[0m\u001b[0;36m1\u001b[0m\u001b[0;34m]\u001b[0m\u001b[0;34m)\u001b[0m  \u001b[0;31m# [B, V]\u001b[0m\u001b[0;34m\u001b[0m\u001b[0;34m\u001b[0m\u001b[0m\n\u001b[0m\u001b[1;32m    356\u001b[0m \u001b[0;34m\u001b[0m\u001b[0m\n\u001b[1;32m    357\u001b[0m     \u001b[0;32mreturn\u001b[0m \u001b[0msearch\u001b[0m\u001b[0;34m.\u001b[0m\u001b[0mhypotheses\u001b[0m\u001b[0;34m\u001b[0m\u001b[0;34m\u001b[0m\u001b[0m\n",
      "\u001b[0;32m~/anaconda3/envs/embeddings-for-code-diffs/lib/python3.6/site-packages/torch/nn/modules/module.py\u001b[0m in \u001b[0;36m__call__\u001b[0;34m(self, *input, **kwargs)\u001b[0m\n\u001b[1;32m    539\u001b[0m             \u001b[0mresult\u001b[0m \u001b[0;34m=\u001b[0m \u001b[0mself\u001b[0m\u001b[0;34m.\u001b[0m\u001b[0m_slow_forward\u001b[0m\u001b[0;34m(\u001b[0m\u001b[0;34m*\u001b[0m\u001b[0minput\u001b[0m\u001b[0;34m,\u001b[0m \u001b[0;34m**\u001b[0m\u001b[0mkwargs\u001b[0m\u001b[0;34m)\u001b[0m\u001b[0;34m\u001b[0m\u001b[0;34m\u001b[0m\u001b[0m\n\u001b[1;32m    540\u001b[0m         \u001b[0;32melse\u001b[0m\u001b[0;34m:\u001b[0m\u001b[0;34m\u001b[0m\u001b[0;34m\u001b[0m\u001b[0m\n\u001b[0;32m--> 541\u001b[0;31m             \u001b[0mresult\u001b[0m \u001b[0;34m=\u001b[0m \u001b[0mself\u001b[0m\u001b[0;34m.\u001b[0m\u001b[0mforward\u001b[0m\u001b[0;34m(\u001b[0m\u001b[0;34m*\u001b[0m\u001b[0minput\u001b[0m\u001b[0;34m,\u001b[0m \u001b[0;34m**\u001b[0m\u001b[0mkwargs\u001b[0m\u001b[0;34m)\u001b[0m\u001b[0;34m\u001b[0m\u001b[0;34m\u001b[0m\u001b[0m\n\u001b[0m\u001b[1;32m    542\u001b[0m         \u001b[0;32mfor\u001b[0m \u001b[0mhook\u001b[0m \u001b[0;32min\u001b[0m \u001b[0mself\u001b[0m\u001b[0;34m.\u001b[0m\u001b[0m_forward_hooks\u001b[0m\u001b[0;34m.\u001b[0m\u001b[0mvalues\u001b[0m\u001b[0;34m(\u001b[0m\u001b[0;34m)\u001b[0m\u001b[0;34m:\u001b[0m\u001b[0;34m\u001b[0m\u001b[0;34m\u001b[0m\u001b[0m\n\u001b[1;32m    543\u001b[0m             \u001b[0mhook_result\u001b[0m \u001b[0;34m=\u001b[0m \u001b[0mhook\u001b[0m\u001b[0;34m(\u001b[0m\u001b[0mself\u001b[0m\u001b[0;34m,\u001b[0m \u001b[0minput\u001b[0m\u001b[0;34m,\u001b[0m \u001b[0mresult\u001b[0m\u001b[0;34m)\u001b[0m\u001b[0;34m\u001b[0m\u001b[0;34m\u001b[0m\u001b[0m\n",
      "\u001b[0;32m~/Documents/Development/embeddings-for-code-diffs/neural_editor/seq2seq/Generator.py\u001b[0m in \u001b[0;36mforward\u001b[0;34m(self, x)\u001b[0m\n\u001b[1;32m     15\u001b[0m         \u001b[0;34m:\u001b[0m\u001b[0;32mreturn\u001b[0m\u001b[0;34m:\u001b[0m \u001b[0;34m[\u001b[0m\u001b[0mB\u001b[0m\u001b[0;34m,\u001b[0m \u001b[0mTrgSeqLen\u001b[0m\u001b[0;34m,\u001b[0m \u001b[0mV\u001b[0m\u001b[0;34m]\u001b[0m\u001b[0;34m\u001b[0m\u001b[0;34m\u001b[0m\u001b[0m\n\u001b[1;32m     16\u001b[0m         \"\"\"\n\u001b[0;32m---> 17\u001b[0;31m         \u001b[0;32mreturn\u001b[0m \u001b[0mF\u001b[0m\u001b[0;34m.\u001b[0m\u001b[0mlog_softmax\u001b[0m\u001b[0;34m(\u001b[0m\u001b[0mself\u001b[0m\u001b[0;34m.\u001b[0m\u001b[0mprojection\u001b[0m\u001b[0;34m(\u001b[0m\u001b[0mx\u001b[0m\u001b[0;34m)\u001b[0m\u001b[0;34m,\u001b[0m \u001b[0mdim\u001b[0m\u001b[0;34m=\u001b[0m\u001b[0;34m-\u001b[0m\u001b[0;36m1\u001b[0m\u001b[0;34m)\u001b[0m\u001b[0;34m\u001b[0m\u001b[0;34m\u001b[0m\u001b[0m\n\u001b[0m",
      "\u001b[0;32m~/anaconda3/envs/embeddings-for-code-diffs/lib/python3.6/site-packages/torch/nn/modules/module.py\u001b[0m in \u001b[0;36m__call__\u001b[0;34m(self, *input, **kwargs)\u001b[0m\n\u001b[1;32m    539\u001b[0m             \u001b[0mresult\u001b[0m \u001b[0;34m=\u001b[0m \u001b[0mself\u001b[0m\u001b[0;34m.\u001b[0m\u001b[0m_slow_forward\u001b[0m\u001b[0;34m(\u001b[0m\u001b[0;34m*\u001b[0m\u001b[0minput\u001b[0m\u001b[0;34m,\u001b[0m \u001b[0;34m**\u001b[0m\u001b[0mkwargs\u001b[0m\u001b[0;34m)\u001b[0m\u001b[0;34m\u001b[0m\u001b[0;34m\u001b[0m\u001b[0m\n\u001b[1;32m    540\u001b[0m         \u001b[0;32melse\u001b[0m\u001b[0;34m:\u001b[0m\u001b[0;34m\u001b[0m\u001b[0;34m\u001b[0m\u001b[0m\n\u001b[0;32m--> 541\u001b[0;31m             \u001b[0mresult\u001b[0m \u001b[0;34m=\u001b[0m \u001b[0mself\u001b[0m\u001b[0;34m.\u001b[0m\u001b[0mforward\u001b[0m\u001b[0;34m(\u001b[0m\u001b[0;34m*\u001b[0m\u001b[0minput\u001b[0m\u001b[0;34m,\u001b[0m \u001b[0;34m**\u001b[0m\u001b[0mkwargs\u001b[0m\u001b[0;34m)\u001b[0m\u001b[0;34m\u001b[0m\u001b[0;34m\u001b[0m\u001b[0m\n\u001b[0m\u001b[1;32m    542\u001b[0m         \u001b[0;32mfor\u001b[0m \u001b[0mhook\u001b[0m \u001b[0;32min\u001b[0m \u001b[0mself\u001b[0m\u001b[0;34m.\u001b[0m\u001b[0m_forward_hooks\u001b[0m\u001b[0;34m.\u001b[0m\u001b[0mvalues\u001b[0m\u001b[0;34m(\u001b[0m\u001b[0;34m)\u001b[0m\u001b[0;34m:\u001b[0m\u001b[0;34m\u001b[0m\u001b[0;34m\u001b[0m\u001b[0m\n\u001b[1;32m    543\u001b[0m             \u001b[0mhook_result\u001b[0m \u001b[0;34m=\u001b[0m \u001b[0mhook\u001b[0m\u001b[0;34m(\u001b[0m\u001b[0mself\u001b[0m\u001b[0;34m,\u001b[0m \u001b[0minput\u001b[0m\u001b[0;34m,\u001b[0m \u001b[0mresult\u001b[0m\u001b[0;34m)\u001b[0m\u001b[0;34m\u001b[0m\u001b[0;34m\u001b[0m\u001b[0m\n",
      "\u001b[0;32m~/anaconda3/envs/embeddings-for-code-diffs/lib/python3.6/site-packages/torch/nn/modules/linear.py\u001b[0m in \u001b[0;36mforward\u001b[0;34m(self, input)\u001b[0m\n\u001b[1;32m     85\u001b[0m \u001b[0;34m\u001b[0m\u001b[0m\n\u001b[1;32m     86\u001b[0m     \u001b[0;32mdef\u001b[0m \u001b[0mforward\u001b[0m\u001b[0;34m(\u001b[0m\u001b[0mself\u001b[0m\u001b[0;34m,\u001b[0m \u001b[0minput\u001b[0m\u001b[0;34m)\u001b[0m\u001b[0;34m:\u001b[0m\u001b[0;34m\u001b[0m\u001b[0;34m\u001b[0m\u001b[0m\n\u001b[0;32m---> 87\u001b[0;31m         \u001b[0;32mreturn\u001b[0m \u001b[0mF\u001b[0m\u001b[0;34m.\u001b[0m\u001b[0mlinear\u001b[0m\u001b[0;34m(\u001b[0m\u001b[0minput\u001b[0m\u001b[0;34m,\u001b[0m \u001b[0mself\u001b[0m\u001b[0;34m.\u001b[0m\u001b[0mweight\u001b[0m\u001b[0;34m,\u001b[0m \u001b[0mself\u001b[0m\u001b[0;34m.\u001b[0m\u001b[0mbias\u001b[0m\u001b[0;34m)\u001b[0m\u001b[0;34m\u001b[0m\u001b[0;34m\u001b[0m\u001b[0m\n\u001b[0m\u001b[1;32m     88\u001b[0m \u001b[0;34m\u001b[0m\u001b[0m\n\u001b[1;32m     89\u001b[0m     \u001b[0;32mdef\u001b[0m \u001b[0mextra_repr\u001b[0m\u001b[0;34m(\u001b[0m\u001b[0mself\u001b[0m\u001b[0;34m)\u001b[0m\u001b[0;34m:\u001b[0m\u001b[0;34m\u001b[0m\u001b[0;34m\u001b[0m\u001b[0m\n",
      "\u001b[0;32m~/anaconda3/envs/embeddings-for-code-diffs/lib/python3.6/site-packages/torch/nn/functional.py\u001b[0m in \u001b[0;36mlinear\u001b[0;34m(input, weight, bias)\u001b[0m\n\u001b[1;32m   1370\u001b[0m         \u001b[0mret\u001b[0m \u001b[0;34m=\u001b[0m \u001b[0mtorch\u001b[0m\u001b[0;34m.\u001b[0m\u001b[0maddmm\u001b[0m\u001b[0;34m(\u001b[0m\u001b[0mbias\u001b[0m\u001b[0;34m,\u001b[0m \u001b[0minput\u001b[0m\u001b[0;34m,\u001b[0m \u001b[0mweight\u001b[0m\u001b[0;34m.\u001b[0m\u001b[0mt\u001b[0m\u001b[0;34m(\u001b[0m\u001b[0;34m)\u001b[0m\u001b[0;34m)\u001b[0m\u001b[0;34m\u001b[0m\u001b[0;34m\u001b[0m\u001b[0m\n\u001b[1;32m   1371\u001b[0m     \u001b[0;32melse\u001b[0m\u001b[0;34m:\u001b[0m\u001b[0;34m\u001b[0m\u001b[0;34m\u001b[0m\u001b[0m\n\u001b[0;32m-> 1372\u001b[0;31m         \u001b[0moutput\u001b[0m \u001b[0;34m=\u001b[0m \u001b[0minput\u001b[0m\u001b[0;34m.\u001b[0m\u001b[0mmatmul\u001b[0m\u001b[0;34m(\u001b[0m\u001b[0mweight\u001b[0m\u001b[0;34m.\u001b[0m\u001b[0mt\u001b[0m\u001b[0;34m(\u001b[0m\u001b[0;34m)\u001b[0m\u001b[0;34m)\u001b[0m\u001b[0;34m\u001b[0m\u001b[0;34m\u001b[0m\u001b[0m\n\u001b[0m\u001b[1;32m   1373\u001b[0m         \u001b[0;32mif\u001b[0m \u001b[0mbias\u001b[0m \u001b[0;32mis\u001b[0m \u001b[0;32mnot\u001b[0m \u001b[0;32mNone\u001b[0m\u001b[0;34m:\u001b[0m\u001b[0;34m\u001b[0m\u001b[0;34m\u001b[0m\u001b[0m\n\u001b[1;32m   1374\u001b[0m             \u001b[0moutput\u001b[0m \u001b[0;34m+=\u001b[0m \u001b[0mbias\u001b[0m\u001b[0;34m\u001b[0m\u001b[0;34m\u001b[0m\u001b[0m\n",
      "\u001b[0;31mKeyboardInterrupt\u001b[0m: "
     ]
    }
   ],
   "source": [
    "test_top_k(k=2)"
   ]
  },
  {
   "cell_type": "code",
   "execution_count": null,
   "metadata": {},
   "outputs": [],
   "source": [
    "test_top_k(test_dataset, k=10)"
   ]
  },
  {
   "cell_type": "code",
   "execution_count": null,
   "metadata": {},
   "outputs": [],
   "source": [
    "test_top_k(test_dataset, k=1)"
   ]
  },
  {
   "cell_type": "code",
   "execution_count": 240,
   "metadata": {},
   "outputs": [
    {
     "data": {
      "application/vnd.jupyter.widget-view+json": {
       "model_id": "3aa3568e25424a9e8f920405680c4ba1",
       "version_major": 2,
       "version_minor": 0
      },
      "text/plain": [
       "HBox(children=(IntProgress(value=0, max=300), HTML(value='')))"
      ]
     },
     "metadata": {},
     "output_type": "display_data"
    },
    {
     "name": "stdout",
     "output_type": "stream",
     "text": [
      "Example #9\n",
      "Src : public char getColor ( ) throws java.io.IOException { VAR_1 . METHOD_1 ( ( STRING_1 + \"\\n\" ) ) ; java.lang.String response = VAR_2 . METHOD_2 ( ) ; java.lang.System.out.println ( response ) ; return response . METHOD_3 ( 0 ) ; }\n",
      "Trg : public char getColor ( ) throws java.io.IOException { VAR_1 . METHOD_1 ( ( STRING_1 + \"\\n\" ) ) ; java.lang.String response = VAR_2 . METHOD_2 ( ) ; return response . METHOD_3 ( 0 ) ; }\n",
      "Pred: public char getColor ( ) throws java.io.IOException { VAR_1 . METHOD_1 ( ( STRING_1 + \"\\n\" ) ) ; java.lang.String response = VAR_2 . METHOD_2 ( ) ; return response . METHOD_3 ( 0 ) ; }\n",
      "\n",
      "Correct: 50, total: 300, acc: 0.16666666666666666\n"
     ]
    }
   ],
   "source": [
    "test_perform_search(TEST_DATASET_PART_300, k=5)"
   ]
  },
  {
   "cell_type": "code",
   "execution_count": 241,
   "metadata": {},
   "outputs": [
    {
     "data": {
      "application/vnd.jupyter.widget-view+json": {
       "model_id": "3b2036de695145c9879a441891ac7c40",
       "version_major": 2,
       "version_minor": 0
      },
      "text/plain": [
       "HBox(children=(IntProgress(value=0, max=300), HTML(value='')))"
      ]
     },
     "metadata": {},
     "output_type": "display_data"
    },
    {
     "name": "stdout",
     "output_type": "stream",
     "text": [
      "Example #9\n",
      "Src : public char getColor ( ) throws java.io.IOException { VAR_1 . METHOD_1 ( ( STRING_1 + \"\\n\" ) ) ; java.lang.String response = VAR_2 . METHOD_2 ( ) ; java.lang.System.out.println ( response ) ; return response . METHOD_3 ( 0 ) ; }\n",
      "Trg : public char getColor ( ) throws java.io.IOException { VAR_1 . METHOD_1 ( ( STRING_1 + \"\\n\" ) ) ; java.lang.String response = VAR_2 . METHOD_2 ( ) ; return response . METHOD_3 ( 0 ) ; }\n",
      "Pred: public char getColor ( ) throws java.io.IOException { VAR_1 . METHOD_1 ( ( STRING_1 + \"\\n\" ) ) ; java.lang.String response = VAR_2 . METHOD_2 ( ) ; return response . METHOD_3 ( 0 ) ; }\n",
      "\n",
      "Correct: 53, total: 300, acc: 0.17666666666666667\n"
     ]
    }
   ],
   "source": [
    "test_greedy_search(TEST_DATASET_PART_300)"
   ]
  },
  {
   "cell_type": "code",
   "execution_count": 244,
   "metadata": {},
   "outputs": [
    {
     "data": {
      "application/vnd.jupyter.widget-view+json": {
       "model_id": "6aa967a7e09540058d48210a364c4639",
       "version_major": 2,
       "version_minor": 0
      },
      "text/plain": [
       "HBox(children=(IntProgress(value=0, max=300), HTML(value='')))"
      ]
     },
     "metadata": {},
     "output_type": "display_data"
    },
    {
     "name": "stdout",
     "output_type": "stream",
     "text": [
      "Example #3\n",
      "Src : private void METHOD_1 ( java.lang.Class VAR_1 ) { android.content.Intent intent = new android.content.Intent ( this , VAR_1 ) ; METHOD_2 ( intent ) ; }\n",
      "Trg : public void METHOD_1 ( java.lang.Class VAR_1 ) { android.content.Intent intent = new android.content.Intent ( this , VAR_1 ) ; METHOD_2 ( intent ) ; }\n",
      "Pred: public void METHOD_1 ( java.lang.Class VAR_1 ) { android.content.Intent intent = new android.content.Intent ( this , VAR_1 ) ; METHOD_2 ( intent ) ; }\n",
      "\n",
      "Correct: 61, total: 300, acc: 0.20333333333333334\n"
     ]
    }
   ],
   "source": [
    "test_top_k(TEST_DATASET_PART_300, k=5)"
   ]
  },
  {
   "cell_type": "code",
   "execution_count": 245,
   "metadata": {},
   "outputs": [
    {
     "data": {
      "application/vnd.jupyter.widget-view+json": {
       "model_id": "2e4f2c7d6149499890ddc7c23bca3322",
       "version_major": 2,
       "version_minor": 0
      },
      "text/plain": [
       "HBox(children=(IntProgress(value=0, max=300), HTML(value='')))"
      ]
     },
     "metadata": {},
     "output_type": "display_data"
    },
    {
     "name": "stdout",
     "output_type": "stream",
     "text": [
      "Example #9\n",
      "Src : public char getColor ( ) throws java.io.IOException { VAR_1 . METHOD_1 ( ( STRING_1 + \"\\n\" ) ) ; java.lang.String response = VAR_2 . METHOD_2 ( ) ; java.lang.System.out.println ( response ) ; return response . METHOD_3 ( 0 ) ; }\n",
      "Trg : public char getColor ( ) throws java.io.IOException { VAR_1 . METHOD_1 ( ( STRING_1 + \"\\n\" ) ) ; java.lang.String response = VAR_2 . METHOD_2 ( ) ; return response . METHOD_3 ( 0 ) ; }\n",
      "Pred: public char getColor ( ) throws java.io.IOException { VAR_1 . METHOD_1 ( ( STRING_1 + \"\\n\" ) ) ; java.lang.String response = VAR_2 . METHOD_2 ( ) ; return response . METHOD_3 ( 0 ) ; }\n",
      "\n",
      "Correct: 52, total: 300, acc: 0.17333333333333334\n"
     ]
    }
   ],
   "source": [
    "test_top_k(TEST_DATASET_PART_300, k=2)"
   ]
  },
  {
   "cell_type": "code",
   "execution_count": 246,
   "metadata": {},
   "outputs": [
    {
     "data": {
      "application/vnd.jupyter.widget-view+json": {
       "model_id": "ca92a0e9fa604a1db49d05452c600071",
       "version_major": 2,
       "version_minor": 0
      },
      "text/plain": [
       "HBox(children=(IntProgress(value=0, max=300), HTML(value='')))"
      ]
     },
     "metadata": {},
     "output_type": "display_data"
    },
    {
     "name": "stdout",
     "output_type": "stream",
     "text": [
      "Example #3\n",
      "Src : private void METHOD_1 ( java.lang.Class VAR_1 ) { android.content.Intent intent = new android.content.Intent ( this , VAR_1 ) ; METHOD_2 ( intent ) ; }\n",
      "Trg : public void METHOD_1 ( java.lang.Class VAR_1 ) { android.content.Intent intent = new android.content.Intent ( this , VAR_1 ) ; METHOD_2 ( intent ) ; }\n",
      "Pred: public void METHOD_1 ( java.lang.Class VAR_1 ) { android.content.Intent intent = new android.content.Intent ( this , VAR_1 ) ; METHOD_2 ( intent ) ; }\n",
      "\n",
      "Correct: 64, total: 300, acc: 0.21333333333333335\n"
     ]
    }
   ],
   "source": [
    "test_top_k(TEST_DATASET_PART_300, k=10)"
   ]
  },
  {
   "cell_type": "code",
   "execution_count": 247,
   "metadata": {},
   "outputs": [
    {
     "data": {
      "application/vnd.jupyter.widget-view+json": {
       "model_id": "4632a27654b743acbcc2c88c16249712",
       "version_major": 2,
       "version_minor": 0
      },
      "text/plain": [
       "HBox(children=(IntProgress(value=0, max=300), HTML(value='')))"
      ]
     },
     "metadata": {},
     "output_type": "display_data"
    },
    {
     "name": "stdout",
     "output_type": "stream",
     "text": [
      "Example #9\n",
      "Src : public char getColor ( ) throws java.io.IOException { VAR_1 . METHOD_1 ( ( STRING_1 + \"\\n\" ) ) ; java.lang.String response = VAR_2 . METHOD_2 ( ) ; java.lang.System.out.println ( response ) ; return response . METHOD_3 ( 0 ) ; }\n",
      "Trg : public char getColor ( ) throws java.io.IOException { VAR_1 . METHOD_1 ( ( STRING_1 + \"\\n\" ) ) ; java.lang.String response = VAR_2 . METHOD_2 ( ) ; return response . METHOD_3 ( 0 ) ; }\n",
      "Pred: public char getColor ( ) throws java.io.IOException { VAR_1 . METHOD_1 ( ( STRING_1 + \"\\n\" ) ) ; java.lang.String response = VAR_2 . METHOD_2 ( ) ; return response . METHOD_3 ( 0 ) ; }\n",
      "\n",
      "Correct: 52, total: 300, acc: 0.17333333333333334\n"
     ]
    }
   ],
   "source": [
    "test_top_k(TEST_DATASET_PART_300, k=1)"
   ]
  },
  {
   "cell_type": "code",
   "execution_count": 248,
   "metadata": {},
   "outputs": [
    {
     "data": {
      "application/vnd.jupyter.widget-view+json": {
       "model_id": "10320f40592c4a338df6fed47e3cc8c2",
       "version_major": 2,
       "version_minor": 0
      },
      "text/plain": [
       "HBox(children=(IntProgress(value=0, max=300), HTML(value='')))"
      ]
     },
     "metadata": {},
     "output_type": "display_data"
    },
    {
     "name": "stdout",
     "output_type": "stream",
     "text": [
      "Example #9\n",
      "Src : public char getColor ( ) throws java.io.IOException { VAR_1 . METHOD_1 ( ( STRING_1 + \"\\n\" ) ) ; java.lang.String response = VAR_2 . METHOD_2 ( ) ; java.lang.System.out.println ( response ) ; return response . METHOD_3 ( 0 ) ; }\n",
      "Trg : public char getColor ( ) throws java.io.IOException { VAR_1 . METHOD_1 ( ( STRING_1 + \"\\n\" ) ) ; java.lang.String response = VAR_2 . METHOD_2 ( ) ; return response . METHOD_3 ( 0 ) ; }\n",
      "Pred: public char getColor ( ) throws java.io.IOException { VAR_1 . METHOD_1 ( ( STRING_1 + \"\\n\" ) ) ; java.lang.String response = VAR_2 . METHOD_2 ( ) ; return response . METHOD_3 ( 0 ) ; }\n",
      "\n",
      "Correct: 52, total: 300, acc: 0.17333333333333334\n"
     ]
    }
   ],
   "source": [
    "test_perform_search(TEST_DATASET_PART_300, k=1)"
   ]
  },
  {
   "cell_type": "code",
   "execution_count": 261,
   "metadata": {},
   "outputs": [],
   "source": [
    "def greedy_with_beam_search(dataset_to_run):\n",
    "    model.unset_edit_representation()\n",
    "    with torch.no_grad():\n",
    "        data_iterator = data.Iterator(dataset_to_run, batch_size=1, sort=False, train=False, shuffle=False, device=CONFIG['DEVICE'])\n",
    "        correct = 0\n",
    "        total = 0\n",
    "        print_first_correct = True\n",
    "        i = -1\n",
    "        for batch in tqdm(data_iterator):\n",
    "            i += 1\n",
    "            batch = rebatch(1, batch)\n",
    "            hypothesis = perform_search(model, batch, 60, 2, [3], 1, 1, None, False)\n",
    "            result = None\n",
    "            min_len = 100\n",
    "            for hypothes in hypothesis[0]:\n",
    "                if len(hypothes[0]) < min_len:\n",
    "                    min_len = len(hypothes[0])\n",
    "                    result = hypothes[0]\n",
    "            src = batch.src.cpu().numpy()[0, :]\n",
    "            trg = batch.trg_y.cpu().numpy()[0, :]\n",
    "\n",
    "            # remove </s> (if it is there)\n",
    "            src = src[:-1] if src[-1] == 3 else src\n",
    "            trg = trg[:-1] if trg[-1] == 3 else trg\n",
    "\n",
    "            # remove <s> for src\n",
    "            src = src[1:] if src[0] == 2 else src\n",
    "            result = remove_eos([result.numpy()], 3)[0]\n",
    "            if np.all(result == trg) and i != 7:\n",
    "                correct += 1\n",
    "                if print_first_correct:\n",
    "                    print_first_correct = False\n",
    "                    print(\"Example #%d\" % (i + 1))\n",
    "                    print(\"Src : \" + \" \".join(lookup_words(src, diffs_field.vocab)))\n",
    "                    print(\"Trg : \" + \" \".join(lookup_words(trg, diffs_field.vocab)))\n",
    "                    print(\"Pred: \" + \" \".join(lookup_words(result, diffs_field.vocab)))  \n",
    "            total += 1\n",
    "        print(f'Correct: {correct}, total: {total}, acc: {correct / total}')"
   ]
  },
  {
   "cell_type": "code",
   "execution_count": 262,
   "metadata": {},
   "outputs": [
    {
     "data": {
      "application/vnd.jupyter.widget-view+json": {
       "model_id": "93de95344bc24c79b6745feebceee70c",
       "version_major": 2,
       "version_minor": 0
      },
      "text/plain": [
       "HBox(children=(IntProgress(value=0, max=300), HTML(value='')))"
      ]
     },
     "metadata": {},
     "output_type": "display_data"
    },
    {
     "name": "stdout",
     "output_type": "stream",
     "text": [
      "Example #9\n",
      "Src : public char getColor ( ) throws java.io.IOException { VAR_1 . METHOD_1 ( ( STRING_1 + \"\\n\" ) ) ; java.lang.String response = VAR_2 . METHOD_2 ( ) ; java.lang.System.out.println ( response ) ; return response . METHOD_3 ( 0 ) ; }\n",
      "Trg : public char getColor ( ) throws java.io.IOException { VAR_1 . METHOD_1 ( ( STRING_1 + \"\\n\" ) ) ; java.lang.String response = VAR_2 . METHOD_2 ( ) ; return response . METHOD_3 ( 0 ) ; }\n",
      "Pred: public char getColor ( ) throws java.io.IOException { VAR_1 . METHOD_1 ( ( STRING_1 + \"\\n\" ) ) ; java.lang.String response = VAR_2 . METHOD_2 ( ) ; return response . METHOD_3 ( 0 ) ; }\n",
      "\n",
      "Correct: 52, total: 300, acc: 0.17333333333333334\n"
     ]
    }
   ],
   "source": [
    "greedy_with_beam_search(TEST_DATASET_PART_300)"
   ]
  },
  {
   "cell_type": "code",
   "execution_count": 265,
   "metadata": {
    "scrolled": true
   },
   "outputs": [
    {
     "data": {
      "application/vnd.jupyter.widget-view+json": {
       "model_id": "e8fdf6fc99fa4117be42d2e4d3294b9b",
       "version_major": 2,
       "version_minor": 0
      },
      "text/plain": [
       "HBox(children=(IntProgress(value=0, max=300), HTML(value='')))"
      ]
     },
     "metadata": {},
     "output_type": "display_data"
    },
    {
     "name": "stdout",
     "output_type": "stream",
     "text": [
      "Example #3\n",
      "Src : private void METHOD_1 ( java.lang.Class VAR_1 ) { android.content.Intent intent = new android.content.Intent ( this , VAR_1 ) ; METHOD_2 ( intent ) ; }\n",
      "Trg : public void METHOD_1 ( java.lang.Class VAR_1 ) { android.content.Intent intent = new android.content.Intent ( this , VAR_1 ) ; METHOD_2 ( intent ) ; }\n",
      "Pred: public void METHOD_1 ( java.lang.Class VAR_1 ) { android.content.Intent intent = new android.content.Intent ( this , VAR_1 ) ; METHOD_2 ( intent ) ; }\n",
      "\n",
      "Correct: 68, total: 300, acc: 0.22666666666666666\n"
     ]
    }
   ],
   "source": [
    "test_top_k(TEST_DATASET_PART_300, k=100)"
   ]
  },
  {
   "cell_type": "code",
   "execution_count": 266,
   "metadata": {
    "scrolled": true
   },
   "outputs": [
    {
     "data": {
      "application/vnd.jupyter.widget-view+json": {
       "model_id": "8f88a3f6d178483fadf0ba2c53696122",
       "version_major": 2,
       "version_minor": 0
      },
      "text/plain": [
       "HBox(children=(IntProgress(value=0, max=300), HTML(value='')))"
      ]
     },
     "metadata": {},
     "output_type": "display_data"
    },
    {
     "name": "stdout",
     "output_type": "stream",
     "text": [
      "Example #3\n",
      "Src : private void METHOD_1 ( java.lang.Class VAR_1 ) { android.content.Intent intent = new android.content.Intent ( this , VAR_1 ) ; METHOD_2 ( intent ) ; }\n",
      "Trg : public void METHOD_1 ( java.lang.Class VAR_1 ) { android.content.Intent intent = new android.content.Intent ( this , VAR_1 ) ; METHOD_2 ( intent ) ; }\n",
      "Pred: public void METHOD_1 ( java.lang.Class VAR_1 ) { android.content.Intent intent = new android.content.Intent ( this , VAR_1 ) ; METHOD_2 ( intent ) ; }\n",
      "\n",
      "Correct: 67, total: 300, acc: 0.22333333333333333\n"
     ]
    }
   ],
   "source": [
    "test_top_k(TEST_DATASET_PART_300, k=50)"
   ]
  },
  {
   "cell_type": "code",
   "execution_count": 267,
   "metadata": {},
   "outputs": [
    {
     "data": {
      "application/vnd.jupyter.widget-view+json": {
       "model_id": "e05cfd42a3924d0aa0d3cdaccefdb79c",
       "version_major": 2,
       "version_minor": 0
      },
      "text/plain": [
       "HBox(children=(IntProgress(value=0, max=5835), HTML(value='')))"
      ]
     },
     "metadata": {},
     "output_type": "display_data"
    },
    {
     "name": "stdout",
     "output_type": "stream",
     "text": [
      "Example #9\n",
      "Src : public char getColor ( ) throws java.io.IOException { VAR_1 . METHOD_1 ( ( STRING_1 + \"\\n\" ) ) ; java.lang.String response = VAR_2 . METHOD_2 ( ) ; java.lang.System.out.println ( response ) ; return response . METHOD_3 ( 0 ) ; }\n",
      "Trg : public char getColor ( ) throws java.io.IOException { VAR_1 . METHOD_1 ( ( STRING_1 + \"\\n\" ) ) ; java.lang.String response = VAR_2 . METHOD_2 ( ) ; return response . METHOD_3 ( 0 ) ; }\n",
      "Pred: public char getColor ( ) throws java.io.IOException { VAR_1 . METHOD_1 ( ( STRING_1 + \"\\n\" ) ) ; java.lang.String response = VAR_2 . METHOD_2 ( ) ; return response . METHOD_3 ( 0 ) ; }\n",
      "\n",
      "Correct: 948, total: 5835, acc: 0.16246786632390744\n"
     ]
    }
   ],
   "source": [
    "greedy_with_beam_search(test_dataset)"
   ]
  },
  {
   "cell_type": "code",
   "execution_count": 309,
   "metadata": {},
   "outputs": [],
   "source": [
    "def test_diverse_beam_search(dataset_to_run, k, diversity, groups_num):\n",
    "    model.unset_edit_representation()\n",
    "    with torch.no_grad():\n",
    "        data_iterator = data.Iterator(dataset_to_run, batch_size=1, sort=False, train=False, shuffle=False, device=CONFIG['DEVICE'])\n",
    "        correct = 0\n",
    "        total = 0\n",
    "        print_first_correct = True\n",
    "        i = -1\n",
    "        for batch in tqdm(data_iterator):\n",
    "            i += 1\n",
    "            batch = rebatch(1, batch)\n",
    "            hypothesis = perform_search(model, batch, 60, 2, [3], k, groups_num, diversity, False)\n",
    "            result = get_sequence_with_maximum_probability(hypothesis)\n",
    "            src = batch.src.cpu().numpy()[0, :]\n",
    "            trg = batch.trg_y.cpu().numpy()[0, :]\n",
    "\n",
    "            # remove </s> (if it is there)\n",
    "            src = src[:-1] if src[-1] == 3 else src\n",
    "            trg = trg[:-1] if trg[-1] == 3 else trg\n",
    "\n",
    "            # remove <s> for src\n",
    "            src = src[1:] if src[0] == 2 else src\n",
    "            result = remove_eos([result.numpy()], 3)[0]\n",
    "            if np.all(result == trg) and i != 7:\n",
    "                correct += 1\n",
    "                if print_first_correct:\n",
    "                    print_first_correct = False\n",
    "                    print(\"Example #%d\" % (i + 1))\n",
    "                    print(\"Src : \" + \" \".join(lookup_words(src, diffs_field.vocab)))\n",
    "                    print(\"Trg : \" + \" \".join(lookup_words(trg, diffs_field.vocab)))\n",
    "                    print(\"Pred: \" + \" \".join(lookup_words(result, diffs_field.vocab)), flush=True)  \n",
    "            total += 1\n",
    "        print(f'Correct: {correct}, total: {total}, acc: {correct / total}')"
   ]
  },
  {
   "cell_type": "code",
   "execution_count": 311,
   "metadata": {
    "scrolled": true
   },
   "outputs": [
    {
     "data": {
      "application/vnd.jupyter.widget-view+json": {
       "model_id": "21402de80296435d937218cd4cfda0ae",
       "version_major": 2,
       "version_minor": 0
      },
      "text/plain": [
       "HBox(children=(IntProgress(value=0, max=300), HTML(value='')))"
      ]
     },
     "metadata": {},
     "output_type": "display_data"
    },
    {
     "name": "stdout",
     "output_type": "stream",
     "text": [
      "Example #9\n",
      "Src : public char getColor ( ) throws java.io.IOException { VAR_1 . METHOD_1 ( ( STRING_1 + \"\\n\" ) ) ; java.lang.String response = VAR_2 . METHOD_2 ( ) ; java.lang.System.out.println ( response ) ; return response . METHOD_3 ( 0 ) ; }\n",
      "Trg : public char getColor ( ) throws java.io.IOException { VAR_1 . METHOD_1 ( ( STRING_1 + \"\\n\" ) ) ; java.lang.String response = VAR_2 . METHOD_2 ( ) ; return response . METHOD_3 ( 0 ) ; }\n",
      "Pred: public char getColor ( ) throws java.io.IOException { VAR_1 . METHOD_1 ( ( STRING_1 + \"\\n\" ) ) ; java.lang.String response = VAR_2 . METHOD_2 ( ) ; return response . METHOD_3 ( 0 ) ; }\n",
      "\n",
      "Correct: 50, total: 300, acc: 0.16666666666666666\n"
     ]
    }
   ],
   "source": [
    "test_diverse_beam_search(TEST_DATASET_PART_300, k=5, diversity=0.3, groups_num=3)"
   ]
  },
  {
   "cell_type": "code",
   "execution_count": 275,
   "metadata": {},
   "outputs": [
    {
     "data": {
      "application/vnd.jupyter.widget-view+json": {
       "model_id": "1b239b9a321c4bc19401fa83761265e9",
       "version_major": 2,
       "version_minor": 0
      },
      "text/plain": [
       "HBox(children=(IntProgress(value=0, max=300), HTML(value='')))"
      ]
     },
     "metadata": {},
     "output_type": "display_data"
    },
    {
     "name": "stdout",
     "output_type": "stream",
     "text": [
      "Example #9\n",
      "Src : public char getColor ( ) throws java.io.IOException { VAR_1 . METHOD_1 ( ( STRING_1 + \"\\n\" ) ) ; java.lang.String response = VAR_2 . METHOD_2 ( ) ; java.lang.System.out.println ( response ) ; return response . METHOD_3 ( 0 ) ; }\n",
      "Trg : public char getColor ( ) throws java.io.IOException { VAR_1 . METHOD_1 ( ( STRING_1 + \"\\n\" ) ) ; java.lang.String response = VAR_2 . METHOD_2 ( ) ; return response . METHOD_3 ( 0 ) ; }\n",
      "Pred: public char getColor ( ) throws java.io.IOException { VAR_1 . METHOD_1 ( ( STRING_1 + \"\\n\" ) ) ; java.lang.String response = VAR_2 . METHOD_2 ( ) ; return response . METHOD_3 ( 0 ) ; }\n",
      "\n",
      "Correct: 50, total: 300, acc: 0.16666666666666666\n"
     ]
    }
   ],
   "source": [
    "test_diverse_beam_search(TEST_DATASET_PART_300, k=5, diversity=0.3, groups_num=1)"
   ]
  },
  {
   "cell_type": "code",
   "execution_count": 310,
   "metadata": {},
   "outputs": [
    {
     "data": {
      "application/vnd.jupyter.widget-view+json": {
       "model_id": "e935c8e5a852442288755e0a20c58558",
       "version_major": 2,
       "version_minor": 0
      },
      "text/plain": [
       "HBox(children=(IntProgress(value=0, max=300), HTML(value='')))"
      ]
     },
     "metadata": {},
     "output_type": "display_data"
    },
    {
     "name": "stdout",
     "output_type": "stream",
     "text": [
      "Example #9\n",
      "Src : public char getColor ( ) throws java.io.IOException { VAR_1 . METHOD_1 ( ( STRING_1 + \"\\n\" ) ) ; java.lang.String response = VAR_2 . METHOD_2 ( ) ; java.lang.System.out.println ( response ) ; return response . METHOD_3 ( 0 ) ; }\n",
      "Trg : public char getColor ( ) throws java.io.IOException { VAR_1 . METHOD_1 ( ( STRING_1 + \"\\n\" ) ) ; java.lang.String response = VAR_2 . METHOD_2 ( ) ; return response . METHOD_3 ( 0 ) ; }\n",
      "Pred: public char getColor ( ) throws java.io.IOException { VAR_1 . METHOD_1 ( ( STRING_1 + \"\\n\" ) ) ; java.lang.String response = VAR_2 . METHOD_2 ( ) ; return response . METHOD_3 ( 0 ) ; }\n",
      "\n",
      "Correct: 51, total: 300, acc: 0.17\n"
     ]
    }
   ],
   "source": [
    "test_diverse_beam_search(TEST_DATASET_PART_300, k=5, diversity=5e-3, groups_num=3)"
   ]
  },
  {
   "cell_type": "code",
   "execution_count": 340,
   "metadata": {},
   "outputs": [
    {
     "data": {
      "application/vnd.jupyter.widget-view+json": {
       "model_id": "76f1494c00bb48bab19c0a2113da3e82",
       "version_major": 2,
       "version_minor": 0
      },
      "text/plain": [
       "HBox(children=(IntProgress(value=0, max=300), HTML(value='')))"
      ]
     },
     "metadata": {},
     "output_type": "display_data"
    },
    {
     "name": "stdout",
     "output_type": "stream",
     "text": [
      "Example #9\n",
      "Src : public char getColor ( ) throws java.io.IOException { VAR_1 . METHOD_1 ( ( STRING_1 + \"\\n\" ) ) ; java.lang.String response = VAR_2 . METHOD_2 ( ) ; java.lang.System.out.println ( response ) ; return response . METHOD_3 ( 0 ) ; }\n",
      "Trg : public char getColor ( ) throws java.io.IOException { VAR_1 . METHOD_1 ( ( STRING_1 + \"\\n\" ) ) ; java.lang.String response = VAR_2 . METHOD_2 ( ) ; return response . METHOD_3 ( 0 ) ; }\n",
      "Pred: public char getColor ( ) throws java.io.IOException { VAR_1 . METHOD_1 ( ( STRING_1 + \"\\n\" ) ) ; java.lang.String response = VAR_2 . METHOD_2 ( ) ; return response . METHOD_3 ( 0 ) ; }\n",
      "\n",
      "Correct: 50, total: 300, acc: 0.16666666666666666\n"
     ]
    }
   ],
   "source": [
    "test_diverse_beam_search(TEST_DATASET_PART_300, k=5, diversity=1e-4, groups_num=4)"
   ]
  },
  {
   "cell_type": "code",
   "execution_count": 278,
   "metadata": {},
   "outputs": [
    {
     "data": {
      "application/vnd.jupyter.widget-view+json": {
       "model_id": "95f02de205a44ec0a67ec8d165f1feb3",
       "version_major": 2,
       "version_minor": 0
      },
      "text/plain": [
       "HBox(children=(IntProgress(value=0, max=300), HTML(value='')))"
      ]
     },
     "metadata": {},
     "output_type": "display_data"
    },
    {
     "name": "stdout",
     "output_type": "stream",
     "text": [
      "Example #3\n",
      "Src : public void METHOD_1 ( int VAR_1 , TYPE_1 VAR_2 ) { this . VAR_3 . add ( VAR_1 , VAR_2 ) ; VAR_4 . add ( this ) ; }\n",
      "Trg : public void METHOD_1 ( int VAR_1 , TYPE_1 VAR_2 ) { this . VAR_3 . add ( VAR_1 , VAR_2 ) ; }\n",
      "Pred: public void METHOD_1 ( int VAR_1 , TYPE_1 VAR_2 ) { this . VAR_3 . add ( VAR_1 , VAR_2 ) ; }\n",
      "\n",
      "Correct: 51, total: 300, acc: 0.17\n"
     ]
    }
   ],
   "source": [
    "test_diverse_beam_search(TEST_DATASET_PART_300, k=100, diversity=5e-3, groups_num=3)"
   ]
  },
  {
   "cell_type": "code",
   "execution_count": 347,
   "metadata": {},
   "outputs": [
    {
     "name": "stdout",
     "output_type": "stream",
     "text": [
      "[(4, 0.6), (2, 0.4), (1, 0.2)]\n"
     ]
    }
   ],
   "source": [
    "tmp = [(2, 0.4), (1, 0.2), (4, 0.6)]\n",
    "tmp.sort(key=lambda x: -x[1])\n",
    "print(tmp)"
   ]
  },
  {
   "cell_type": "code",
   "execution_count": 350,
   "metadata": {},
   "outputs": [],
   "source": [
    "def test_diverse_beam_search_top_k(dataset_to_run, k, diversity, groups_num):\n",
    "    model.unset_edit_representation()\n",
    "    with torch.no_grad():\n",
    "        data_iterator = data.Iterator(dataset_to_run, batch_size=1, sort=False, train=False, shuffle=False, device=CONFIG['DEVICE'])\n",
    "        correct = 0\n",
    "        total = 0\n",
    "        print_first_correct = True\n",
    "        i = -1\n",
    "        for batch in tqdm(data_iterator):\n",
    "            i += 1\n",
    "            batch = rebatch(1, batch)\n",
    "            hypotheses = perform_search(model, batch, 60, 2, [3], k, groups_num, diversity, False)\n",
    "            all_predictions = [prediction for hypothesis in hypotheses for prediction in hypothesis]\n",
    "            all_predictions.sort(key=lambda x: -x[1])\n",
    "            src = batch.src.cpu().numpy()[0, :]\n",
    "            trg = batch.trg_y.cpu().numpy()[0, :]\n",
    "\n",
    "            # remove </s> (if it is there)\n",
    "            src = src[:-1] if src[-1] == 3 else src\n",
    "            trg = trg[:-1] if trg[-1] == 3 else trg\n",
    "\n",
    "            # remove <s> for src\n",
    "            src = src[1:] if src[0] == 2 else src\n",
    "            for result in all_predictions[:k]:\n",
    "                result = result[0]\n",
    "                result = remove_eos([result.numpy()], 3)[0]\n",
    "                if np.all(result == trg) and i != 7:\n",
    "                    correct += 1\n",
    "                    if print_first_correct:\n",
    "                        print_first_correct = False\n",
    "                        print(\"Example #%d\" % (i + 1))\n",
    "                        print(\"Src : \" + \" \".join(lookup_words(src, diffs_field.vocab)))\n",
    "                        print(\"Trg : \" + \" \".join(lookup_words(trg, diffs_field.vocab)))\n",
    "                        print(\"Pred: \" + \" \".join(lookup_words(result, diffs_field.vocab)), flush=True)\n",
    "                    break\n",
    "            total += 1\n",
    "        print(f'Correct: {correct}, total: {total}, acc: {correct / total}')"
   ]
  },
  {
   "cell_type": "code",
   "execution_count": 351,
   "metadata": {},
   "outputs": [
    {
     "data": {
      "application/vnd.jupyter.widget-view+json": {
       "model_id": "d2d71be23b474d648d1ab397e7caaa05",
       "version_major": 2,
       "version_minor": 0
      },
      "text/plain": [
       "HBox(children=(IntProgress(value=0, max=300), HTML(value='')))"
      ]
     },
     "metadata": {},
     "output_type": "display_data"
    },
    {
     "name": "stdout",
     "output_type": "stream",
     "text": [
      "Example #3\n",
      "Src : private void METHOD_1 ( java.lang.Class VAR_1 ) { android.content.Intent intent = new android.content.Intent ( this , VAR_1 ) ; METHOD_2 ( intent ) ; }\n",
      "Trg : public void METHOD_1 ( java.lang.Class VAR_1 ) { android.content.Intent intent = new android.content.Intent ( this , VAR_1 ) ; METHOD_2 ( intent ) ; }\n",
      "Pred: public void METHOD_1 ( java.lang.Class VAR_1 ) { android.content.Intent intent = new android.content.Intent ( this , VAR_1 ) ; METHOD_2 ( intent ) ; }\n",
      "\n",
      "Correct: 60, total: 300, acc: 0.2\n"
     ]
    }
   ],
   "source": [
    "test_diverse_beam_search_top_k(TEST_DATASET_PART_300, k=5, diversity=5e-3, groups_num=5)"
   ]
  },
  {
   "cell_type": "code",
   "execution_count": 352,
   "metadata": {},
   "outputs": [
    {
     "data": {
      "application/vnd.jupyter.widget-view+json": {
       "model_id": "704958794e19406ca676b8ce8695fe7b",
       "version_major": 2,
       "version_minor": 0
      },
      "text/plain": [
       "HBox(children=(IntProgress(value=0, max=300), HTML(value='')))"
      ]
     },
     "metadata": {},
     "output_type": "display_data"
    },
    {
     "name": "stdout",
     "output_type": "stream",
     "text": [
      "Example #3\n",
      "Src : private void METHOD_1 ( java.lang.Class VAR_1 ) { android.content.Intent intent = new android.content.Intent ( this , VAR_1 ) ; METHOD_2 ( intent ) ; }\n",
      "Trg : public void METHOD_1 ( java.lang.Class VAR_1 ) { android.content.Intent intent = new android.content.Intent ( this , VAR_1 ) ; METHOD_2 ( intent ) ; }\n",
      "Pred: public void METHOD_1 ( java.lang.Class VAR_1 ) { android.content.Intent intent = new android.content.Intent ( this , VAR_1 ) ; METHOD_2 ( intent ) ; }\n",
      "\n",
      "Correct: 61, total: 300, acc: 0.20333333333333334\n"
     ]
    }
   ],
   "source": [
    "test_diverse_beam_search_top_k(TEST_DATASET_PART_300, k=5, diversity=1e-1, groups_num=5)"
   ]
  },
  {
   "cell_type": "code",
   "execution_count": 353,
   "metadata": {},
   "outputs": [
    {
     "data": {
      "application/vnd.jupyter.widget-view+json": {
       "model_id": "f488766500e448068bcf2efe9ab1a5e0",
       "version_major": 2,
       "version_minor": 0
      },
      "text/plain": [
       "HBox(children=(IntProgress(value=0, max=300), HTML(value='')))"
      ]
     },
     "metadata": {},
     "output_type": "display_data"
    },
    {
     "name": "stdout",
     "output_type": "stream",
     "text": [
      "Example #3\n",
      "Src : private void METHOD_1 ( java.lang.Class VAR_1 ) { android.content.Intent intent = new android.content.Intent ( this , VAR_1 ) ; METHOD_2 ( intent ) ; }\n",
      "Trg : public void METHOD_1 ( java.lang.Class VAR_1 ) { android.content.Intent intent = new android.content.Intent ( this , VAR_1 ) ; METHOD_2 ( intent ) ; }\n",
      "Pred: public void METHOD_1 ( java.lang.Class VAR_1 ) { android.content.Intent intent = new android.content.Intent ( this , VAR_1 ) ; METHOD_2 ( intent ) ; }\n",
      "\n",
      "Correct: 60, total: 300, acc: 0.2\n"
     ]
    }
   ],
   "source": [
    "test_diverse_beam_search_top_k(TEST_DATASET_PART_300, k=5, diversity=1e-2, groups_num=5)"
   ]
  },
  {
   "cell_type": "code",
   "execution_count": 354,
   "metadata": {},
   "outputs": [
    {
     "data": {
      "application/vnd.jupyter.widget-view+json": {
       "model_id": "c931e1a659f44c04883de746e0e34e9c",
       "version_major": 2,
       "version_minor": 0
      },
      "text/plain": [
       "HBox(children=(IntProgress(value=0, max=300), HTML(value='')))"
      ]
     },
     "metadata": {},
     "output_type": "display_data"
    },
    {
     "name": "stdout",
     "output_type": "stream",
     "text": [
      "Example #9\n",
      "Src : public char getColor ( ) throws java.io.IOException { VAR_1 . METHOD_1 ( ( STRING_1 + \"\\n\" ) ) ; java.lang.String response = VAR_2 . METHOD_2 ( ) ; java.lang.System.out.println ( response ) ; return response . METHOD_3 ( 0 ) ; }\n",
      "Trg : public char getColor ( ) throws java.io.IOException { VAR_1 . METHOD_1 ( ( STRING_1 + \"\\n\" ) ) ; java.lang.String response = VAR_2 . METHOD_2 ( ) ; return response . METHOD_3 ( 0 ) ; }\n",
      "Pred: public char getColor ( ) throws java.io.IOException { VAR_1 . METHOD_1 ( ( STRING_1 + \"\\n\" ) ) ; java.lang.String response = VAR_2 . METHOD_2 ( ) ; return response . METHOD_3 ( 0 ) ; }\n",
      "\n",
      "Correct: 50, total: 300, acc: 0.16666666666666666\n"
     ]
    }
   ],
   "source": [
    "test_diverse_beam_search_top_k(TEST_DATASET_PART_300, k=5, diversity=1e-5, groups_num=5)"
   ]
  },
  {
   "cell_type": "code",
   "execution_count": 355,
   "metadata": {},
   "outputs": [
    {
     "data": {
      "application/vnd.jupyter.widget-view+json": {
       "model_id": "091c3b6d1d4543aba4460da333c7e311",
       "version_major": 2,
       "version_minor": 0
      },
      "text/plain": [
       "HBox(children=(IntProgress(value=0, max=300), HTML(value='')))"
      ]
     },
     "metadata": {},
     "output_type": "display_data"
    },
    {
     "name": "stdout",
     "output_type": "stream",
     "text": [
      "Example #3\n",
      "Src : private void METHOD_1 ( java.lang.Class VAR_1 ) { android.content.Intent intent = new android.content.Intent ( this , VAR_1 ) ; METHOD_2 ( intent ) ; }\n",
      "Trg : public void METHOD_1 ( java.lang.Class VAR_1 ) { android.content.Intent intent = new android.content.Intent ( this , VAR_1 ) ; METHOD_2 ( intent ) ; }\n",
      "Pred: public void METHOD_1 ( java.lang.Class VAR_1 ) { android.content.Intent intent = new android.content.Intent ( this , VAR_1 ) ; METHOD_2 ( intent ) ; }\n",
      "\n",
      "Correct: 61, total: 300, acc: 0.20333333333333334\n"
     ]
    }
   ],
   "source": [
    "test_diverse_beam_search_top_k(TEST_DATASET_PART_300, k=5, diversity=3e-1, groups_num=5)"
   ]
  },
  {
   "cell_type": "code",
   "execution_count": 356,
   "metadata": {},
   "outputs": [
    {
     "data": {
      "application/vnd.jupyter.widget-view+json": {
       "model_id": "361e1a6e26324f2797066e7a4ba82814",
       "version_major": 2,
       "version_minor": 0
      },
      "text/plain": [
       "HBox(children=(IntProgress(value=0, max=300), HTML(value='')))"
      ]
     },
     "metadata": {},
     "output_type": "display_data"
    },
    {
     "name": "stdout",
     "output_type": "stream",
     "text": [
      "Example #3\n",
      "Src : private void METHOD_1 ( java.lang.Class VAR_1 ) { android.content.Intent intent = new android.content.Intent ( this , VAR_1 ) ; METHOD_2 ( intent ) ; }\n",
      "Trg : public void METHOD_1 ( java.lang.Class VAR_1 ) { android.content.Intent intent = new android.content.Intent ( this , VAR_1 ) ; METHOD_2 ( intent ) ; }\n",
      "Pred: public void METHOD_1 ( java.lang.Class VAR_1 ) { android.content.Intent intent = new android.content.Intent ( this , VAR_1 ) ; METHOD_2 ( intent ) ; }\n",
      "\n",
      "Correct: 61, total: 300, acc: 0.20333333333333334\n"
     ]
    }
   ],
   "source": [
    "test_diverse_beam_search_top_k(TEST_DATASET_PART_300, k=5, diversity=5e-1, groups_num=5)"
   ]
  },
  {
   "cell_type": "code",
   "execution_count": 359,
   "metadata": {},
   "outputs": [
    {
     "data": {
      "application/vnd.jupyter.widget-view+json": {
       "model_id": "ac800704192542bbb45f22cc796d50af",
       "version_major": 2,
       "version_minor": 0
      },
      "text/plain": [
       "HBox(children=(IntProgress(value=0, max=300), HTML(value='')))"
      ]
     },
     "metadata": {},
     "output_type": "display_data"
    },
    {
     "name": "stdout",
     "output_type": "stream",
     "text": [
      "Example #3\n",
      "Src : private void METHOD_1 ( java.lang.Class VAR_1 ) { android.content.Intent intent = new android.content.Intent ( this , VAR_1 ) ; METHOD_2 ( intent ) ; }\n",
      "Trg : public void METHOD_1 ( java.lang.Class VAR_1 ) { android.content.Intent intent = new android.content.Intent ( this , VAR_1 ) ; METHOD_2 ( intent ) ; }\n",
      "Pred: public void METHOD_1 ( java.lang.Class VAR_1 ) { android.content.Intent intent = new android.content.Intent ( this , VAR_1 ) ; METHOD_2 ( intent ) ; }\n",
      "\n",
      "Correct: 64, total: 300, acc: 0.21333333333333335\n"
     ]
    }
   ],
   "source": [
    "test_diverse_beam_search_top_k(TEST_DATASET_PART_300, k=10, diversity=1e-1, groups_num=10)"
   ]
  },
  {
   "cell_type": "code",
   "execution_count": 360,
   "metadata": {},
   "outputs": [
    {
     "data": {
      "application/vnd.jupyter.widget-view+json": {
       "model_id": "df403706a04b4f4e8c511dc93a3ce4e4",
       "version_major": 2,
       "version_minor": 0
      },
      "text/plain": [
       "HBox(children=(IntProgress(value=0, max=300), HTML(value='')))"
      ]
     },
     "metadata": {},
     "output_type": "display_data"
    },
    {
     "name": "stdout",
     "output_type": "stream",
     "text": [
      "Example #3\n",
      "Src : private void METHOD_1 ( java.lang.Class VAR_1 ) { android.content.Intent intent = new android.content.Intent ( this , VAR_1 ) ; METHOD_2 ( intent ) ; }\n",
      "Trg : public void METHOD_1 ( java.lang.Class VAR_1 ) { android.content.Intent intent = new android.content.Intent ( this , VAR_1 ) ; METHOD_2 ( intent ) ; }\n",
      "Pred: public void METHOD_1 ( java.lang.Class VAR_1 ) { android.content.Intent intent = new android.content.Intent ( this , VAR_1 ) ; METHOD_2 ( intent ) ; }\n",
      "\n",
      "Correct: 64, total: 300, acc: 0.21333333333333335\n"
     ]
    }
   ],
   "source": [
    "test_diverse_beam_search_top_k(TEST_DATASET_PART_300, k=10, diversity=5e-1, groups_num=10)"
   ]
  },
  {
   "cell_type": "code",
   "execution_count": 361,
   "metadata": {},
   "outputs": [
    {
     "data": {
      "application/vnd.jupyter.widget-view+json": {
       "model_id": "d7101c9986f7446ea085a0b40d53c514",
       "version_major": 2,
       "version_minor": 0
      },
      "text/plain": [
       "HBox(children=(IntProgress(value=0, max=300), HTML(value='')))"
      ]
     },
     "metadata": {},
     "output_type": "display_data"
    },
    {
     "name": "stdout",
     "output_type": "stream",
     "text": [
      "Example #3\n",
      "Src : private void METHOD_1 ( java.lang.Class VAR_1 ) { android.content.Intent intent = new android.content.Intent ( this , VAR_1 ) ; METHOD_2 ( intent ) ; }\n",
      "Trg : public void METHOD_1 ( java.lang.Class VAR_1 ) { android.content.Intent intent = new android.content.Intent ( this , VAR_1 ) ; METHOD_2 ( intent ) ; }\n",
      "Pred: public void METHOD_1 ( java.lang.Class VAR_1 ) { android.content.Intent intent = new android.content.Intent ( this , VAR_1 ) ; METHOD_2 ( intent ) ; }\n",
      "\n",
      "Correct: 64, total: 300, acc: 0.21333333333333335\n"
     ]
    }
   ],
   "source": [
    "test_diverse_beam_search_top_k(TEST_DATASET_PART_300, k=10, diversity=3e-1, groups_num=10)"
   ]
  },
  {
   "cell_type": "code",
   "execution_count": 362,
   "metadata": {},
   "outputs": [
    {
     "data": {
      "application/vnd.jupyter.widget-view+json": {
       "model_id": "c2193502773d46e594880612dc14aaff",
       "version_major": 2,
       "version_minor": 0
      },
      "text/plain": [
       "HBox(children=(IntProgress(value=0, max=5835), HTML(value='')))"
      ]
     },
     "metadata": {},
     "output_type": "display_data"
    },
    {
     "name": "stdout",
     "output_type": "stream",
     "text": [
      "Example #3\n",
      "Src : private void METHOD_1 ( java.lang.Class VAR_1 ) { android.content.Intent intent = new android.content.Intent ( this , VAR_1 ) ; METHOD_2 ( intent ) ; }\n",
      "Trg : public void METHOD_1 ( java.lang.Class VAR_1 ) { android.content.Intent intent = new android.content.Intent ( this , VAR_1 ) ; METHOD_2 ( intent ) ; }\n",
      "Pred: public void METHOD_1 ( java.lang.Class VAR_1 ) { android.content.Intent intent = new android.content.Intent ( this , VAR_1 ) ; METHOD_2 ( intent ) ; }\n",
      "\n",
      "Correct: 1138, total: 5835, acc: 0.1950299914310197\n"
     ]
    }
   ],
   "source": [
    "test_diverse_beam_search_top_k(test_datasetaset, k=10, diversity=3e-1, groups_num=10)"
   ]
  },
  {
   "cell_type": "code",
   "execution_count": 264,
   "metadata": {},
   "outputs": [],
   "source": [
    "# TODO: 1. </s> </s> why it is with higher probability? 2. beam search 1 != greedy decode"
   ]
  },
  {
   "cell_type": "code",
   "execution_count": null,
   "metadata": {},
   "outputs": [],
   "source": []
  },
  {
   "cell_type": "code",
   "execution_count": null,
   "metadata": {},
   "outputs": [],
   "source": []
  },
  {
   "cell_type": "code",
   "execution_count": null,
   "metadata": {},
   "outputs": [],
   "source": []
  },
  {
   "cell_type": "code",
   "execution_count": null,
   "metadata": {},
   "outputs": [],
   "source": []
  },
  {
   "cell_type": "code",
   "execution_count": null,
   "metadata": {},
   "outputs": [],
   "source": []
  },
  {
   "cell_type": "code",
   "execution_count": null,
   "metadata": {},
   "outputs": [],
   "source": []
  },
  {
   "cell_type": "markdown",
   "metadata": {},
   "source": [
    "# Reproduction of beam search 1 != greedy decode"
   ]
  },
  {
   "cell_type": "code",
   "execution_count": 312,
   "metadata": {},
   "outputs": [
    {
     "data": {
      "application/vnd.jupyter.widget-view+json": {
       "model_id": "6943830e32f542da8e6fcd6b4de22ef0",
       "version_major": 2,
       "version_minor": 0
      },
      "text/plain": [
       "HBox(children=(IntProgress(value=0, max=300), HTML(value='')))"
      ]
     },
     "metadata": {},
     "output_type": "display_data"
    },
    {
     "name": "stdout",
     "output_type": "stream",
     "text": [
      "Example #9\n",
      "Src : public char getColor ( ) throws java.io.IOException { VAR_1 . METHOD_1 ( ( STRING_1 + \"\\n\" ) ) ; java.lang.String response = VAR_2 . METHOD_2 ( ) ; java.lang.System.out.println ( response ) ; return response . METHOD_3 ( 0 ) ; }\n",
      "Trg : public char getColor ( ) throws java.io.IOException { VAR_1 . METHOD_1 ( ( STRING_1 + \"\\n\" ) ) ; java.lang.String response = VAR_2 . METHOD_2 ( ) ; return response . METHOD_3 ( 0 ) ; }\n",
      "Pred: public char getColor ( ) throws java.io.IOException { VAR_1 . METHOD_1 ( ( STRING_1 + \"\\n\" ) ) ; java.lang.String response = VAR_2 . METHOD_2 ( ) ; return response . METHOD_3 ( 0 ) ; }\n",
      "\n",
      "Correct: 52, total: 300, acc: 0.17333333333333334\n"
     ]
    }
   ],
   "source": [
    "greedy_with_beam_search(TEST_DATASET_PART_300)"
   ]
  },
  {
   "cell_type": "code",
   "execution_count": 313,
   "metadata": {},
   "outputs": [
    {
     "data": {
      "application/vnd.jupyter.widget-view+json": {
       "model_id": "4814156cb2634eff8bcb2606a7dca424",
       "version_major": 2,
       "version_minor": 0
      },
      "text/plain": [
       "HBox(children=(IntProgress(value=0, max=300), HTML(value='')))"
      ]
     },
     "metadata": {},
     "output_type": "display_data"
    },
    {
     "name": "stdout",
     "output_type": "stream",
     "text": [
      "Example #9\n",
      "Src : public char getColor ( ) throws java.io.IOException { VAR_1 . METHOD_1 ( ( STRING_1 + \"\\n\" ) ) ; java.lang.String response = VAR_2 . METHOD_2 ( ) ; java.lang.System.out.println ( response ) ; return response . METHOD_3 ( 0 ) ; }\n",
      "Trg : public char getColor ( ) throws java.io.IOException { VAR_1 . METHOD_1 ( ( STRING_1 + \"\\n\" ) ) ; java.lang.String response = VAR_2 . METHOD_2 ( ) ; return response . METHOD_3 ( 0 ) ; }\n",
      "Pred: public char getColor ( ) throws java.io.IOException { VAR_1 . METHOD_1 ( ( STRING_1 + \"\\n\" ) ) ; java.lang.String response = VAR_2 . METHOD_2 ( ) ; return response . METHOD_3 ( 0 ) ; }\n",
      "\n",
      "Correct: 53, total: 300, acc: 0.17666666666666667\n"
     ]
    }
   ],
   "source": [
    "test_greedy_search(TEST_DATASET_PART_300)"
   ]
  },
  {
   "cell_type": "code",
   "execution_count": 337,
   "metadata": {},
   "outputs": [],
   "source": [
    "def greedy_with_beam_search_return_correct_ind(dataset_to_run):\n",
    "    model.unset_edit_representation()\n",
    "    correct_ind = []\n",
    "    with torch.no_grad():\n",
    "        data_iterator = data.Iterator(dataset_to_run, batch_size=1, sort=False, train=False, shuffle=False, device=CONFIG['DEVICE'])\n",
    "        correct = 0\n",
    "        total = 0\n",
    "        print_first_correct = True\n",
    "        i = -1\n",
    "        for batch in tqdm(data_iterator):\n",
    "            i += 1\n",
    "            batch = rebatch(1, batch)\n",
    "            result = search.greedy_decode(model, batch, 60, 2, [3], False)\n",
    "            \n",
    "            src = batch.src.cpu().numpy()[0, :]\n",
    "            trg = batch.trg_y.cpu().numpy()[0, :]\n",
    "\n",
    "            # remove </s> (if it is there)\n",
    "            src = src[:-1] if src[-1] == 3 else src\n",
    "            trg = trg[:-1] if trg[-1] == 3 else trg\n",
    "\n",
    "            # remove <s> for src\n",
    "            src = src[1:] if src[0] == 2 else src\n",
    "            result = remove_eos([result.numpy()], 3)[0]\n",
    "            if np.all(result == trg):\n",
    "                correct += 1\n",
    "                correct_ind.append(i)\n",
    "                if print_first_correct:\n",
    "                    print_first_correct = False\n",
    "                    print(\"Example #%d\" % (i + 1))\n",
    "                    print(\"Src : \" + \" \".join(lookup_words(src, diffs_field.vocab)))\n",
    "                    print(\"Trg : \" + \" \".join(lookup_words(trg, diffs_field.vocab)))\n",
    "                    print(\"Pred: \" + \" \".join(lookup_words(result, diffs_field.vocab)))  \n",
    "            total += 1\n",
    "        print(f'Correct: {correct}, total: {total}, acc: {correct / total}')\n",
    "        return correct_ind"
   ]
  },
  {
   "cell_type": "code",
   "execution_count": 338,
   "metadata": {},
   "outputs": [],
   "source": [
    "def test_greedy_search_return_correct_ind(dataset_to_run):\n",
    "    model.unset_edit_representation()\n",
    "    correct_ind = []\n",
    "    with torch.no_grad():\n",
    "        data_iterator = data.Iterator(dataset_to_run, batch_size=1, sort=False, train=False, shuffle=False, device=CONFIG['DEVICE'])\n",
    "        correct = 0\n",
    "        total = 0\n",
    "        print_first_correct = True\n",
    "        i = -1\n",
    "        for batch in tqdm(data_iterator):\n",
    "            i += 1\n",
    "            batch = rebatch(1, batch)\n",
    "            result = greedy_decode(model, batch, 60, 2, 3)\n",
    "            src = batch.src.cpu().numpy()[0, :]\n",
    "            trg = batch.trg_y.cpu().numpy()[0, :]\n",
    "\n",
    "            # remove </s> (if it is there)\n",
    "            src = src[:-1] if src[-1] == 3 else src\n",
    "            trg = trg[:-1] if trg[-1] == 3 else trg\n",
    "\n",
    "            # remove <s> for src\n",
    "            src = src[1:] if src[0] == 2 else src\n",
    "            result = remove_eos(result, 3)[0]\n",
    "            if np.all(result == trg):\n",
    "                correct += 1\n",
    "                correct_ind.append(i)\n",
    "                if print_first_correct:\n",
    "                    print_first_correct = False\n",
    "                    print(\"Example #%d\" % (i + 1))\n",
    "                    print(\"Src : \" + \" \".join(lookup_words(src, diffs_field.vocab)))\n",
    "                    print(\"Trg : \" + \" \".join(lookup_words(trg, diffs_field.vocab)))\n",
    "                    print(\"Pred: \" + \" \".join(lookup_words(result, diffs_field.vocab)))\n",
    "            total += 1\n",
    "        print(f'Correct: {correct}, total: {total}, acc: {correct / total}')\n",
    "        return correct_ind"
   ]
  },
  {
   "cell_type": "code",
   "execution_count": 339,
   "metadata": {},
   "outputs": [
    {
     "data": {
      "application/vnd.jupyter.widget-view+json": {
       "model_id": "44a53d44425a4c959eb673c2bfec8cc0",
       "version_major": 2,
       "version_minor": 0
      },
      "text/plain": [
       "HBox(children=(IntProgress(value=0, max=300), HTML(value='')))"
      ]
     },
     "metadata": {},
     "output_type": "display_data"
    },
    {
     "name": "stdout",
     "output_type": "stream",
     "text": [
      "Example #8\n",
      "Src : public void METHOD_1 ( int VAR_1 , TYPE_1 VAR_2 ) { this . VAR_3 . add ( VAR_1 , VAR_2 ) ; VAR_4 . add ( this ) ; }\n",
      "Trg : public void METHOD_1 ( int VAR_1 , TYPE_1 VAR_2 ) { this . VAR_3 . add ( VAR_1 , VAR_2 ) ; }\n",
      "Pred: public void METHOD_1 ( int VAR_1 , TYPE_1 VAR_2 ) { this . VAR_3 . add ( VAR_1 , VAR_2 ) ; }\n",
      "\n",
      "Correct: 53, total: 300, acc: 0.17666666666666667\n"
     ]
    }
   ],
   "source": [
    "greedy_beam_search_correct_ind = greedy_with_beam_search_return_correct_ind(TEST_DATASET_PART_300)"
   ]
  },
  {
   "cell_type": "code",
   "execution_count": 333,
   "metadata": {},
   "outputs": [
    {
     "data": {
      "application/vnd.jupyter.widget-view+json": {
       "model_id": "82f9604445ef411eacf2d43ecfed51c8",
       "version_major": 2,
       "version_minor": 0
      },
      "text/plain": [
       "HBox(children=(IntProgress(value=0, max=300), HTML(value='')))"
      ]
     },
     "metadata": {},
     "output_type": "display_data"
    },
    {
     "name": "stdout",
     "output_type": "stream",
     "text": [
      "Example #8\n",
      "Src : public void METHOD_1 ( int VAR_1 , TYPE_1 VAR_2 ) { this . VAR_3 . add ( VAR_1 , VAR_2 ) ; VAR_4 . add ( this ) ; }\n",
      "Trg : public void METHOD_1 ( int VAR_1 , TYPE_1 VAR_2 ) { this . VAR_3 . add ( VAR_1 , VAR_2 ) ; }\n",
      "Pred: public void METHOD_1 ( int VAR_1 , TYPE_1 VAR_2 ) { this . VAR_3 . add ( VAR_1 , VAR_2 ) ; }\n",
      "\n",
      "Correct: 53, total: 300, acc: 0.17666666666666667\n"
     ]
    }
   ],
   "source": [
    "greedy_decode_correct_ind = test_greedy_search_return_correct_ind(TEST_DATASET_PART_300)"
   ]
  },
  {
   "cell_type": "code",
   "execution_count": 322,
   "metadata": {},
   "outputs": [],
   "source": [
    "diff = set(greedy_decode_correct_ind) - set(greedy_beam_search_correct_ind)"
   ]
  },
  {
   "cell_type": "code",
   "execution_count": 323,
   "metadata": {},
   "outputs": [
    {
     "name": "stdout",
     "output_type": "stream",
     "text": [
      "{7}\n"
     ]
    }
   ],
   "source": [
    "print(diff)"
   ]
  },
  {
   "cell_type": "code",
   "execution_count": 329,
   "metadata": {},
   "outputs": [
    {
     "name": "stdout",
     "output_type": "stream",
     "text": [
      "[7, 8, 15, 24, 25, 31, 36, 37, 39, 40, 45, 53, 60, 67, 72, 76, 81, 84, 88, 97, 110, 111, 123, 125, 132, 135, 147, 151, 152, 153, 159, 164, 169, 183, 191, 192, 200, 210, 218, 220, 224, 228, 234, 239, 240, 250, 251, 253, 263, 271, 277, 286, 295]\n",
      "[8, 15, 24, 25, 31, 36, 37, 39, 40, 45, 53, 60, 67, 72, 76, 81, 84, 88, 97, 110, 111, 123, 125, 132, 135, 147, 151, 152, 153, 159, 164, 169, 183, 191, 192, 200, 210, 218, 220, 224, 228, 234, 239, 240, 250, 251, 253, 263, 271, 277, 286, 295]\n"
     ]
    }
   ],
   "source": [
    "print(greedy_decode_correct_ind)\n",
    "print(greedy_beam_search_correct_ind)"
   ]
  },
  {
   "cell_type": "markdown",
   "metadata": {},
   "source": [
    "# Train dataset accuracy"
   ]
  },
  {
   "cell_type": "code",
   "execution_count": 365,
   "metadata": {},
   "outputs": [
    {
     "data": {
      "application/vnd.jupyter.widget-view+json": {
       "model_id": "be662c53d80b406d993ef7b416e78e0b",
       "version_major": 2,
       "version_minor": 0
      },
      "text/plain": [
       "HBox(children=(IntProgress(value=0, max=300), HTML(value='')))"
      ]
     },
     "metadata": {},
     "output_type": "display_data"
    },
    {
     "name": "stdout",
     "output_type": "stream",
     "text": [
      "Example #5\n",
      "Src : public TYPE_1 METHOD_1 ( ) { java.lang.System.out.println ( STRING_1 ) ; return this . VAR_1 . METHOD_1 ( ) ; }\n",
      "Trg : public TYPE_1 METHOD_1 ( ) { return this . VAR_1 . METHOD_1 ( ) ; }\n",
      "Pred: public TYPE_1 METHOD_1 ( ) { return this . VAR_1 . METHOD_1 ( ) ; }\n",
      "\n",
      "Correct: 76, total: 300, acc: 0.25333333333333335\n"
     ]
    }
   ],
   "source": [
    "test_greedy_search_return_correct_ind(TRAIN_DATASET_PART_300)\n",
    "pass"
   ]
  },
  {
   "cell_type": "code",
   "execution_count": 366,
   "metadata": {},
   "outputs": [
    {
     "data": {
      "application/vnd.jupyter.widget-view+json": {
       "model_id": "3371a12aa9544e4086e9452194d57dae",
       "version_major": 2,
       "version_minor": 0
      },
      "text/plain": [
       "HBox(children=(IntProgress(value=0, max=1000), HTML(value='')))"
      ]
     },
     "metadata": {},
     "output_type": "display_data"
    },
    {
     "name": "stdout",
     "output_type": "stream",
     "text": [
      "Example #5\n",
      "Src : public TYPE_1 METHOD_1 ( ) { java.lang.System.out.println ( STRING_1 ) ; return this . VAR_1 . METHOD_1 ( ) ; }\n",
      "Trg : public TYPE_1 METHOD_1 ( ) { return this . VAR_1 . METHOD_1 ( ) ; }\n",
      "Pred: public TYPE_1 METHOD_1 ( ) { return this . VAR_1 . METHOD_1 ( ) ; }\n",
      "\n",
      "Correct: 265, total: 1000, acc: 0.265\n"
     ]
    }
   ],
   "source": [
    "test_greedy_search_return_correct_ind(take_part_from_dataset(train_dataset, 1000))\n",
    "pass"
   ]
  },
  {
   "cell_type": "code",
   "execution_count": 367,
   "metadata": {},
   "outputs": [
    {
     "data": {
      "application/vnd.jupyter.widget-view+json": {
       "model_id": "78256c1310ea455e9962c60174463b99",
       "version_major": 2,
       "version_minor": 0
      },
      "text/plain": [
       "HBox(children=(IntProgress(value=0, max=46680), HTML(value='')))"
      ]
     },
     "metadata": {},
     "output_type": "display_data"
    },
    {
     "name": "stdout",
     "output_type": "stream",
     "text": [
      "Example #5\n",
      "Src : public TYPE_1 METHOD_1 ( ) { java.lang.System.out.println ( STRING_1 ) ; return this . VAR_1 . METHOD_1 ( ) ; }\n",
      "Trg : public TYPE_1 METHOD_1 ( ) { return this . VAR_1 . METHOD_1 ( ) ; }\n",
      "Pred: public TYPE_1 METHOD_1 ( ) { return this . VAR_1 . METHOD_1 ( ) ; }\n",
      "\n",
      "Correct: 12083, total: 46680, acc: 0.25884747215081405\n"
     ]
    }
   ],
   "source": [
    "test_greedy_search_return_correct_ind(train_dataset)\n",
    "pass"
   ]
  },
  {
   "cell_type": "markdown",
   "metadata": {},
   "source": [
    "# Implementing beam search as in Learning Fixes (https://arxiv.org/pdf/1812.08693.pdf)"
   ]
  },
  {
   "cell_type": "code",
   "execution_count": 400,
   "metadata": {},
   "outputs": [],
   "source": [
    "def print_shapes(**kwargs):\n",
    "    for arg_name in kwargs:\n",
    "        var = kwargs[arg_name]\n",
    "        if type(var) is tuple or type(var) is list:\n",
    "            for i, v in enumerate(var):\n",
    "                print(f'{arg_name}[{i}]: {v.shape}')\n",
    "        else:\n",
    "            print(f'{arg_name}: {var.shape}')"
   ]
  },
  {
   "cell_type": "code",
   "execution_count": 401,
   "metadata": {},
   "outputs": [
    {
     "name": "stdout",
     "output_type": "stream",
     "text": [
      "a1: torch.Size([20, 1, 43])\n",
      "a2: torch.Size([2, 12, 4])\n",
      "a3[0]: torch.Size([2, 12, 4])\n",
      "a3[1]: torch.Size([2, 12, 4])\n",
      "a4[0]: torch.Size([2, 12, 4])\n",
      "a4[1]: torch.Size([2, 12, 4])\n",
      "a4[2]: torch.Size([2, 12, 4])\n"
     ]
    }
   ],
   "source": [
    "print_shapes(a1=torch.zeros(20, 1, 43),\n",
    "             a2=torch.zeros(2, 12, 4),\n",
    "             a3=(torch.zeros(2, 12, 4), torch.zeros(2, 12, 4)),\n",
    "             a4=[torch.zeros(2, 12, 4), torch.zeros(2, 12, 4), torch.zeros(2, 12, 4)])"
   ]
  },
  {
   "cell_type": "code",
   "execution_count": 500,
   "metadata": {},
   "outputs": [],
   "source": [
    "def beam_search_learning_fixes(model, batch,\n",
    "                  max_len: int,\n",
    "                  sos_index: int, eos_index: int, beam_size=1):\n",
    "    # TODO: create beam search, B = beam_size\n",
    "    # [B, SrcSeqLen], [B, 1, SrcSeqLen], [B]\n",
    "    src, src_mask, src_lengths = batch.src, batch.src_mask, batch.src_lengths\n",
    "    with torch.no_grad():\n",
    "        edit_final, encoder_output, encoder_final = model.encode(batch)\n",
    "        prev_y = torch.ones(batch.nseqs, 1).fill_(sos_index).type_as(src)  # [B, 1]\n",
    "        trg_mask = torch.ones_like(prev_y)  # [B, 1]\n",
    "    \n",
    "    def repeat_beam_size(tensor):\n",
    "        return torch.cat(beam_size * [tensor])\n",
    "    \n",
    "    output = torch.zeros((beam_size, max_len))\n",
    "    states = None\n",
    "    \n",
    "    with torch.no_grad():\n",
    "        # pre_output: [B, TrgSeqLen, DecoderH]\n",
    "        out, states, pre_output = model.decode(edit_final, encoder_output, encoder_final,\n",
    "                                               src_mask, prev_y, trg_mask, states)\n",
    "\n",
    "        # we predict from the pre-output layer, which is\n",
    "        # a combination of Decoder state, prev emb, and context\n",
    "        prob = model.generator(pre_output[:, -1])  # [B, V]\n",
    "\n",
    "    edit_final = (edit_final[0][:, beam_size * [0], :], edit_final[1][:, beam_size * [0], :])\n",
    "    encoder_output = repeat_beam_size(encoder_output)\n",
    "    encoder_final = (encoder_final[0][:, beam_size * [0], :], encoder_final[1][:, beam_size * [0], :])\n",
    "    states = (states[0][:, beam_size * [0], :], states[1][:, beam_size * [0], :])\n",
    "    prev_y = repeat_beam_size(prev_y)\n",
    "    trg_mask = repeat_beam_size(trg_mask)\n",
    "    src_mask = repeat_beam_size(src_mask)\n",
    "\n",
    "    best_probs, next_words = torch.sort(prob, dim=1)\n",
    "    best_probs, next_words = best_probs[0, -beam_size:], next_words[0, -beam_size:]\n",
    "    output[:, 0] = next_words\n",
    "    prev_y[:, 0] = next_words\n",
    "    \n",
    "    for i in range(1, max_len):\n",
    "        with torch.no_grad():\n",
    "            # pre_output: [B, TrgSeqLen, DecoderH]\n",
    "            #print_shapes(edit_final=edit_final, encoder_output=encoder_output, encoder_final=encoder_final,\n",
    "            #            src_mask=src_mask, prev_y=prev_y, trg_mask=trg_mask, states=states)\n",
    "            out, states, pre_output = model.decode(edit_final, encoder_output, encoder_final,\n",
    "                                                   src_mask, prev_y, trg_mask, states)\n",
    "\n",
    "            # we predict from the pre-output layer, which is\n",
    "            # a combination of Decoder state, prev emb, and context\n",
    "            prob = model.generator(pre_output[:, -1])  # [B, V]\n",
    "            \n",
    "        # TODO: consider termination\n",
    "        new_best = best_probs.unsqueeze(1).repeat((1, prob.shape[1])) + prob\n",
    "        new_best = torch.flatten(new_best)\n",
    "        #print(best_probs)\n",
    "        best_probs, next_words = torch.topk(new_best, k=beam_size)\n",
    "        #print(best_probs)\n",
    "        #return\n",
    "        new_best_permutation = next_words // prob.shape[1] \n",
    "        output = output[new_best_permutation, :]\n",
    "        states = (states[0][:, new_best_permutation, :], states[1][:, new_best_permutation, :])\n",
    "        prev_y = prev_y[new_best_permutation, :]\n",
    "        \n",
    "        next_words = next_words % prob.shape[1]\n",
    "        output[:, i] = next_words\n",
    "        prev_y[:, 0] = next_words\n",
    "\n",
    "    output = output.cpu().long().numpy()\n",
    "    return remove_eos(output, eos_index)"
   ]
  },
  {
   "cell_type": "code",
   "execution_count": 550,
   "metadata": {},
   "outputs": [],
   "source": [
    "def test_beam_search_learning_fixes(dataset_to_run, k, beam_search_method=beam_search_learning_fixes):\n",
    "    model.unset_edit_representation()\n",
    "    correct_ind = []\n",
    "    with torch.no_grad():\n",
    "        data_iterator = data.Iterator(dataset_to_run, batch_size=1, sort=False, train=False, shuffle=False, device=CONFIG['DEVICE'])\n",
    "        correct = 0\n",
    "        top_k_correct = 0\n",
    "        total = 0\n",
    "        print_first_correct = True\n",
    "        i = -1\n",
    "        for batch in tqdm(data_iterator):\n",
    "            i += 1\n",
    "            batch = rebatch(1, batch)\n",
    "            result = beam_search_method(model, batch, 60, 2, 3, k)\n",
    "            src = batch.src.cpu().numpy()[0, :]\n",
    "            trg = batch.trg_y.cpu().numpy()[0, :]\n",
    "\n",
    "            # remove </s> (if it is there)\n",
    "            src = src[:-1] if src[-1] == 3 else src\n",
    "            trg = trg[:-1] if trg[-1] == 3 else trg\n",
    "\n",
    "            # remove <s> for src\n",
    "            src = src[1:] if src[0] == 2 else src\n",
    "            result = remove_eos(result, 3)\n",
    "            #print(result)\n",
    "            #for r in result:\n",
    "            #    print(\"Pred: \" + \" \".join(lookup_words(r, diffs_field.vocab)))\n",
    "            #return\n",
    "            if np.all(result[0] == trg):\n",
    "                correct += 1\n",
    "                correct_ind.append(i)\n",
    "                if print_first_correct:\n",
    "                    print_first_correct = False\n",
    "                    print(\"Example #%d\" % (i + 1))\n",
    "                    print(\"Src : \" + \" \".join(lookup_words(src, diffs_field.vocab)))\n",
    "                    print(\"Trg : \" + \" \".join(lookup_words(trg, diffs_field.vocab)))\n",
    "                    print(\"Pred: \" + \" \".join(lookup_words(result[0], diffs_field.vocab)))\n",
    "            for j in range(len(result)):\n",
    "                if np.all(result[j] == trg):\n",
    "                    top_k_correct += 1\n",
    "                    break\n",
    "            total += 1\n",
    "        print(f'Correct: {correct}, total: {total}, acc: {correct / total}')\n",
    "        print(f'Top K Correct: {top_k_correct}, total: {total}, acc: {top_k_correct / total}')\n",
    "        return correct_ind"
   ]
  },
  {
   "cell_type": "code",
   "execution_count": 443,
   "metadata": {},
   "outputs": [
    {
     "data": {
      "application/vnd.jupyter.widget-view+json": {
       "model_id": "7e6cf147d1ed43ae8d87ac9c6110a2e3",
       "version_major": 2,
       "version_minor": 0
      },
      "text/plain": [
       "HBox(children=(IntProgress(value=0, max=300), HTML(value='')))"
      ]
     },
     "metadata": {},
     "output_type": "display_data"
    },
    {
     "name": "stdout",
     "output_type": "stream",
     "text": [
      "Example #4\n",
      "Src : private void METHOD_1 ( java.lang.Class VAR_1 ) { android.content.Intent intent = new android.content.Intent ( this , VAR_1 ) ; METHOD_2 ( intent ) ; }\n",
      "Trg : public void METHOD_1 ( java.lang.Class VAR_1 ) { android.content.Intent intent = new android.content.Intent ( this , VAR_1 ) ; METHOD_2 ( intent ) ; }\n",
      "Pred: public void METHOD_1 ( java.lang.Class VAR_1 ) { android.content.Intent intent = new android.content.Intent ( this , VAR_1 ) ; METHOD_2 ( intent ) ; }\n",
      "\n",
      "Correct: 51, total: 300, acc: 0.17\n",
      "Top K Correct: 56, total: 300, acc: 0.18666666666666668\n"
     ]
    }
   ],
   "source": [
    "test_beam_search_learning_fixes(TEST_DATASET_PART_300, k=3)\n",
    "pass"
   ]
  },
  {
   "cell_type": "code",
   "execution_count": 444,
   "metadata": {},
   "outputs": [
    {
     "data": {
      "application/vnd.jupyter.widget-view+json": {
       "model_id": "cfb6e5891a974da9a4c0b60afebdb353",
       "version_major": 2,
       "version_minor": 0
      },
      "text/plain": [
       "HBox(children=(IntProgress(value=0, max=300), HTML(value='')))"
      ]
     },
     "metadata": {},
     "output_type": "display_data"
    },
    {
     "name": "stdout",
     "output_type": "stream",
     "text": [
      "Example #51\n",
      "Src : private void METHOD_1 ( java.lang.Class VAR_1 ) { android.content.Intent intent = new android.content.Intent ( this , VAR_1 ) ; METHOD_2 ( intent ) ; }\n",
      "Trg : public void METHOD_1 ( java.lang.Class VAR_1 ) { android.content.Intent intent = new android.content.Intent ( this , VAR_1 ) ; METHOD_2 ( intent ) ; }\n",
      "Pred: public void METHOD_1 ( java.lang.Class VAR_1 ) { android.content.Intent intent = new android.content.Intent ( this , VAR_1 ) ; METHOD_2 ( intent ) ; }\n",
      "\n",
      "Correct: 41, total: 300, acc: 0.13666666666666666\n",
      "Top K Correct: 90, total: 300, acc: 0.3\n"
     ]
    }
   ],
   "source": [
    "test_beam_search_learning_fixes(TEST_DATASET_PART_300, k=50)\n",
    "pass"
   ]
  },
  {
   "cell_type": "code",
   "execution_count": 549,
   "metadata": {},
   "outputs": [],
   "source": [
    "def test_beam_search_learning_fixes_2(dataset_to_run, k, beam_search_method=beam_search_learning_fixes):\n",
    "    model.unset_edit_representation()\n",
    "    correct_ind = []\n",
    "    with torch.no_grad():\n",
    "        data_iterator = data.Iterator(dataset_to_run, batch_size=1, sort=False, train=False, shuffle=False, device=CONFIG['DEVICE'])\n",
    "        correct = 0\n",
    "        top_k_correct = 0\n",
    "        total = 0\n",
    "        print_first_correct = True\n",
    "        i = -1\n",
    "        for batch in tqdm(data_iterator):\n",
    "            i += 1\n",
    "            batch = rebatch(1, batch)\n",
    "            result = beam_search_method(model, batch, 60, 2, 3, k)\n",
    "            src = batch.src.cpu().numpy()[0, :]\n",
    "            trg = batch.trg_y.cpu().numpy()[0, :]\n",
    "\n",
    "            # remove </s> (if it is there)\n",
    "            src = src[:-1] if src[-1] == 3 else src\n",
    "            trg = trg[:-1] if trg[-1] == 3 else trg\n",
    "\n",
    "            # remove <s> for src\n",
    "            src = src[1:] if src[0] == 2 else src\n",
    "            result = remove_eos(result, 3)\n",
    "            #print(len(result))\n",
    "            #print(result)\n",
    "            #for r in result:\n",
    "            #    print(\"Pred: \" + \" \".join(lookup_words(r, diffs_field.vocab)))\n",
    "            #return\n",
    "            if np.all(result[0] == trg):\n",
    "                correct += 1\n",
    "                correct_ind.append(i)\n",
    "                if print_first_correct:\n",
    "                    print_first_correct = False\n",
    "                    print(\"Example #%d\" % (i + 1))\n",
    "                    print(\"Src : \" + \" \".join(lookup_words(src, diffs_field.vocab)))\n",
    "                    print(\"Trg : \" + \" \".join(lookup_words(trg, diffs_field.vocab)))\n",
    "                    print(\"Pred: \" + \" \".join(lookup_words(result[0], diffs_field.vocab)))\n",
    "            for j in range(len(result)):\n",
    "                if np.all(result[j] == trg):\n",
    "                    top_k_correct += 1\n",
    "                    break\n",
    "            total += 1\n",
    "        print(f'Correct: {correct}, total: {total}, acc: {correct / total}')\n",
    "        print(f'Top K Correct: {top_k_correct}, total: {total}, acc: {top_k_correct / total}')\n",
    "        return correct_ind"
   ]
  },
  {
   "cell_type": "code",
   "execution_count": 501,
   "metadata": {},
   "outputs": [],
   "source": [
    "def beam_search_learning_fixes_cut_eos(model, batch,\n",
    "                  max_len: int,\n",
    "                  sos_index: int, eos_index: int, beam_size=1):\n",
    "    # TODO: create beam search, B = beam_size\n",
    "    # [B, SrcSeqLen], [B, 1, SrcSeqLen], [B]\n",
    "    src, src_mask, src_lengths = batch.src, batch.src_mask, batch.src_lengths\n",
    "    with torch.no_grad():\n",
    "        edit_final, encoder_output, encoder_final = model.encode(batch)\n",
    "        prev_y = torch.ones(batch.nseqs, 1).fill_(sos_index).type_as(src)  # [B, 1]\n",
    "        trg_mask = torch.ones_like(prev_y)  # [B, 1]\n",
    "    \n",
    "    def repeat_beam_size(tensor):\n",
    "        return torch.cat(beam_size * [tensor])\n",
    "    \n",
    "    output = torch.zeros((beam_size, max_len))\n",
    "    states = None\n",
    "    \n",
    "    with torch.no_grad():\n",
    "        # pre_output: [B, TrgSeqLen, DecoderH]\n",
    "        out, states, pre_output = model.decode(edit_final, encoder_output, encoder_final,\n",
    "                                               src_mask, prev_y, trg_mask, states)\n",
    "\n",
    "        # we predict from the pre-output layer, which is\n",
    "        # a combination of Decoder state, prev emb, and context\n",
    "        prob = model.generator(pre_output[:, -1])  # [B, V]\n",
    "\n",
    "    edit_final = (edit_final[0][:, beam_size * [0], :], edit_final[1][:, beam_size * [0], :])\n",
    "    encoder_output = repeat_beam_size(encoder_output)\n",
    "    encoder_final = (encoder_final[0][:, beam_size * [0], :], encoder_final[1][:, beam_size * [0], :])\n",
    "    states = (states[0][:, beam_size * [0], :], states[1][:, beam_size * [0], :])\n",
    "    prev_y = repeat_beam_size(prev_y)\n",
    "    trg_mask = repeat_beam_size(trg_mask)\n",
    "    src_mask = repeat_beam_size(src_mask)\n",
    "\n",
    "    best_probs, next_words = torch.sort(prob, dim=1)\n",
    "    best_probs, next_words = best_probs[0, -beam_size:], next_words[0, -beam_size:]\n",
    "    output[:, 0] = next_words\n",
    "    prev_y[:, 0] = next_words\n",
    "    results = []\n",
    "    for i in range(1, max_len):\n",
    "        with torch.no_grad():\n",
    "            # pre_output: [B, TrgSeqLen, DecoderH]\n",
    "            #print_shapes(edit_final=edit_final, encoder_output=encoder_output, encoder_final=encoder_final,\n",
    "            #            src_mask=src_mask, prev_y=prev_y, trg_mask=trg_mask, states=states)\n",
    "            out, states, pre_output = model.decode(edit_final, encoder_output, encoder_final,\n",
    "                                                   src_mask, prev_y, trg_mask, states)\n",
    "\n",
    "            # we predict from the pre-output layer, which is\n",
    "            # a combination of Decoder state, prev emb, and context\n",
    "            prob = model.generator(pre_output[:, -1])  # [B, V]\n",
    "            \n",
    "        # TODO: consider termination\n",
    "        new_best = best_probs.unsqueeze(1).repeat((1, prob.shape[1])) + prob\n",
    "        new_best = torch.flatten(new_best)\n",
    "        best_probs, next_words = torch.sort(new_best)\n",
    "        \n",
    "        collected = 0\n",
    "        ind = len(new_best) - 1\n",
    "        all_permutations = next_words // prob.shape[1]\n",
    "        new_best_permutation = torch.zeros(beam_size).long()\n",
    "        new_next_words = torch.zeros(beam_size).long()\n",
    "        new_best_probs = torch.zeros(beam_size)\n",
    "        while collected != beam_size:\n",
    "            if next_words[ind] % prob.shape[1] == eos_index:\n",
    "                results.append(output[all_permutations[ind]][:i].long().numpy())\n",
    "            else:\n",
    "                new_best_permutation[collected] = all_permutations[ind]\n",
    "                new_next_words[collected] = next_words[ind]\n",
    "                new_best_probs[collected] = best_probs[ind]\n",
    "                collected += 1\n",
    "            ind -= 1\n",
    "        best_probs = new_best_probs\n",
    "        #print(best_probs)\n",
    "        \n",
    "        #print(best_probs)\n",
    "        #return\n",
    "        output = output[new_best_permutation, :]\n",
    "        states = (states[0][:, new_best_permutation, :], states[1][:, new_best_permutation, :])\n",
    "        prev_y = prev_y[new_best_permutation, :]\n",
    "        \n",
    "        new_next_words = new_next_words % prob.shape[1]\n",
    "        output[:, i] = new_next_words\n",
    "        prev_y[:, 0] = new_next_words\n",
    "\n",
    "    output = output.cpu().long().numpy()\n",
    "    output = remove_eos(output, eos_index)\n",
    "    for i in range(beam_size):\n",
    "        results.append(output[i])\n",
    "    return np.array(results)"
   ]
  },
  {
   "cell_type": "code",
   "execution_count": 477,
   "metadata": {},
   "outputs": [
    {
     "data": {
      "application/vnd.jupyter.widget-view+json": {
       "model_id": "72449e486dfa4d7f89b17804d3555abf",
       "version_major": 2,
       "version_minor": 0
      },
      "text/plain": [
       "HBox(children=(IntProgress(value=0, max=300), HTML(value='')))"
      ]
     },
     "metadata": {},
     "output_type": "display_data"
    },
    {
     "name": "stdout",
     "output_type": "stream",
     "text": [
      "Example #4\n",
      "Src : public void METHOD_1 ( int VAR_1 , TYPE_1 VAR_2 ) { this . VAR_3 . add ( VAR_1 , VAR_2 ) ; VAR_4 . add ( this ) ; }\n",
      "Trg : public void METHOD_1 ( int VAR_1 , TYPE_1 VAR_2 ) { this . VAR_3 . add ( VAR_1 , VAR_2 ) ; }\n",
      "Pred: public void METHOD_1 ( int VAR_1 , TYPE_1 VAR_2 ) { this . VAR_3 . add ( VAR_1 , VAR_2 ) ; }\n",
      "\n",
      "Correct: 34, total: 300, acc: 0.11333333333333333\n",
      "Top K Correct: 99, total: 300, acc: 0.33\n"
     ]
    }
   ],
   "source": [
    "test_beam_search_learning_fixes_2(TEST_DATASET_PART_300, k=3, beam_search_method=beam_search_learning_fixes_cut_eos)\n",
    "pass"
   ]
  },
  {
   "cell_type": "code",
   "execution_count": 478,
   "metadata": {},
   "outputs": [
    {
     "data": {
      "application/vnd.jupyter.widget-view+json": {
       "model_id": "60ef1702e5974cba90f3b7d1a782e433",
       "version_major": 2,
       "version_minor": 0
      },
      "text/plain": [
       "HBox(children=(IntProgress(value=0, max=300), HTML(value='')))"
      ]
     },
     "metadata": {},
     "output_type": "display_data"
    },
    {
     "name": "stdout",
     "output_type": "stream",
     "text": [
      "Example #4\n",
      "Src : public char getColor ( ) throws java.io.IOException { VAR_1 . METHOD_1 ( ( STRING_1 + \"\\n\" ) ) ; java.lang.String response = VAR_2 . METHOD_2 ( ) ; java.lang.System.out.println ( response ) ; return response . METHOD_3 ( 0 ) ; }\n",
      "Trg : public char getColor ( ) throws java.io.IOException { VAR_1 . METHOD_1 ( ( STRING_1 + \"\\n\" ) ) ; java.lang.String response = VAR_2 . METHOD_2 ( ) ; return response . METHOD_3 ( 0 ) ; }\n",
      "Pred: public char getColor ( ) throws java.io.IOException { VAR_1 . METHOD_1 ( ( STRING_1 + \"\\n\" ) ) ; java.lang.String response = VAR_2 . METHOD_2 ( ) ; return response . METHOD_3 ( 0 ) ; }\n",
      "\n",
      "Correct: 16, total: 300, acc: 0.05333333333333334\n",
      "Top K Correct: 153, total: 300, acc: 0.51\n"
     ]
    }
   ],
   "source": [
    "test_beam_search_learning_fixes_2(TEST_DATASET_PART_300, k=10, beam_search_method=beam_search_learning_fixes_cut_eos)\n",
    "pass"
   ]
  },
  {
   "cell_type": "code",
   "execution_count": 479,
   "metadata": {},
   "outputs": [
    {
     "data": {
      "application/vnd.jupyter.widget-view+json": {
       "model_id": "4cbccd4c5c7c434b9c001a42b4f8805a",
       "version_major": 2,
       "version_minor": 0
      },
      "text/plain": [
       "HBox(children=(IntProgress(value=0, max=300), HTML(value='')))"
      ]
     },
     "metadata": {},
     "output_type": "display_data"
    },
    {
     "name": "stdout",
     "output_type": "stream",
     "text": [
      "\n",
      "Correct: 0, total: 300, acc: 0.0\n",
      "Top K Correct: 183, total: 300, acc: 0.61\n"
     ]
    }
   ],
   "source": [
    "test_beam_search_learning_fixes_2(TEST_DATASET_PART_300, k=50, beam_search_method=beam_search_learning_fixes_cut_eos)\n",
    "pass"
   ]
  },
  {
   "cell_type": "code",
   "execution_count": 480,
   "metadata": {},
   "outputs": [
    {
     "data": {
      "application/vnd.jupyter.widget-view+json": {
       "model_id": "55382d5a52b445cb99ed26f50098e833",
       "version_major": 2,
       "version_minor": 0
      },
      "text/plain": [
       "HBox(children=(IntProgress(value=0, max=300), HTML(value='')))"
      ]
     },
     "metadata": {},
     "output_type": "display_data"
    },
    {
     "name": "stdout",
     "output_type": "stream",
     "text": [
      "Example #16\n",
      "Src : public void METHOD_1 ( int VAR_1 , TYPE_1 VAR_2 ) { this . VAR_3 . add ( VAR_1 , VAR_2 ) ; VAR_4 . add ( this ) ; }\n",
      "Trg : public void METHOD_1 ( int VAR_1 , TYPE_1 VAR_2 ) { this . VAR_3 . add ( VAR_1 , VAR_2 ) ; }\n",
      "Pred: public void METHOD_1 ( int VAR_1 , TYPE_1 VAR_2 ) { this . VAR_3 . add ( VAR_1 , VAR_2 ) ; }\n",
      "\n",
      "Correct: 53, total: 300, acc: 0.17666666666666667\n",
      "Top K Correct: 53, total: 300, acc: 0.17666666666666667\n"
     ]
    }
   ],
   "source": [
    "test_beam_search_learning_fixes_2(TEST_DATASET_PART_300, k=1, beam_search_method=beam_search_learning_fixes_cut_eos)\n",
    "pass"
   ]
  },
  {
   "cell_type": "code",
   "execution_count": 481,
   "metadata": {},
   "outputs": [
    {
     "data": {
      "application/vnd.jupyter.widget-view+json": {
       "model_id": "4ad7ede0176045759c350a68d59d5878",
       "version_major": 2,
       "version_minor": 0
      },
      "text/plain": [
       "HBox(children=(IntProgress(value=0, max=300), HTML(value='')))"
      ]
     },
     "metadata": {},
     "output_type": "display_data"
    },
    {
     "name": "stdout",
     "output_type": "stream",
     "text": [
      "Example #9\n",
      "Src : public char getColor ( ) throws java.io.IOException { VAR_1 . METHOD_1 ( ( STRING_1 + \"\\n\" ) ) ; java.lang.String response = VAR_2 . METHOD_2 ( ) ; java.lang.System.out.println ( response ) ; return response . METHOD_3 ( 0 ) ; }\n",
      "Trg : public char getColor ( ) throws java.io.IOException { VAR_1 . METHOD_1 ( ( STRING_1 + \"\\n\" ) ) ; java.lang.String response = VAR_2 . METHOD_2 ( ) ; return response . METHOD_3 ( 0 ) ; }\n",
      "Pred: public char getColor ( ) throws java.io.IOException { VAR_1 . METHOD_1 ( ( STRING_1 + \"\\n\" ) ) ; java.lang.String response = VAR_2 . METHOD_2 ( ) ; return response . METHOD_3 ( 0 ) ; }\n",
      "\n",
      "Correct: 53, total: 300, acc: 0.17666666666666667\n"
     ]
    }
   ],
   "source": [
    "test_greedy_search(TEST_DATASET_PART_300)"
   ]
  },
  {
   "cell_type": "code",
   "execution_count": 406,
   "metadata": {},
   "outputs": [],
   "source": [
    "def test_beam_search_learning_fixes_top_k(dataset_to_run, k, beam_search_method, max_len=60):\n",
    "    model.unset_edit_representation()\n",
    "    correct_ind = []\n",
    "    with torch.no_grad():\n",
    "        data_iterator = data.Iterator(dataset_to_run, batch_size=1, sort=False, train=False, shuffle=False, device=CONFIG['DEVICE'])\n",
    "        correct = 0\n",
    "        top_k_correct = 0\n",
    "        total = 0\n",
    "        print_first_correct = True\n",
    "        i = -1\n",
    "        for batch in tqdm(data_iterator):\n",
    "            i += 1\n",
    "            batch = rebatch(1, batch)\n",
    "            result = beam_search_method(model, batch, max_len, 2, 3, k)[:k]\n",
    "            src = batch.src.cpu().numpy()[0, :]\n",
    "            trg = batch.trg_y.cpu().numpy()[0, :]\n",
    "\n",
    "            # remove </s> (if it is there)\n",
    "            src = src[:-1] if src[-1] == 3 else src\n",
    "            trg = trg[:-1] if trg[-1] == 3 else trg\n",
    "\n",
    "            # remove <s> for src\n",
    "            src = src[1:] if src[0] == 2 else src\n",
    "            result = remove_eos(result, 3)\n",
    "            #if i == 2:\n",
    "            #    print(len(result))\n",
    "            #    print(result)\n",
    "            #    for r in result:\n",
    "            #        print(\"Src : \" + \" \".join(lookup_words(src, diffs_field.vocab)))\n",
    "            #        print(\"Trg : \" + \" \".join(lookup_words(trg, diffs_field.vocab)))\n",
    "            #        print(\"Pred: \" + \" \".join(lookup_words(r, diffs_field.vocab)))\n",
    "            #    return\n",
    "            if len(result) > 0 and np.all(result[0] == trg):\n",
    "                correct += 1\n",
    "                correct_ind.append(i)\n",
    "                if print_first_correct:\n",
    "                    print_first_correct = False\n",
    "                    print(\"Example #%d\" % (i + 1))\n",
    "                    print(\"Src : \" + \" \".join(lookup_words(src, diffs_field.vocab)))\n",
    "                    print(\"Trg : \" + \" \".join(lookup_words(trg, diffs_field.vocab)))\n",
    "                    print(\"Pred: \" + \" \".join(lookup_words(result[0], diffs_field.vocab)))\n",
    "            for j in range(len(result)):\n",
    "                if np.all(result[j] == trg):\n",
    "                    top_k_correct += 1\n",
    "                    break\n",
    "            total += 1\n",
    "        print(f'Correct: {correct}, total: {total}, acc: {correct / total}')\n",
    "        print(f'Top K Correct: {top_k_correct}, total: {total}, acc: {top_k_correct / total}')\n",
    "        return correct_ind"
   ]
  },
  {
   "cell_type": "code",
   "execution_count": 483,
   "metadata": {},
   "outputs": [
    {
     "data": {
      "application/vnd.jupyter.widget-view+json": {
       "model_id": "891ee8cf92d94adfb81ab3a2450ccbfa",
       "version_major": 2,
       "version_minor": 0
      },
      "text/plain": [
       "HBox(children=(IntProgress(value=0, max=300), HTML(value='')))"
      ]
     },
     "metadata": {},
     "output_type": "display_data"
    },
    {
     "name": "stdout",
     "output_type": "stream",
     "text": [
      "Example #4\n",
      "Src : public void METHOD_1 ( int VAR_1 , TYPE_1 VAR_2 ) { this . VAR_3 . add ( VAR_1 , VAR_2 ) ; VAR_4 . add ( this ) ; }\n",
      "Trg : public void METHOD_1 ( int VAR_1 , TYPE_1 VAR_2 ) { this . VAR_3 . add ( VAR_1 , VAR_2 ) ; }\n",
      "Pred: public void METHOD_1 ( int VAR_1 , TYPE_1 VAR_2 ) { this . VAR_3 . add ( VAR_1 , VAR_2 ) ; }\n",
      "\n",
      "Correct: 34, total: 300, acc: 0.11333333333333333\n",
      "Top K Correct: 87, total: 300, acc: 0.29\n"
     ]
    }
   ],
   "source": [
    "test_beam_search_learning_fixes_top_k(TEST_DATASET_PART_300, k=3, beam_search_method=beam_search_learning_fixes_cut_eos)\n",
    "pass"
   ]
  },
  {
   "cell_type": "code",
   "execution_count": 484,
   "metadata": {},
   "outputs": [
    {
     "data": {
      "application/vnd.jupyter.widget-view+json": {
       "model_id": "137dbafc4982432491481aac4b0e271a",
       "version_major": 2,
       "version_minor": 0
      },
      "text/plain": [
       "HBox(children=(IntProgress(value=0, max=300), HTML(value='')))"
      ]
     },
     "metadata": {},
     "output_type": "display_data"
    },
    {
     "name": "stdout",
     "output_type": "stream",
     "text": [
      "\n",
      "Correct: 0, total: 300, acc: 0.0\n",
      "Top K Correct: 153, total: 300, acc: 0.51\n"
     ]
    }
   ],
   "source": [
    "test_beam_search_learning_fixes_top_k(TEST_DATASET_PART_300, k=50, beam_search_method=beam_search_learning_fixes_cut_eos)\n",
    "pass"
   ]
  },
  {
   "cell_type": "code",
   "execution_count": 502,
   "metadata": {},
   "outputs": [],
   "source": [
    "def beam_search_learning_fixes_cut_eos_sort_by_probs(model, batch,\n",
    "                  max_len: int,\n",
    "                  sos_index: int, eos_index: int, beam_size=1):\n",
    "    # TODO: create beam search, B = beam_size\n",
    "    # [B, SrcSeqLen], [B, 1, SrcSeqLen], [B]\n",
    "    src, src_mask, src_lengths = batch.src, batch.src_mask, batch.src_lengths\n",
    "    with torch.no_grad():\n",
    "        edit_final, encoder_output, encoder_final = model.encode(batch)\n",
    "        prev_y = torch.ones(batch.nseqs, 1).fill_(sos_index).type_as(src)  # [B, 1]\n",
    "        trg_mask = torch.ones_like(prev_y)  # [B, 1]\n",
    "    \n",
    "    def repeat_beam_size(tensor):\n",
    "        return torch.cat(beam_size * [tensor])\n",
    "    \n",
    "    output = torch.zeros((beam_size, max_len))\n",
    "    states = None\n",
    "    \n",
    "    with torch.no_grad():\n",
    "        # pre_output: [B, TrgSeqLen, DecoderH]\n",
    "        out, states, pre_output = model.decode(edit_final, encoder_output, encoder_final,\n",
    "                                               src_mask, prev_y, trg_mask, states)\n",
    "\n",
    "        # we predict from the pre-output layer, which is\n",
    "        # a combination of Decoder state, prev emb, and context\n",
    "        prob = model.generator(pre_output[:, -1])  # [B, V]\n",
    "\n",
    "    edit_final = (edit_final[0][:, beam_size * [0], :], edit_final[1][:, beam_size * [0], :])\n",
    "    encoder_output = repeat_beam_size(encoder_output)\n",
    "    encoder_final = (encoder_final[0][:, beam_size * [0], :], encoder_final[1][:, beam_size * [0], :])\n",
    "    states = (states[0][:, beam_size * [0], :], states[1][:, beam_size * [0], :])\n",
    "    prev_y = repeat_beam_size(prev_y)\n",
    "    trg_mask = repeat_beam_size(trg_mask)\n",
    "    src_mask = repeat_beam_size(src_mask)\n",
    "\n",
    "    best_probs, next_words = torch.sort(prob, dim=1)\n",
    "    best_probs, next_words = best_probs[0, -beam_size:], next_words[0, -beam_size:]\n",
    "    output[:, 0] = next_words\n",
    "    prev_y[:, 0] = next_words\n",
    "    results = []\n",
    "    results_probs = []\n",
    "    for i in range(1, max_len):\n",
    "        with torch.no_grad():\n",
    "            # pre_output: [B, TrgSeqLen, DecoderH]\n",
    "            #print_shapes(edit_final=edit_final, encoder_output=encoder_output, encoder_final=encoder_final,\n",
    "            #            src_mask=src_mask, prev_y=prev_y, trg_mask=trg_mask, states=states)\n",
    "            out, states, pre_output = model.decode(edit_final, encoder_output, encoder_final,\n",
    "                                                   src_mask, prev_y, trg_mask, states)\n",
    "\n",
    "            # we predict from the pre-output layer, which is\n",
    "            # a combination of Decoder state, prev emb, and context\n",
    "            prob = model.generator(pre_output[:, -1])  # [B, V]\n",
    "            \n",
    "        # TODO: consider termination\n",
    "        new_best = best_probs.unsqueeze(1).repeat((1, prob.shape[1])) + prob\n",
    "        new_best = torch.flatten(new_best)\n",
    "        best_probs, next_words = torch.sort(new_best)\n",
    "        \n",
    "        collected = 0\n",
    "        ind = len(new_best) - 1\n",
    "        all_permutations = next_words // prob.shape[1]\n",
    "        new_best_permutation = torch.zeros(beam_size).long()\n",
    "        new_next_words = torch.zeros(beam_size).long()\n",
    "        new_best_probs = torch.zeros(beam_size)\n",
    "        while collected != beam_size:\n",
    "            if next_words[ind] % prob.shape[1] == eos_index:\n",
    "                results.append(output[all_permutations[ind]][:i].long().numpy())\n",
    "                results_probs.append(best_probs[ind])\n",
    "            else:\n",
    "                new_best_permutation[collected] = all_permutations[ind]\n",
    "                new_next_words[collected] = next_words[ind]\n",
    "                new_best_probs[collected] = best_probs[ind]\n",
    "                collected += 1\n",
    "            ind -= 1\n",
    "        best_probs = new_best_probs\n",
    "        #print(best_probs)\n",
    "        \n",
    "        #print(best_probs)\n",
    "        #return\n",
    "        output = output[new_best_permutation, :]\n",
    "        states = (states[0][:, new_best_permutation, :], states[1][:, new_best_permutation, :])\n",
    "        prev_y = prev_y[new_best_permutation, :]\n",
    "        \n",
    "        new_next_words = new_next_words % prob.shape[1]\n",
    "        output[:, i] = new_next_words\n",
    "        prev_y[:, 0] = new_next_words\n",
    "\n",
    "    output = output.cpu().long().numpy()\n",
    "    output = remove_eos(output, eos_index)\n",
    "    for i in range(beam_size):\n",
    "        results.append(output[i])\n",
    "        results_probs.append(best_probs[i])\n",
    "    results_probs = np.array(results_probs)\n",
    "    results = np.array(results)\n",
    "    sorted_probs_args = np.argsort(results_probs)\n",
    "    return np.flip(results[sorted_probs_args])"
   ]
  },
  {
   "cell_type": "code",
   "execution_count": 491,
   "metadata": {},
   "outputs": [
    {
     "data": {
      "application/vnd.jupyter.widget-view+json": {
       "model_id": "3af1e7d0d5624c79a959974fe75e2e55",
       "version_major": 2,
       "version_minor": 0
      },
      "text/plain": [
       "HBox(children=(IntProgress(value=0, max=300), HTML(value='')))"
      ]
     },
     "metadata": {},
     "output_type": "display_data"
    },
    {
     "name": "stdout",
     "output_type": "stream",
     "text": [
      "Example #4\n",
      "Src : public void METHOD_1 ( int VAR_1 , TYPE_1 VAR_2 ) { this . VAR_3 . add ( VAR_1 , VAR_2 ) ; VAR_4 . add ( this ) ; }\n",
      "Trg : public void METHOD_1 ( int VAR_1 , TYPE_1 VAR_2 ) { this . VAR_3 . add ( VAR_1 , VAR_2 ) ; }\n",
      "Pred: public void METHOD_1 ( int VAR_1 , TYPE_1 VAR_2 ) { this . VAR_3 . add ( VAR_1 , VAR_2 ) ; }\n",
      "\n",
      "Correct: 60, total: 300, acc: 0.2\n",
      "Top K Correct: 97, total: 300, acc: 0.3233333333333333\n"
     ]
    }
   ],
   "source": [
    "test_beam_search_learning_fixes_top_k(TEST_DATASET_PART_300, k=3, beam_search_method=beam_search_learning_fixes_cut_eos_sort_by_probs)\n",
    "pass"
   ]
  },
  {
   "cell_type": "code",
   "execution_count": 492,
   "metadata": {},
   "outputs": [
    {
     "data": {
      "application/vnd.jupyter.widget-view+json": {
       "model_id": "9e5fe50658194691816a37f2d0195910",
       "version_major": 2,
       "version_minor": 0
      },
      "text/plain": [
       "HBox(children=(IntProgress(value=0, max=300), HTML(value='')))"
      ]
     },
     "metadata": {},
     "output_type": "display_data"
    },
    {
     "name": "stdout",
     "output_type": "stream",
     "text": [
      "Example #4\n",
      "Src : public void METHOD_1 ( int VAR_1 , TYPE_1 VAR_2 ) { this . VAR_3 . add ( VAR_1 , VAR_2 ) ; VAR_4 . add ( this ) ; }\n",
      "Trg : public void METHOD_1 ( int VAR_1 , TYPE_1 VAR_2 ) { this . VAR_3 . add ( VAR_1 , VAR_2 ) ; }\n",
      "Pred: public void METHOD_1 ( int VAR_1 , TYPE_1 VAR_2 ) { this . VAR_3 . add ( VAR_1 , VAR_2 ) ; }\n",
      "\n",
      "Correct: 60, total: 300, acc: 0.2\n",
      "Top K Correct: 177, total: 300, acc: 0.59\n"
     ]
    }
   ],
   "source": [
    "test_beam_search_learning_fixes_top_k(TEST_DATASET_PART_300, k=50, beam_search_method=beam_search_learning_fixes_cut_eos_sort_by_probs)\n",
    "pass"
   ]
  },
  {
   "cell_type": "code",
   "execution_count": 552,
   "metadata": {},
   "outputs": [
    {
     "data": {
      "application/vnd.jupyter.widget-view+json": {
       "model_id": "6066620115784ec2a2e0823e8b387e52",
       "version_major": 2,
       "version_minor": 0
      },
      "text/plain": [
       "HBox(children=(IntProgress(value=0, max=5835), HTML(value='')))"
      ]
     },
     "metadata": {},
     "output_type": "display_data"
    },
    {
     "name": "stdout",
     "output_type": "stream",
     "text": [
      "Example #8\n",
      "Src : public void METHOD_1 ( int VAR_1 , TYPE_1 VAR_2 ) { this . VAR_3 . add ( VAR_1 , VAR_2 ) ; VAR_4 . add ( this ) ; }\n",
      "Trg : public void METHOD_1 ( int VAR_1 , TYPE_1 VAR_2 ) { this . VAR_3 . add ( VAR_1 , VAR_2 ) ; }\n",
      "Pred: public void METHOD_1 ( int VAR_1 , TYPE_1 VAR_2 ) { this . VAR_3 . add ( VAR_1 , VAR_2 ) ; }\n"
     ]
    },
    {
     "ename": "KeyboardInterrupt",
     "evalue": "",
     "output_type": "error",
     "traceback": [
      "\u001b[0;31m---------------------------------------------------------------------------\u001b[0m",
      "\u001b[0;31mKeyboardInterrupt\u001b[0m                         Traceback (most recent call last)",
      "\u001b[0;32m<ipython-input-552-3f6e2c7b5a2c>\u001b[0m in \u001b[0;36m<module>\u001b[0;34m\u001b[0m\n\u001b[0;32m----> 1\u001b[0;31m \u001b[0mtest_beam_search_learning_fixes_top_k\u001b[0m\u001b[0;34m(\u001b[0m\u001b[0mtest_dataset\u001b[0m\u001b[0;34m,\u001b[0m \u001b[0mk\u001b[0m\u001b[0;34m=\u001b[0m\u001b[0;36m50\u001b[0m\u001b[0;34m,\u001b[0m \u001b[0mbeam_search_method\u001b[0m\u001b[0;34m=\u001b[0m\u001b[0mbeam_search_learning_fixes_cut_eos_sort_by_probs\u001b[0m\u001b[0;34m)\u001b[0m\u001b[0;34m\u001b[0m\u001b[0;34m\u001b[0m\u001b[0m\n\u001b[0m\u001b[1;32m      2\u001b[0m \u001b[0;32mpass\u001b[0m\u001b[0;34m\u001b[0m\u001b[0;34m\u001b[0m\u001b[0m\n",
      "\u001b[0;32m<ipython-input-545-7adbddd64051>\u001b[0m in \u001b[0;36mtest_beam_search_learning_fixes_top_k\u001b[0;34m(dataset_to_run, k, beam_search_method)\u001b[0m\n\u001b[1;32m     12\u001b[0m             \u001b[0mi\u001b[0m \u001b[0;34m+=\u001b[0m \u001b[0;36m1\u001b[0m\u001b[0;34m\u001b[0m\u001b[0;34m\u001b[0m\u001b[0m\n\u001b[1;32m     13\u001b[0m             \u001b[0mbatch\u001b[0m \u001b[0;34m=\u001b[0m \u001b[0mrebatch\u001b[0m\u001b[0;34m(\u001b[0m\u001b[0;36m1\u001b[0m\u001b[0;34m,\u001b[0m \u001b[0mbatch\u001b[0m\u001b[0;34m)\u001b[0m\u001b[0;34m\u001b[0m\u001b[0;34m\u001b[0m\u001b[0m\n\u001b[0;32m---> 14\u001b[0;31m             \u001b[0mresult\u001b[0m \u001b[0;34m=\u001b[0m \u001b[0mbeam_search_method\u001b[0m\u001b[0;34m(\u001b[0m\u001b[0mmodel\u001b[0m\u001b[0;34m,\u001b[0m \u001b[0mbatch\u001b[0m\u001b[0;34m,\u001b[0m \u001b[0;36m60\u001b[0m\u001b[0;34m,\u001b[0m \u001b[0;36m2\u001b[0m\u001b[0;34m,\u001b[0m \u001b[0;36m3\u001b[0m\u001b[0;34m,\u001b[0m \u001b[0mk\u001b[0m\u001b[0;34m)\u001b[0m\u001b[0;34m[\u001b[0m\u001b[0;34m:\u001b[0m\u001b[0mk\u001b[0m\u001b[0;34m]\u001b[0m\u001b[0;34m\u001b[0m\u001b[0;34m\u001b[0m\u001b[0m\n\u001b[0m\u001b[1;32m     15\u001b[0m             \u001b[0msrc\u001b[0m \u001b[0;34m=\u001b[0m \u001b[0mbatch\u001b[0m\u001b[0;34m.\u001b[0m\u001b[0msrc\u001b[0m\u001b[0;34m.\u001b[0m\u001b[0mcpu\u001b[0m\u001b[0;34m(\u001b[0m\u001b[0;34m)\u001b[0m\u001b[0;34m.\u001b[0m\u001b[0mnumpy\u001b[0m\u001b[0;34m(\u001b[0m\u001b[0;34m)\u001b[0m\u001b[0;34m[\u001b[0m\u001b[0;36m0\u001b[0m\u001b[0;34m,\u001b[0m \u001b[0;34m:\u001b[0m\u001b[0;34m]\u001b[0m\u001b[0;34m\u001b[0m\u001b[0;34m\u001b[0m\u001b[0m\n\u001b[1;32m     16\u001b[0m             \u001b[0mtrg\u001b[0m \u001b[0;34m=\u001b[0m \u001b[0mbatch\u001b[0m\u001b[0;34m.\u001b[0m\u001b[0mtrg_y\u001b[0m\u001b[0;34m.\u001b[0m\u001b[0mcpu\u001b[0m\u001b[0;34m(\u001b[0m\u001b[0;34m)\u001b[0m\u001b[0;34m.\u001b[0m\u001b[0mnumpy\u001b[0m\u001b[0;34m(\u001b[0m\u001b[0;34m)\u001b[0m\u001b[0;34m[\u001b[0m\u001b[0;36m0\u001b[0m\u001b[0;34m,\u001b[0m \u001b[0;34m:\u001b[0m\u001b[0;34m]\u001b[0m\u001b[0;34m\u001b[0m\u001b[0;34m\u001b[0m\u001b[0m\n",
      "\u001b[0;32m<ipython-input-502-dea289d0ca00>\u001b[0m in \u001b[0;36mbeam_search_learning_fixes_cut_eos_sort_by_probs\u001b[0;34m(model, batch, max_len, sos_index, eos_index, beam_size)\u001b[0m\n\u001b[1;32m     45\u001b[0m             \u001b[0;31m#            src_mask=src_mask, prev_y=prev_y, trg_mask=trg_mask, states=states)\u001b[0m\u001b[0;34m\u001b[0m\u001b[0;34m\u001b[0m\u001b[0;34m\u001b[0m\u001b[0m\n\u001b[1;32m     46\u001b[0m             out, states, pre_output = model.decode(edit_final, encoder_output, encoder_final,\n\u001b[0;32m---> 47\u001b[0;31m                                                    src_mask, prev_y, trg_mask, states)\n\u001b[0m\u001b[1;32m     48\u001b[0m \u001b[0;34m\u001b[0m\u001b[0m\n\u001b[1;32m     49\u001b[0m             \u001b[0;31m# we predict from the pre-output layer, which is\u001b[0m\u001b[0;34m\u001b[0m\u001b[0;34m\u001b[0m\u001b[0;34m\u001b[0m\u001b[0m\n",
      "\u001b[0;32m~/Documents/Development/embeddings-for-code-diffs/neural_editor/seq2seq/EncoderDecoder.py\u001b[0m in \u001b[0;36mdecode\u001b[0;34m(self, edit_final, encoder_output, encoder_final, src_mask, trg, trg_mask, states_to_initialize)\u001b[0m\n\u001b[1;32m    124\u001b[0m         \"\"\"\n\u001b[1;32m    125\u001b[0m         return self.decoder(self.embed(trg), edit_final, encoder_output, encoder_final,\n\u001b[0;32m--> 126\u001b[0;31m                             src_mask, trg_mask, states_to_initialize)\n\u001b[0m",
      "\u001b[0;32m~/anaconda3/envs/embeddings-for-code-diffs/lib/python3.6/site-packages/torch/nn/modules/module.py\u001b[0m in \u001b[0;36m__call__\u001b[0;34m(self, *input, **kwargs)\u001b[0m\n\u001b[1;32m    539\u001b[0m             \u001b[0mresult\u001b[0m \u001b[0;34m=\u001b[0m \u001b[0mself\u001b[0m\u001b[0;34m.\u001b[0m\u001b[0m_slow_forward\u001b[0m\u001b[0;34m(\u001b[0m\u001b[0;34m*\u001b[0m\u001b[0minput\u001b[0m\u001b[0;34m,\u001b[0m \u001b[0;34m**\u001b[0m\u001b[0mkwargs\u001b[0m\u001b[0;34m)\u001b[0m\u001b[0;34m\u001b[0m\u001b[0;34m\u001b[0m\u001b[0m\n\u001b[1;32m    540\u001b[0m         \u001b[0;32melse\u001b[0m\u001b[0;34m:\u001b[0m\u001b[0;34m\u001b[0m\u001b[0;34m\u001b[0m\u001b[0m\n\u001b[0;32m--> 541\u001b[0;31m             \u001b[0mresult\u001b[0m \u001b[0;34m=\u001b[0m \u001b[0mself\u001b[0m\u001b[0;34m.\u001b[0m\u001b[0mforward\u001b[0m\u001b[0;34m(\u001b[0m\u001b[0;34m*\u001b[0m\u001b[0minput\u001b[0m\u001b[0;34m,\u001b[0m \u001b[0;34m**\u001b[0m\u001b[0mkwargs\u001b[0m\u001b[0;34m)\u001b[0m\u001b[0;34m\u001b[0m\u001b[0;34m\u001b[0m\u001b[0m\n\u001b[0m\u001b[1;32m    542\u001b[0m         \u001b[0;32mfor\u001b[0m \u001b[0mhook\u001b[0m \u001b[0;32min\u001b[0m \u001b[0mself\u001b[0m\u001b[0;34m.\u001b[0m\u001b[0m_forward_hooks\u001b[0m\u001b[0;34m.\u001b[0m\u001b[0mvalues\u001b[0m\u001b[0;34m(\u001b[0m\u001b[0;34m)\u001b[0m\u001b[0;34m:\u001b[0m\u001b[0;34m\u001b[0m\u001b[0;34m\u001b[0m\u001b[0m\n\u001b[1;32m    543\u001b[0m             \u001b[0mhook_result\u001b[0m \u001b[0;34m=\u001b[0m \u001b[0mhook\u001b[0m\u001b[0;34m(\u001b[0m\u001b[0mself\u001b[0m\u001b[0;34m,\u001b[0m \u001b[0minput\u001b[0m\u001b[0;34m,\u001b[0m \u001b[0mresult\u001b[0m\u001b[0;34m)\u001b[0m\u001b[0;34m\u001b[0m\u001b[0;34m\u001b[0m\u001b[0m\n",
      "\u001b[0;32m~/Documents/Development/embeddings-for-code-diffs/neural_editor/seq2seq/decoder/Decoder.py\u001b[0m in \u001b[0;36mforward\u001b[0;34m(self, trg_embed, edit_final, encoder_output, encoder_final, src_mask, trg_mask, states_to_initialize)\u001b[0m\n\u001b[1;32m    123\u001b[0m             \u001b[0;31m# [B, 1, DecoderH], [NumLayers, B, DecoderH], [NumLayers, B, DecoderH], [B, 1, DecoderH]\u001b[0m\u001b[0;34m\u001b[0m\u001b[0;34m\u001b[0m\u001b[0;34m\u001b[0m\u001b[0m\n\u001b[1;32m    124\u001b[0m             output, hidden, cell, pre_output = self.forward_step(\n\u001b[0;32m--> 125\u001b[0;31m                 edit_hidden, prev_embed, encoder_output, src_mask, projection_key, hidden, cell)\n\u001b[0m\u001b[1;32m    126\u001b[0m             \u001b[0mdecoder_states\u001b[0m\u001b[0;34m.\u001b[0m\u001b[0mappend\u001b[0m\u001b[0;34m(\u001b[0m\u001b[0moutput\u001b[0m\u001b[0;34m)\u001b[0m\u001b[0;34m\u001b[0m\u001b[0;34m\u001b[0m\u001b[0m\n\u001b[1;32m    127\u001b[0m             \u001b[0mpre_output_vectors\u001b[0m\u001b[0;34m.\u001b[0m\u001b[0mappend\u001b[0m\u001b[0;34m(\u001b[0m\u001b[0mpre_output\u001b[0m\u001b[0;34m)\u001b[0m\u001b[0;34m\u001b[0m\u001b[0;34m\u001b[0m\u001b[0m\n",
      "\u001b[0;32m~/Documents/Development/embeddings-for-code-diffs/neural_editor/seq2seq/decoder/Decoder.py\u001b[0m in \u001b[0;36mforward_step\u001b[0;34m(self, edit_hidden, prev_embed, encoder_output, src_mask, projection_key, hidden, cell)\u001b[0m\n\u001b[1;32m     58\u001b[0m         context, attn_probs = self.attention(\n\u001b[1;32m     59\u001b[0m             \u001b[0mquery\u001b[0m\u001b[0;34m=\u001b[0m\u001b[0mquery\u001b[0m\u001b[0;34m,\u001b[0m \u001b[0mproj_key\u001b[0m\u001b[0;34m=\u001b[0m\u001b[0mprojection_key\u001b[0m\u001b[0;34m,\u001b[0m\u001b[0;34m\u001b[0m\u001b[0;34m\u001b[0m\u001b[0m\n\u001b[0;32m---> 60\u001b[0;31m             value=encoder_output, mask=src_mask)\n\u001b[0m\u001b[1;32m     61\u001b[0m \u001b[0;34m\u001b[0m\u001b[0m\n\u001b[1;32m     62\u001b[0m         \u001b[0;31m# [B, 1, NumDirections * DiffEncoderH]\u001b[0m\u001b[0;34m\u001b[0m\u001b[0;34m\u001b[0m\u001b[0;34m\u001b[0m\u001b[0m\n",
      "\u001b[0;32m~/anaconda3/envs/embeddings-for-code-diffs/lib/python3.6/site-packages/torch/nn/modules/module.py\u001b[0m in \u001b[0;36m__call__\u001b[0;34m(self, *input, **kwargs)\u001b[0m\n\u001b[1;32m    539\u001b[0m             \u001b[0mresult\u001b[0m \u001b[0;34m=\u001b[0m \u001b[0mself\u001b[0m\u001b[0;34m.\u001b[0m\u001b[0m_slow_forward\u001b[0m\u001b[0;34m(\u001b[0m\u001b[0;34m*\u001b[0m\u001b[0minput\u001b[0m\u001b[0;34m,\u001b[0m \u001b[0;34m**\u001b[0m\u001b[0mkwargs\u001b[0m\u001b[0;34m)\u001b[0m\u001b[0;34m\u001b[0m\u001b[0;34m\u001b[0m\u001b[0m\n\u001b[1;32m    540\u001b[0m         \u001b[0;32melse\u001b[0m\u001b[0;34m:\u001b[0m\u001b[0;34m\u001b[0m\u001b[0;34m\u001b[0m\u001b[0m\n\u001b[0;32m--> 541\u001b[0;31m             \u001b[0mresult\u001b[0m \u001b[0;34m=\u001b[0m \u001b[0mself\u001b[0m\u001b[0;34m.\u001b[0m\u001b[0mforward\u001b[0m\u001b[0;34m(\u001b[0m\u001b[0;34m*\u001b[0m\u001b[0minput\u001b[0m\u001b[0;34m,\u001b[0m \u001b[0;34m**\u001b[0m\u001b[0mkwargs\u001b[0m\u001b[0;34m)\u001b[0m\u001b[0;34m\u001b[0m\u001b[0;34m\u001b[0m\u001b[0m\n\u001b[0m\u001b[1;32m    542\u001b[0m         \u001b[0;32mfor\u001b[0m \u001b[0mhook\u001b[0m \u001b[0;32min\u001b[0m \u001b[0mself\u001b[0m\u001b[0;34m.\u001b[0m\u001b[0m_forward_hooks\u001b[0m\u001b[0;34m.\u001b[0m\u001b[0mvalues\u001b[0m\u001b[0;34m(\u001b[0m\u001b[0;34m)\u001b[0m\u001b[0;34m:\u001b[0m\u001b[0;34m\u001b[0m\u001b[0;34m\u001b[0m\u001b[0m\n\u001b[1;32m    543\u001b[0m             \u001b[0mhook_result\u001b[0m \u001b[0;34m=\u001b[0m \u001b[0mhook\u001b[0m\u001b[0;34m(\u001b[0m\u001b[0mself\u001b[0m\u001b[0;34m,\u001b[0m \u001b[0minput\u001b[0m\u001b[0;34m,\u001b[0m \u001b[0mresult\u001b[0m\u001b[0;34m)\u001b[0m\u001b[0;34m\u001b[0m\u001b[0;34m\u001b[0m\u001b[0m\n",
      "\u001b[0;32m~/Documents/Development/embeddings-for-code-diffs/neural_editor/seq2seq/BahdanauAttention.py\u001b[0m in \u001b[0;36mforward\u001b[0;34m(self, query, proj_key, value, mask)\u001b[0m\n\u001b[1;32m     38\u001b[0m \u001b[0;34m\u001b[0m\u001b[0m\n\u001b[1;32m     39\u001b[0m         \u001b[0;31m# Calculate scores.\u001b[0m\u001b[0;34m\u001b[0m\u001b[0;34m\u001b[0m\u001b[0;34m\u001b[0m\u001b[0m\n\u001b[0;32m---> 40\u001b[0;31m         \u001b[0mscores\u001b[0m \u001b[0;34m=\u001b[0m \u001b[0mself\u001b[0m\u001b[0;34m.\u001b[0m\u001b[0menergy_layer\u001b[0m\u001b[0;34m(\u001b[0m\u001b[0mtorch\u001b[0m\u001b[0;34m.\u001b[0m\u001b[0mtanh\u001b[0m\u001b[0;34m(\u001b[0m\u001b[0mquery\u001b[0m \u001b[0;34m+\u001b[0m \u001b[0mproj_key\u001b[0m\u001b[0;34m)\u001b[0m\u001b[0;34m)\u001b[0m  \u001b[0;31m# [B, SrcSeqLen, 1]\u001b[0m\u001b[0;34m\u001b[0m\u001b[0;34m\u001b[0m\u001b[0m\n\u001b[0m\u001b[1;32m     41\u001b[0m         \u001b[0mscores\u001b[0m \u001b[0;34m=\u001b[0m \u001b[0mscores\u001b[0m\u001b[0;34m.\u001b[0m\u001b[0msqueeze\u001b[0m\u001b[0;34m(\u001b[0m\u001b[0;36m2\u001b[0m\u001b[0;34m)\u001b[0m\u001b[0;34m.\u001b[0m\u001b[0munsqueeze\u001b[0m\u001b[0;34m(\u001b[0m\u001b[0;36m1\u001b[0m\u001b[0;34m)\u001b[0m  \u001b[0;31m# [B, 1, SrcSeqLen]\u001b[0m\u001b[0;34m\u001b[0m\u001b[0;34m\u001b[0m\u001b[0m\n\u001b[1;32m     42\u001b[0m \u001b[0;34m\u001b[0m\u001b[0m\n",
      "\u001b[0;31mKeyboardInterrupt\u001b[0m: "
     ]
    }
   ],
   "source": [
    "test_beam_search_learning_fixes_top_k(test_dataset, k=50, beam_search_method=beam_search_learning_fixes_cut_eos_sort_by_probs)\n",
    "pass"
   ]
  },
  {
   "cell_type": "markdown",
   "metadata": {},
   "source": [
    "# Why beam search learning fixes 1 cut eos != greedy decode (example 16 vs example 4)"
   ]
  },
  {
   "cell_type": "code",
   "execution_count": 495,
   "metadata": {},
   "outputs": [],
   "source": [
    "TEST_DATASET_PART_25 = take_part_from_dataset(test_dataset, 25)"
   ]
  },
  {
   "cell_type": "code",
   "execution_count": 546,
   "metadata": {},
   "outputs": [],
   "source": [
    "def test_greedy_search_checking_method(dataset_to_run, method):\n",
    "    model.unset_edit_representation()\n",
    "    with torch.no_grad():\n",
    "        data_iterator = data.Iterator(dataset_to_run, batch_size=1, sort=False, train=False, shuffle=False, device=CONFIG['DEVICE'])\n",
    "        correct = 0\n",
    "        total = 0\n",
    "        print_first_correct = True\n",
    "        i = -1\n",
    "        for batch in tqdm(data_iterator):\n",
    "            i += 1\n",
    "            batch = rebatch(1, batch)\n",
    "            result = method(model, batch, 60, 2, 3)\n",
    "            src = batch.src.cpu().numpy()[0, :]\n",
    "            trg = batch.trg_y.cpu().numpy()[0, :]\n",
    "\n",
    "            # remove </s> (if it is there)\n",
    "            src = src[:-1] if src[-1] == 3 else src\n",
    "            trg = trg[:-1] if trg[-1] == 3 else trg\n",
    "\n",
    "            # remove <s> for src\n",
    "            src = src[1:] if src[0] == 2 else src\n",
    "            result = remove_eos(result, 3)[0]\n",
    "            #if i == 2:\n",
    "            #    print(len(result))\n",
    "            #    print(result)\n",
    "            #    print(\"Src : \" + \" \".join(lookup_words(src, diffs_field.vocab)))\n",
    "            #    print(\"Trg : \" + \" \".join(lookup_words(trg, diffs_field.vocab)))\n",
    "            #    print(\"Pred: \" + \" \".join(lookup_words(result, diffs_field.vocab)))\n",
    "            #    return\n",
    "            if np.all(result == trg):\n",
    "                correct += 1\n",
    "                if print_first_correct:\n",
    "                    print_first_correct = False\n",
    "                    print(\"Example #%d\" % (i + 1))\n",
    "                    print(\"Src : \" + \" \".join(lookup_words(src, diffs_field.vocab)))\n",
    "                    print(\"Trg : \" + \" \".join(lookup_words(trg, diffs_field.vocab)))\n",
    "                    print(\"Pred: \" + \" \".join(lookup_words(result, diffs_field.vocab)))\n",
    "            total += 1\n",
    "        print(f'Correct: {correct}, total: {total}, acc: {correct / total}')"
   ]
  },
  {
   "cell_type": "code",
   "execution_count": 547,
   "metadata": {
    "scrolled": true
   },
   "outputs": [
    {
     "data": {
      "application/vnd.jupyter.widget-view+json": {
       "model_id": "95ce3cd2a8984eec9e89bd82cf9ce88b",
       "version_major": 2,
       "version_minor": 0
      },
      "text/plain": [
       "HBox(children=(IntProgress(value=0, max=25), HTML(value='')))"
      ]
     },
     "metadata": {},
     "output_type": "display_data"
    },
    {
     "name": "stdout",
     "output_type": "stream",
     "text": [
      "Example #8\n",
      "Src : public void METHOD_1 ( int VAR_1 , TYPE_1 VAR_2 ) { this . VAR_3 . add ( VAR_1 , VAR_2 ) ; VAR_4 . add ( this ) ; }\n",
      "Trg : public void METHOD_1 ( int VAR_1 , TYPE_1 VAR_2 ) { this . VAR_3 . add ( VAR_1 , VAR_2 ) ; }\n",
      "Pred: public void METHOD_1 ( int VAR_1 , TYPE_1 VAR_2 ) { this . VAR_3 . add ( VAR_1 , VAR_2 ) ; }\n",
      "\n",
      "Correct: 4, total: 25, acc: 0.16\n"
     ]
    }
   ],
   "source": [
    "test_greedy_search_checking_method(TEST_DATASET_PART_25, greedy_decode)"
   ]
  },
  {
   "cell_type": "code",
   "execution_count": 505,
   "metadata": {},
   "outputs": [
    {
     "data": {
      "application/vnd.jupyter.widget-view+json": {
       "model_id": "6d1be078dfea417d9cac2f81b06fe318",
       "version_major": 2,
       "version_minor": 0
      },
      "text/plain": [
       "HBox(children=(IntProgress(value=0, max=25), HTML(value='')))"
      ]
     },
     "metadata": {},
     "output_type": "display_data"
    },
    {
     "name": "stdout",
     "output_type": "stream",
     "text": [
      "Example #9\n",
      "Src : public char getColor ( ) throws java.io.IOException { VAR_1 . METHOD_1 ( ( STRING_1 + \"\\n\" ) ) ; java.lang.String response = VAR_2 . METHOD_2 ( ) ; java.lang.System.out.println ( response ) ; return response . METHOD_3 ( 0 ) ; }\n",
      "Trg : public char getColor ( ) throws java.io.IOException { VAR_1 . METHOD_1 ( ( STRING_1 + \"\\n\" ) ) ; java.lang.String response = VAR_2 . METHOD_2 ( ) ; return response . METHOD_3 ( 0 ) ; }\n",
      "Pred: public char getColor ( ) throws java.io.IOException { VAR_1 . METHOD_1 ( ( STRING_1 + \"\\n\" ) ) ; java.lang.String response = VAR_2 . METHOD_2 ( ) ; return response . METHOD_3 ( 0 ) ; }\n",
      "\n",
      "Correct: 4, total: 25, acc: 0.16\n"
     ]
    }
   ],
   "source": [
    "test_greedy_search_checking_method(TEST_DATASET_PART_25, beam_search_learning_fixes)\n",
    "pass"
   ]
  },
  {
   "cell_type": "code",
   "execution_count": 506,
   "metadata": {},
   "outputs": [
    {
     "data": {
      "application/vnd.jupyter.widget-view+json": {
       "model_id": "7548f2692fd5471e8c82910b9c17f257",
       "version_major": 2,
       "version_minor": 0
      },
      "text/plain": [
       "HBox(children=(IntProgress(value=0, max=25), HTML(value='')))"
      ]
     },
     "metadata": {},
     "output_type": "display_data"
    },
    {
     "name": "stdout",
     "output_type": "stream",
     "text": [
      "Example #9\n",
      "Src : public char getColor ( ) throws java.io.IOException { VAR_1 . METHOD_1 ( ( STRING_1 + \"\\n\" ) ) ; java.lang.String response = VAR_2 . METHOD_2 ( ) ; java.lang.System.out.println ( response ) ; return response . METHOD_3 ( 0 ) ; }\n",
      "Trg : public char getColor ( ) throws java.io.IOException { VAR_1 . METHOD_1 ( ( STRING_1 + \"\\n\" ) ) ; java.lang.String response = VAR_2 . METHOD_2 ( ) ; return response . METHOD_3 ( 0 ) ; }\n",
      "Pred: public char getColor ( ) throws java.io.IOException { VAR_1 . METHOD_1 ( ( STRING_1 + \"\\n\" ) ) ; java.lang.String response = VAR_2 . METHOD_2 ( ) ; return response . METHOD_3 ( 0 ) ; }\n",
      "\n",
      "Correct: 4, total: 25, acc: 0.16\n"
     ]
    }
   ],
   "source": [
    "test_greedy_search_checking_method(TEST_DATASET_PART_25, beam_search_learning_fixes_cut_eos)\n",
    "pass"
   ]
  },
  {
   "cell_type": "code",
   "execution_count": 507,
   "metadata": {},
   "outputs": [
    {
     "data": {
      "application/vnd.jupyter.widget-view+json": {
       "model_id": "c1728ac052fa4bde930fb1c66dadeb9c",
       "version_major": 2,
       "version_minor": 0
      },
      "text/plain": [
       "HBox(children=(IntProgress(value=0, max=25), HTML(value='')))"
      ]
     },
     "metadata": {},
     "output_type": "display_data"
    },
    {
     "name": "stdout",
     "output_type": "stream",
     "text": [
      "Example #9\n",
      "Src : public char getColor ( ) throws java.io.IOException { VAR_1 . METHOD_1 ( ( STRING_1 + \"\\n\" ) ) ; java.lang.String response = VAR_2 . METHOD_2 ( ) ; java.lang.System.out.println ( response ) ; return response . METHOD_3 ( 0 ) ; }\n",
      "Trg : public char getColor ( ) throws java.io.IOException { VAR_1 . METHOD_1 ( ( STRING_1 + \"\\n\" ) ) ; java.lang.String response = VAR_2 . METHOD_2 ( ) ; return response . METHOD_3 ( 0 ) ; }\n",
      "Pred: public char getColor ( ) throws java.io.IOException { VAR_1 . METHOD_1 ( ( STRING_1 + \"\\n\" ) ) ; java.lang.String response = VAR_2 . METHOD_2 ( ) ; return response . METHOD_3 ( 0 ) ; }\n",
      "\n",
      "Correct: 4, total: 25, acc: 0.16\n"
     ]
    }
   ],
   "source": [
    "test_greedy_search_checking_method(TEST_DATASET_PART_25, beam_search_learning_fixes_cut_eos_sort_by_probs)\n",
    "pass"
   ]
  },
  {
   "cell_type": "code",
   "execution_count": 548,
   "metadata": {},
   "outputs": [
    {
     "data": {
      "application/vnd.jupyter.widget-view+json": {
       "model_id": "782bbf9231a44c96b17eefbcd1ebf005",
       "version_major": 2,
       "version_minor": 0
      },
      "text/plain": [
       "HBox(children=(IntProgress(value=0, max=25), HTML(value='')))"
      ]
     },
     "metadata": {},
     "output_type": "display_data"
    },
    {
     "name": "stdout",
     "output_type": "stream",
     "text": [
      "Example #8\n",
      "Src : public void METHOD_1 ( int VAR_1 , TYPE_1 VAR_2 ) { this . VAR_3 . add ( VAR_1 , VAR_2 ) ; VAR_4 . add ( this ) ; }\n",
      "Trg : public void METHOD_1 ( int VAR_1 , TYPE_1 VAR_2 ) { this . VAR_3 . add ( VAR_1 , VAR_2 ) ; }\n",
      "Pred: public void METHOD_1 ( int VAR_1 , TYPE_1 VAR_2 ) { this . VAR_3 . add ( VAR_1 , VAR_2 ) ; }\n",
      "\n",
      "Correct: 4, total: 25, acc: 0.16\n",
      "Top K Correct: 4, total: 25, acc: 0.16\n"
     ]
    }
   ],
   "source": [
    "test_beam_search_learning_fixes_top_k(TEST_DATASET_PART_25, k=1, beam_search_method=beam_search_learning_fixes_cut_eos_sort_by_probs)\n",
    "pass"
   ]
  },
  {
   "cell_type": "markdown",
   "metadata": {},
   "source": [
    "# Investigate normalization in model"
   ]
  },
  {
   "cell_type": "code",
   "execution_count": 572,
   "metadata": {},
   "outputs": [
    {
     "data": {
      "application/vnd.jupyter.widget-view+json": {
       "model_id": "fd529531d2114496953d2a63a982646f",
       "version_major": 2,
       "version_minor": 0
      },
      "text/plain": [
       "HBox(children=(IntProgress(value=0, max=300), HTML(value='')))"
      ]
     },
     "metadata": {},
     "output_type": "display_data"
    },
    {
     "name": "stdout",
     "output_type": "stream",
     "text": [
      "Example #3\n",
      "Src : private void METHOD_1 ( java.lang.Class VAR_1 ) { android.content.Intent intent = new android.content.Intent ( this , VAR_1 ) ; METHOD_2 ( intent ) ; }\n",
      "Trg : public void METHOD_1 ( java.lang.Class VAR_1 ) { android.content.Intent intent = new android.content.Intent ( this , VAR_1 ) ; METHOD_2 ( intent ) ; }\n",
      "Pred: public void METHOD_1 ( java.lang.Class VAR_1 ) { android.content.Intent intent = new android.content.Intent ( this , VAR_1 ) ; METHOD_2 ( intent ) ; }\n",
      "\n",
      "Correct: 63, total: 300, acc: 0.21\n"
     ]
    }
   ],
   "source": [
    "test_top_k(TEST_DATASET_PART_300, k=3) # no normalization"
   ]
  },
  {
   "cell_type": "code",
   "execution_count": 581,
   "metadata": {},
   "outputs": [
    {
     "data": {
      "application/vnd.jupyter.widget-view+json": {
       "model_id": "2474399dc3bf4f3ab94c43dd6f6b4aa5",
       "version_major": 2,
       "version_minor": 0
      },
      "text/plain": [
       "HBox(children=(IntProgress(value=0, max=300), HTML(value='')))"
      ]
     },
     "metadata": {},
     "output_type": "display_data"
    },
    {
     "name": "stdout",
     "output_type": "stream",
     "text": [
      "Example #3\n",
      "Src : private void METHOD_1 ( java.lang.Class VAR_1 ) { android.content.Intent intent = new android.content.Intent ( this , VAR_1 ) ; METHOD_2 ( intent ) ; }\n",
      "Trg : public void METHOD_1 ( java.lang.Class VAR_1 ) { android.content.Intent intent = new android.content.Intent ( this , VAR_1 ) ; METHOD_2 ( intent ) ; }\n",
      "Pred: public void METHOD_1 ( java.lang.Class VAR_1 ) { android.content.Intent intent = new android.content.Intent ( this , VAR_1 ) ; METHOD_2 ( intent ) ; }\n",
      "\n",
      "Correct: 73, total: 300, acc: 0.24333333333333335\n"
     ]
    }
   ],
   "source": [
    "test_top_k(TEST_DATASET_PART_300, k=50) # no normalization"
   ]
  },
  {
   "cell_type": "code",
   "execution_count": 560,
   "metadata": {
    "scrolled": true
   },
   "outputs": [
    {
     "data": {
      "application/vnd.jupyter.widget-view+json": {
       "model_id": "9bd6d658e8ea4f7e8b87ebd3842ba699",
       "version_major": 2,
       "version_minor": 0
      },
      "text/plain": [
       "HBox(children=(IntProgress(value=0, max=25), HTML(value='')))"
      ]
     },
     "metadata": {},
     "output_type": "display_data"
    },
    {
     "name": "stdout",
     "output_type": "stream",
     "text": [
      "Example #9\n",
      "Src : public char getColor ( ) throws java.io.IOException { VAR_1 . METHOD_1 ( ( STRING_1 + \"\\n\" ) ) ; java.lang.String response = VAR_2 . METHOD_2 ( ) ; java.lang.System.out.println ( response ) ; return response . METHOD_3 ( 0 ) ; }\n",
      "Trg : public char getColor ( ) throws java.io.IOException { VAR_1 . METHOD_1 ( ( STRING_1 + \"\\n\" ) ) ; java.lang.String response = VAR_2 . METHOD_2 ( ) ; return response . METHOD_3 ( 0 ) ; }\n",
      "Pred: public char getColor ( ) throws java.io.IOException { VAR_1 . METHOD_1 ( ( STRING_1 + \"\\n\" ) ) ; java.lang.String response = VAR_2 . METHOD_2 ( ) ; return response . METHOD_3 ( 0 ) ; }\n",
      "\n",
      "Correct: 3, total: 25, acc: 0.12\n"
     ]
    }
   ],
   "source": [
    "test_top_k(TEST_DATASET_PART_25, k=3) # minus"
   ]
  },
  {
   "cell_type": "code",
   "execution_count": 573,
   "metadata": {},
   "outputs": [
    {
     "data": {
      "application/vnd.jupyter.widget-view+json": {
       "model_id": "151e78d951a3482d94d3a71940f24433",
       "version_major": 2,
       "version_minor": 0
      },
      "text/plain": [
       "HBox(children=(IntProgress(value=0, max=300), HTML(value='')))"
      ]
     },
     "metadata": {},
     "output_type": "display_data"
    },
    {
     "name": "stdout",
     "output_type": "stream",
     "text": [
      "Example #3\n",
      "Src : private void METHOD_1 ( java.lang.Class VAR_1 ) { android.content.Intent intent = new android.content.Intent ( this , VAR_1 ) ; METHOD_2 ( intent ) ; }\n",
      "Trg : public void METHOD_1 ( java.lang.Class VAR_1 ) { android.content.Intent intent = new android.content.Intent ( this , VAR_1 ) ; METHOD_2 ( intent ) ; }\n",
      "Pred: public void METHOD_1 ( java.lang.Class VAR_1 ) { android.content.Intent intent = new android.content.Intent ( this , VAR_1 ) ; METHOD_2 ( intent ) ; }\n",
      "\n",
      "Correct: 58, total: 300, acc: 0.19333333333333333\n"
     ]
    }
   ],
   "source": [
    "test_top_k(TEST_DATASET_PART_300, k=3) # / length "
   ]
  },
  {
   "cell_type": "code",
   "execution_count": 563,
   "metadata": {},
   "outputs": [
    {
     "data": {
      "application/vnd.jupyter.widget-view+json": {
       "model_id": "f27f3ad4af7b4b2b8a0e5afdf37315ed",
       "version_major": 2,
       "version_minor": 0
      },
      "text/plain": [
       "HBox(children=(IntProgress(value=0, max=25), HTML(value='')))"
      ]
     },
     "metadata": {},
     "output_type": "display_data"
    },
    {
     "name": "stdout",
     "output_type": "stream",
     "text": [
      "Example #9\n",
      "Src : public char getColor ( ) throws java.io.IOException { VAR_1 . METHOD_1 ( ( STRING_1 + \"\\n\" ) ) ; java.lang.String response = VAR_2 . METHOD_2 ( ) ; java.lang.System.out.println ( response ) ; return response . METHOD_3 ( 0 ) ; }\n",
      "Trg : public char getColor ( ) throws java.io.IOException { VAR_1 . METHOD_1 ( ( STRING_1 + \"\\n\" ) ) ; java.lang.String response = VAR_2 . METHOD_2 ( ) ; return response . METHOD_3 ( 0 ) ; }\n",
      "Pred: public char getColor ( ) throws java.io.IOException { VAR_1 . METHOD_1 ( ( STRING_1 + \"\\n\" ) ) ; java.lang.String response = VAR_2 . METHOD_2 ( ) ; return response . METHOD_3 ( 0 ) ; }\n",
      "\n",
      "Correct: 3, total: 25, acc: 0.12\n"
     ]
    }
   ],
   "source": [
    "test_top_k(TEST_DATASET_PART_25, k=1) # no normalization"
   ]
  },
  {
   "cell_type": "code",
   "execution_count": 564,
   "metadata": {},
   "outputs": [
    {
     "data": {
      "application/vnd.jupyter.widget-view+json": {
       "model_id": "07f06a90446e4be684c7f9b5ab2563bb",
       "version_major": 2,
       "version_minor": 0
      },
      "text/plain": [
       "HBox(children=(IntProgress(value=0, max=25), HTML(value='')))"
      ]
     },
     "metadata": {},
     "output_type": "display_data"
    },
    {
     "name": "stdout",
     "output_type": "stream",
     "text": [
      "Example #9\n",
      "Src : public char getColor ( ) throws java.io.IOException { VAR_1 . METHOD_1 ( ( STRING_1 + \"\\n\" ) ) ; java.lang.String response = VAR_2 . METHOD_2 ( ) ; java.lang.System.out.println ( response ) ; return response . METHOD_3 ( 0 ) ; }\n",
      "Trg : public char getColor ( ) throws java.io.IOException { VAR_1 . METHOD_1 ( ( STRING_1 + \"\\n\" ) ) ; java.lang.String response = VAR_2 . METHOD_2 ( ) ; return response . METHOD_3 ( 0 ) ; }\n",
      "Pred: public char getColor ( ) throws java.io.IOException { VAR_1 . METHOD_1 ( ( STRING_1 + \"\\n\" ) ) ; java.lang.String response = VAR_2 . METHOD_2 ( ) ; return response . METHOD_3 ( 0 ) ; }\n",
      "\n",
      "Correct: 3, total: 25, acc: 0.12\n"
     ]
    }
   ],
   "source": [
    "test_top_k(TEST_DATASET_PART_25, k=1) # / length"
   ]
  },
  {
   "cell_type": "code",
   "execution_count": 6,
   "metadata": {},
   "outputs": [],
   "source": [
    "def visualization(model: EncoderDecoder, dataset: Dataset, classes: List[str], diffs_field: Field) -> None:\n",
    "    pad_index: int = diffs_field.vocab.stoi[CONFIG['PAD_TOKEN']]\n",
    "    iterator = data.Iterator(dataset, batch_size=1,\n",
    "                             sort=False, train=False, shuffle=False, device=CONFIG['DEVICE'])\n",
    "    representations = torch.zeros(len(dataset), CONFIG['EDIT_REPRESENTATION_SIZE'] * 2)\n",
    "    model.eval()\n",
    "    with torch.no_grad():\n",
    "        for i, batch in enumerate(iterator):\n",
    "            batch = rebatch(pad_index, batch)\n",
    "            representations[i: i + 1] = model.encode_edit(batch)[0][-1, :]  # hidden, last layer, all batches\n",
    "        visualize_tsne(representations, classes)\n",
    "        return representations"
   ]
  },
  {
   "cell_type": "code",
   "execution_count": 14,
   "metadata": {},
   "outputs": [],
   "source": [
    "def visualize_tsne(representations: torch.Tensor, classes: List[str]) -> None:\n",
    "    representations = PCA(n_components=min(50, representations.shape[0]), random_state=CONFIG['SEED']).fit_transform(representations.numpy())\n",
    "    representations_2d = TSNE(n_components=2, init='pca', random_state=CONFIG['SEED']).fit_transform(representations)\n",
    "    #representations_2d = TSNE(n_components=2, init='pca', random_state=9382).fit_transform(representations)\n",
    "    df = pd.DataFrame(dict(x=representations_2d[:, 0], y=representations_2d[:, 1], classes=classes))\n",
    "    sns.lmplot('x', 'y', data=df, hue='classes' if classes is not None else None, fit_reg=False)\n",
    "    plt.show()"
   ]
  },
  {
   "cell_type": "markdown",
   "metadata": {},
   "source": [
    "# Should we add unterminated sequences?"
   ]
  },
  {
   "cell_type": "code",
   "execution_count": 399,
   "metadata": {},
   "outputs": [],
   "source": [
    "def beam_search_learning_fixes_cut_eos_sort_by_probs_no_unterminated(model, batch,\n",
    "                  max_len: int,\n",
    "                  sos_index: int, eos_index: int, beam_size=1):\n",
    "    # TODO: create beam search, B = beam_size\n",
    "    # [B, SrcSeqLen], [B, 1, SrcSeqLen], [B]\n",
    "    src, src_mask, src_lengths = batch.src, batch.src_mask, batch.src_lengths\n",
    "    with torch.no_grad():\n",
    "        edit_final, encoder_output, encoder_final = model.encode(batch)\n",
    "        prev_y = torch.ones(batch.nseqs, 1).fill_(sos_index).type_as(src)  # [B, 1]\n",
    "        trg_mask = torch.ones_like(prev_y)  # [B, 1]\n",
    "    \n",
    "    def repeat_beam_size(tensor):\n",
    "        return torch.cat(beam_size * [tensor])\n",
    "    \n",
    "    output = torch.zeros((beam_size, max_len))\n",
    "    states = None\n",
    "    \n",
    "    with torch.no_grad():\n",
    "        # pre_output: [B, TrgSeqLen, DecoderH]\n",
    "        out, states, pre_output = model.decode(edit_final, encoder_output, encoder_final,\n",
    "                                               src_mask, prev_y, trg_mask, states)\n",
    "\n",
    "        # we predict from the pre-output layer, which is\n",
    "        # a combination of Decoder state, prev emb, and context\n",
    "        prob = model.generator(pre_output[:, -1])  # [B, V]\n",
    "\n",
    "    edit_final = (edit_final[0][:, beam_size * [0], :], edit_final[1][:, beam_size * [0], :])\n",
    "    encoder_output = repeat_beam_size(encoder_output)\n",
    "    encoder_final = (encoder_final[0][:, beam_size * [0], :], encoder_final[1][:, beam_size * [0], :])\n",
    "    states = (states[0][:, beam_size * [0], :], states[1][:, beam_size * [0], :])\n",
    "    prev_y = repeat_beam_size(prev_y)\n",
    "    trg_mask = repeat_beam_size(trg_mask)\n",
    "    src_mask = repeat_beam_size(src_mask)\n",
    "\n",
    "    best_probs, next_words = torch.sort(prob, dim=1)\n",
    "    best_probs, next_words = best_probs[0, -beam_size:], next_words[0, -beam_size:]\n",
    "    output[:, 0] = next_words\n",
    "    prev_y[:, 0] = next_words\n",
    "    results = []\n",
    "    results_probs = []\n",
    "    for i in range(1, max_len):\n",
    "        with torch.no_grad():\n",
    "            # pre_output: [B, TrgSeqLen, DecoderH]\n",
    "            #print_shapes(edit_final=edit_final, encoder_output=encoder_output, encoder_final=encoder_final,\n",
    "            #            src_mask=src_mask, prev_y=prev_y, trg_mask=trg_mask, states=states)\n",
    "            out, states, pre_output = model.decode(edit_final, encoder_output, encoder_final,\n",
    "                                                   src_mask, prev_y, trg_mask, states)\n",
    "\n",
    "            # we predict from the pre-output layer, which is\n",
    "            # a combination of Decoder state, prev emb, and context\n",
    "            prob = model.generator(pre_output[:, -1])  # [B, V]\n",
    "            \n",
    "        # TODO: consider termination\n",
    "        new_best = best_probs.unsqueeze(1).repeat((1, prob.shape[1])) + prob\n",
    "        new_best = torch.flatten(new_best)\n",
    "        best_probs, next_words = torch.sort(new_best)\n",
    "        \n",
    "        collected = 0\n",
    "        ind = len(new_best) - 1\n",
    "        all_permutations = next_words // prob.shape[1]\n",
    "        new_best_permutation = torch.zeros(beam_size).long()\n",
    "        new_next_words = torch.zeros(beam_size).long()\n",
    "        new_best_probs = torch.zeros(beam_size)\n",
    "        while collected != beam_size:\n",
    "            if next_words[ind] % prob.shape[1] == eos_index:\n",
    "                results.append(output[all_permutations[ind]][:i].long().numpy())\n",
    "                results_probs.append(best_probs[ind])\n",
    "            else:\n",
    "                new_best_permutation[collected] = all_permutations[ind]\n",
    "                new_next_words[collected] = next_words[ind]\n",
    "                new_best_probs[collected] = best_probs[ind]\n",
    "                collected += 1\n",
    "            ind -= 1\n",
    "        best_probs = new_best_probs\n",
    "        #print(best_probs)\n",
    "        \n",
    "        #print(best_probs)\n",
    "        #return\n",
    "        output = output[new_best_permutation, :]\n",
    "        states = (states[0][:, new_best_permutation, :], states[1][:, new_best_permutation, :])\n",
    "        prev_y = prev_y[new_best_permutation, :]\n",
    "        \n",
    "        new_next_words = new_next_words % prob.shape[1]\n",
    "        output[:, i] = new_next_words\n",
    "        prev_y[:, 0] = new_next_words\n",
    "\n",
    "    results_probs = np.array(results_probs)\n",
    "    results = np.array(results)\n",
    "    sorted_probs_args = np.argsort(results_probs)\n",
    "    return np.flip(results[sorted_probs_args])"
   ]
  },
  {
   "cell_type": "code",
   "execution_count": 62,
   "metadata": {},
   "outputs": [
    {
     "data": {
      "application/vnd.jupyter.widget-view+json": {
       "model_id": "53a6b1ac05884c3699453434be208949",
       "version_major": 2,
       "version_minor": 0
      },
      "text/plain": [
       "HBox(children=(IntProgress(value=0, max=25), HTML(value='')))"
      ]
     },
     "metadata": {},
     "output_type": "display_data"
    },
    {
     "name": "stderr",
     "output_type": "stream",
     "text": [
      "/home/mikhail/anaconda3/envs/embeddings-for-code-diffs/lib/python3.6/site-packages/ipykernel_launcher.py:33: DeprecationWarning: elementwise comparison failed; this will raise an error in the future.\n",
      "/home/mikhail/anaconda3/envs/embeddings-for-code-diffs/lib/python3.6/site-packages/ipykernel_launcher.py:43: DeprecationWarning: elementwise comparison failed; this will raise an error in the future.\n"
     ]
    },
    {
     "name": "stdout",
     "output_type": "stream",
     "text": [
      "Example #8\n",
      "Src : public void METHOD_1 ( int VAR_1 , TYPE_1 VAR_2 ) { this . VAR_3 . add ( VAR_1 , VAR_2 ) ; VAR_4 . add ( this ) ; }\n",
      "Trg : public void METHOD_1 ( int VAR_1 , TYPE_1 VAR_2 ) { this . VAR_3 . add ( VAR_1 , VAR_2 ) ; }\n",
      "Pred: public void METHOD_1 ( int VAR_1 , TYPE_1 VAR_2 ) { this . VAR_3 . add ( VAR_1 , VAR_2 ) ; }\n",
      "\n",
      "Correct: 4, total: 25, acc: 0.16\n",
      "Top K Correct: 15, total: 25, acc: 0.6\n"
     ]
    }
   ],
   "source": [
    "test_beam_search_learning_fixes_top_k(TEST_DATASET_PART_25, k=50, beam_search_method=beam_search_learning_fixes_cut_eos_sort_by_probs_no_unterminated)\n",
    "pass"
   ]
  },
  {
   "cell_type": "code",
   "execution_count": 578,
   "metadata": {},
   "outputs": [
    {
     "data": {
      "application/vnd.jupyter.widget-view+json": {
       "model_id": "67a57a84c0b54061ac2a49db47b4666b",
       "version_major": 2,
       "version_minor": 0
      },
      "text/plain": [
       "HBox(children=(IntProgress(value=0, max=25), HTML(value='')))"
      ]
     },
     "metadata": {},
     "output_type": "display_data"
    },
    {
     "name": "stdout",
     "output_type": "stream",
     "text": [
      "Example #8\n",
      "Src : public void METHOD_1 ( int VAR_1 , TYPE_1 VAR_2 ) { this . VAR_3 . add ( VAR_1 , VAR_2 ) ; VAR_4 . add ( this ) ; }\n",
      "Trg : public void METHOD_1 ( int VAR_1 , TYPE_1 VAR_2 ) { this . VAR_3 . add ( VAR_1 , VAR_2 ) ; }\n",
      "Pred: public void METHOD_1 ( int VAR_1 , TYPE_1 VAR_2 ) { this . VAR_3 . add ( VAR_1 , VAR_2 ) ; }\n",
      "\n",
      "Correct: 4, total: 25, acc: 0.16\n",
      "Top K Correct: 15, total: 25, acc: 0.6\n"
     ]
    }
   ],
   "source": [
    "test_beam_search_learning_fixes_top_k(TEST_DATASET_PART_25, k=50, beam_search_method=beam_search_learning_fixes_cut_eos_sort_by_probs_no_unterminated, max_len=51)\n",
    "pass"
   ]
  },
  {
   "cell_type": "code",
   "execution_count": 579,
   "metadata": {},
   "outputs": [
    {
     "data": {
      "application/vnd.jupyter.widget-view+json": {
       "model_id": "12073ceafcfe4d1580a8bdcb5d14e671",
       "version_major": 2,
       "version_minor": 0
      },
      "text/plain": [
       "HBox(children=(IntProgress(value=0, max=300), HTML(value='')))"
      ]
     },
     "metadata": {},
     "output_type": "display_data"
    },
    {
     "name": "stdout",
     "output_type": "stream",
     "text": [
      "Example #8\n",
      "Src : public void METHOD_1 ( int VAR_1 , TYPE_1 VAR_2 ) { this . VAR_3 . add ( VAR_1 , VAR_2 ) ; VAR_4 . add ( this ) ; }\n",
      "Trg : public void METHOD_1 ( int VAR_1 , TYPE_1 VAR_2 ) { this . VAR_3 . add ( VAR_1 , VAR_2 ) ; }\n",
      "Pred: public void METHOD_1 ( int VAR_1 , TYPE_1 VAR_2 ) { this . VAR_3 . add ( VAR_1 , VAR_2 ) ; }\n",
      "\n",
      "Correct: 60, total: 300, acc: 0.2\n",
      "Top K Correct: 177, total: 300, acc: 0.59\n"
     ]
    }
   ],
   "source": [
    "test_beam_search_learning_fixes_top_k(TEST_DATASET_PART_300, k=50, beam_search_method=beam_search_learning_fixes_cut_eos_sort_by_probs_no_unterminated)\n",
    "pass"
   ]
  },
  {
   "cell_type": "code",
   "execution_count": 585,
   "metadata": {},
   "outputs": [
    {
     "data": {
      "application/vnd.jupyter.widget-view+json": {
       "model_id": "27dba3d211bd4d3ab043eb21a6809474",
       "version_major": 2,
       "version_minor": 0
      },
      "text/plain": [
       "HBox(children=(IntProgress(value=0, max=300), HTML(value='')))"
      ]
     },
     "metadata": {},
     "output_type": "display_data"
    },
    {
     "name": "stdout",
     "output_type": "stream",
     "text": [
      "Example #8\n",
      "Src : public void METHOD_1 ( int VAR_1 , TYPE_1 VAR_2 ) { this . VAR_3 . add ( VAR_1 , VAR_2 ) ; VAR_4 . add ( this ) ; }\n",
      "Trg : public void METHOD_1 ( int VAR_1 , TYPE_1 VAR_2 ) { this . VAR_3 . add ( VAR_1 , VAR_2 ) ; }\n",
      "Pred: public void METHOD_1 ( int VAR_1 , TYPE_1 VAR_2 ) { this . VAR_3 . add ( VAR_1 , VAR_2 ) ; }\n",
      "\n",
      "Correct: 60, total: 300, acc: 0.2\n",
      "Top K Correct: 97, total: 300, acc: 0.3233333333333333\n"
     ]
    }
   ],
   "source": [
    "test_beam_search_learning_fixes_top_k(TEST_DATASET_PART_300, k=3, beam_search_method=beam_search_learning_fixes_cut_eos_sort_by_probs_no_unterminated, max_len=51)\n",
    "pass"
   ]
  },
  {
   "cell_type": "code",
   "execution_count": 580,
   "metadata": {
    "scrolled": true
   },
   "outputs": [
    {
     "data": {
      "application/vnd.jupyter.widget-view+json": {
       "model_id": "ae3847fa933941de997ea3d36e92a0d9",
       "version_major": 2,
       "version_minor": 0
      },
      "text/plain": [
       "HBox(children=(IntProgress(value=0, max=300), HTML(value='')))"
      ]
     },
     "metadata": {},
     "output_type": "display_data"
    },
    {
     "name": "stdout",
     "output_type": "stream",
     "text": [
      "Example #8\n",
      "Src : public void METHOD_1 ( int VAR_1 , TYPE_1 VAR_2 ) { this . VAR_3 . add ( VAR_1 , VAR_2 ) ; VAR_4 . add ( this ) ; }\n",
      "Trg : public void METHOD_1 ( int VAR_1 , TYPE_1 VAR_2 ) { this . VAR_3 . add ( VAR_1 , VAR_2 ) ; }\n",
      "Pred: public void METHOD_1 ( int VAR_1 , TYPE_1 VAR_2 ) { this . VAR_3 . add ( VAR_1 , VAR_2 ) ; }\n",
      "\n",
      "Correct: 60, total: 300, acc: 0.2\n",
      "Top K Correct: 177, total: 300, acc: 0.59\n"
     ]
    }
   ],
   "source": [
    "test_beam_search_learning_fixes_top_k(TEST_DATASET_PART_300, k=50, beam_search_method=beam_search_learning_fixes_cut_eos_sort_by_probs_no_unterminated, max_len=51)\n",
    "pass"
   ]
  },
  {
   "cell_type": "code",
   "execution_count": 582,
   "metadata": {},
   "outputs": [
    {
     "data": {
      "application/vnd.jupyter.widget-view+json": {
       "model_id": "dcb3945aeddc44728297727958fa1624",
       "version_major": 2,
       "version_minor": 0
      },
      "text/plain": [
       "HBox(children=(IntProgress(value=0, max=5835), HTML(value='')))"
      ]
     },
     "metadata": {},
     "output_type": "display_data"
    },
    {
     "name": "stdout",
     "output_type": "stream",
     "text": [
      "Example #8\n",
      "Src : public void METHOD_1 ( int VAR_1 , TYPE_1 VAR_2 ) { this . VAR_3 . add ( VAR_1 , VAR_2 ) ; VAR_4 . add ( this ) ; }\n",
      "Trg : public void METHOD_1 ( int VAR_1 , TYPE_1 VAR_2 ) { this . VAR_3 . add ( VAR_1 , VAR_2 ) ; }\n",
      "Pred: public void METHOD_1 ( int VAR_1 , TYPE_1 VAR_2 ) { this . VAR_3 . add ( VAR_1 , VAR_2 ) ; }\n",
      "\n",
      "Correct: 1106, total: 5835, acc: 0.1895458440445587\n",
      "Top K Correct: 3359, total: 5835, acc: 0.5756640959725793\n"
     ]
    }
   ],
   "source": [
    "test_beam_search_learning_fixes_top_k(test_dataset, k=50, beam_search_method=beam_search_learning_fixes_cut_eos_sort_by_probs_no_unterminated, max_len=51)\n",
    "pass"
   ]
  },
  {
   "cell_type": "code",
   "execution_count": 137,
   "metadata": {},
   "outputs": [],
   "source": [
    "def sort_dataset(dataset):\n",
    "    import torchtext\n",
    "    data = [ex for ex in dataset]\n",
    "    data.sort(key=lambda x: (len(x.src), len(x.trg)))\n",
    "    data = list(reversed(data))\n",
    "    return torchtext.data.Dataset(data, dataset.fields)"
   ]
  },
  {
   "cell_type": "code",
   "execution_count": 141,
   "metadata": {},
   "outputs": [],
   "source": [
    "SORTED_TEST_DATASET_PART_25 = sort_dataset(TEST_DATASET_PART_25)"
   ]
  },
  {
   "cell_type": "code",
   "execution_count": 253,
   "metadata": {},
   "outputs": [],
   "source": [
    "def equal_length_dataset(dataset, equal_length, n):\n",
    "    import torchtext\n",
    "    data = [ex for ex in dataset if equal_length == len(ex.src)][:n]\n",
    "    data.sort(key=lambda x: (len(x.src), len(x.trg)))\n",
    "    data = list(reversed(data))\n",
    "    return torchtext.data.Dataset(data, dataset.fields)"
   ]
  },
  {
   "cell_type": "code",
   "execution_count": 269,
   "metadata": {},
   "outputs": [],
   "source": [
    "EQUAL_LENGTH_TEST_DATASET_PART_50 = equal_length_dataset(test_dataset, equal_length=30, n=50)"
   ]
  },
  {
   "cell_type": "code",
   "execution_count": 270,
   "metadata": {},
   "outputs": [],
   "source": [
    "EQUAL_LENGTH_TEST_DATASET_PART = equal_length_dataset(test_dataset, equal_length=30, n=10000)"
   ]
  },
  {
   "cell_type": "code",
   "execution_count": 271,
   "metadata": {},
   "outputs": [
    {
     "data": {
      "text/plain": [
       "162"
      ]
     },
     "execution_count": 271,
     "metadata": {},
     "output_type": "execute_result"
    }
   ],
   "source": [
    "len(EQUAL_LENGTH_TEST_DATASET_PART)"
   ]
  },
  {
   "cell_type": "code",
   "execution_count": 241,
   "metadata": {},
   "outputs": [
    {
     "data": {
      "text/plain": [
       "[(7,\n",
       "  ['public',\n",
       "   'void',\n",
       "   'METHOD_1',\n",
       "   '(',\n",
       "   'int',\n",
       "   'VAR_1',\n",
       "   ',',\n",
       "   'TYPE_1',\n",
       "   'VAR_2',\n",
       "   ')',\n",
       "   '{',\n",
       "   'this',\n",
       "   '.',\n",
       "   'VAR_3',\n",
       "   '.',\n",
       "   'add',\n",
       "   '(',\n",
       "   'VAR_1',\n",
       "   ',',\n",
       "   'VAR_2',\n",
       "   ')',\n",
       "   ';',\n",
       "   '}'],\n",
       "  23,\n",
       "  30),\n",
       " (22,\n",
       "  ['public',\n",
       "   'void',\n",
       "   'METHOD_1',\n",
       "   '(',\n",
       "   'TYPE_1',\n",
       "   'VAR_1',\n",
       "   ',',\n",
       "   'boolean',\n",
       "   'VAR_2',\n",
       "   ')',\n",
       "   '{',\n",
       "   'this',\n",
       "   '.',\n",
       "   'METHOD_1',\n",
       "   '(',\n",
       "   'VAR_1',\n",
       "   ',',\n",
       "   'VAR_2',\n",
       "   ',',\n",
       "   'false',\n",
       "   ')',\n",
       "   ';',\n",
       "   '}'],\n",
       "  23,\n",
       "  23)]"
      ]
     },
     "execution_count": 241,
     "metadata": {},
     "output_type": "execute_result"
    }
   ],
   "source": [
    "[(i,ex.trg, len(ex.trg), len(ex.src)) for i, ex in enumerate(TEST_DATASET_PART_25) if len(ex.trg) == 23]"
   ]
  },
  {
   "cell_type": "markdown",
   "metadata": {},
   "source": [
    "# Adding batch support and cleaning code for production"
   ]
  },
  {
   "cell_type": "code",
   "execution_count": null,
   "metadata": {},
   "outputs": [],
   "source": [
    "from typing import List, Tuple\n",
    "\n",
    "import numpy as np\n",
    "import torch\n",
    "from torch import Tensor\n",
    "\n",
    "from neural_editor.seq2seq import EncoderDecoder, Batch\n",
    "\n",
    "\n",
    "class BatchedBeamSearch:\n",
    "    def __init__(self, beam_size: int, model: EncoderDecoder, sos_index: int, eos_index: int, max_len: int) -> None:\n",
    "        super().__init__()\n",
    "        self.beam_size = beam_size\n",
    "        self.model = model\n",
    "        self.sos_index = sos_index\n",
    "        self.eos_index = eos_index\n",
    "        self.max_len = max_len\n",
    "        self.beam_indexing = torch.arange(self.beam_size)\n",
    "\n",
    "    def reshape_state(self, state: Tensor) -> Tensor:\n",
    "        \"\"\"\n",
    "        Reshapes state to copying each state for batch beam_size times.\n",
    "        :param state: [D1, B, D3]\n",
    "        :return: [D1, B * self.beam_size, D3]\n",
    "        \"\"\"\n",
    "        return state.unsqueeze(2).repeat((1, 1, self.beam_size, 1)).reshape(state.shape[0], -1, state.shape[-1])\n",
    "\n",
    "    def reshape_states(self, states: List[Tuple[Tensor, Tensor]]) -> List[Tuple[Tensor, Tensor]]:\n",
    "        \"\"\"\n",
    "        List of states (each element is two states stored in tuple) is reshaped by self.reshape_state.\n",
    "        :param states: List[Tuple[[D1, B, D3], [D4, B, D5]]]\n",
    "        :return: List[Tuple[[D1, B * self.beam_size, D3], [D4, B * self.beam_size, D5]]]\n",
    "        \"\"\"\n",
    "        reshaped_states = []\n",
    "        for state in states:\n",
    "            reshaped_state = (self.reshape_state(state[0]), self.reshape_state(state[1]))\n",
    "            reshaped_states.append(reshaped_state)\n",
    "        return reshaped_states\n",
    "\n",
    "    def reshape_batch(self, batch: Tensor) -> Tensor:\n",
    "        \"\"\"\n",
    "        Repeats data for each example in batch self.beam_size times.\n",
    "        :param batch: [B, D2, ...]\n",
    "        :return: [B * self.beam_size, D2, ...]\n",
    "        \"\"\"\n",
    "        new_shape = [-1] + list(batch.shape[1:])\n",
    "        return batch.unsqueeze(1).repeat((1, self.beam_size, 1, 1)).reshape(new_shape)\n",
    "\n",
    "    def reshape_batches(self, batches: List[Tensor]) -> List[Tensor]:\n",
    "        \"\"\"\n",
    "        List of batches is reshaped by self.reshape_along_batch_dim.\n",
    "        :param batches: List[[B, D2, ...]]\n",
    "        :return: List[[B * self.beam_size, D2, ...]]\n",
    "        \"\"\"\n",
    "        reshaped_batches = []\n",
    "        for batch in batches:\n",
    "            reshaped_batch = self.reshape_batch(batch)\n",
    "            reshaped_batches.append(reshaped_batch)\n",
    "        return reshaped_batches\n",
    "\n",
    "    def first_step(self, batch):\n",
    "        src, src_mask, src_lengths = batch.src, batch.src_mask, batch.src_lengths\n",
    "        edit_final, encoder_output, encoder_final = self.model.encode(batch)\n",
    "        prev_y = torch.ones(len(batch), 1).fill_(self.sos_index).type_as(src)\n",
    "        trg_mask = torch.ones_like(prev_y)\n",
    "\n",
    "        out, states, pre_output = self.model.decode(edit_final, encoder_output, encoder_final,\n",
    "                                                    src_mask, prev_y, trg_mask, states_to_initialize=None)\n",
    "        prob = self.model.generator(pre_output[:, -1])\n",
    "\n",
    "        return edit_final, encoder_output, encoder_final, states, prob, prev_y, trg_mask, src_mask\n",
    "\n",
    "    def decode(self, batch: Batch) -> List[np.array]:\n",
    "        \"\"\"\n",
    "        :param batch: batch to decode from\n",
    "        :return:\n",
    "        \"\"\"\n",
    "        batch_size = len(batch)\n",
    "        edit_final, encoder_output, encoder_final, states, prob, prev_y, trg_mask, src_mask = self.first_step(batch)\n",
    "        vocab_size = prob.shape[-1]\n",
    "        \n",
    "        edit_final, encoder_final, states = self.reshape_states([edit_final, encoder_final, states])\n",
    "        encoder_output, prev_y, trg_mask, src_mask = self.reshape_batches([encoder_output, prev_y, trg_mask, src_mask])\n",
    "        current_sequences = torch.zeros((batch_size, self.beam_size, self.max_len)).long().to(CONFIG['DEVICE'])\n",
    "        best_probs, next_words = torch.sort(prob, dim=1, descending=True)\n",
    "        best_probs, next_words = best_probs[:, :self.beam_size], next_words[:, :self.beam_size]\n",
    "        current_sequences[:, :, 0] = next_words\n",
    "        prev_y[:, 0] = next_words.flatten()\n",
    "        \n",
    "        results = [[] for _ in range(batch_size)]\n",
    "        results_probs = [[] for _ in range(batch_size)]\n",
    "        new_best_permutation = torch.zeros(batch_size, self.beam_size).long().to(CONFIG['DEVICE'])\n",
    "        new_next_words = torch.zeros(batch_size, self.beam_size).long().to(CONFIG['DEVICE'])\n",
    "        new_best_probs = torch.zeros(batch_size, self.beam_size).to(CONFIG['DEVICE'])\n",
    "        \n",
    "        for i in range(1, self.max_len):\n",
    "            out, states, pre_output = self.model.decode(edit_final, encoder_output, encoder_final,\n",
    "                                                        src_mask, prev_y, trg_mask, states)\n",
    "            prob = self.model.generator(pre_output[:, -1])  # [B * beam_size, V]\n",
    "            prob = unstick_two_dimensions_together(prob, dim_value=batch_size, dim=0).reshape(batch_size, self.beam_size, vocab_size)\n",
    "            new_best = best_probs.unsqueeze(2).repeat((1, 1, prob.shape[2])) + prob\n",
    "            new_best = stick_two_dimensions_together(new_best, dim=1)\n",
    "            best_probs, sorted_indices = torch.sort(new_best, dim=1, descending=True)\n",
    "\n",
    "            all_permutations = sorted_indices // vocab_size\n",
    "            next_words = sorted_indices % vocab_size\n",
    "            # TODO: optimize this loop\n",
    "            for batch_id in range(batch_size):\n",
    "                collected = 0\n",
    "                ind = 0\n",
    "                while collected != self.beam_size:\n",
    "                    if next_words[batch_id][ind] == self.eos_index:\n",
    "                        results[batch_id].append(current_sequences[batch_id][all_permutations[batch_id][ind]][:i].detach().long().numpy())\n",
    "                        results_probs[batch_id].append(best_probs[batch_id][ind].detach())\n",
    "                    else:\n",
    "                        new_best_permutation[batch_id][collected] = all_permutations[batch_id][ind]\n",
    "                        new_next_words[batch_id][collected] = next_words[batch_id][ind]\n",
    "                        new_best_probs[batch_id][collected] = best_probs[batch_id][ind]\n",
    "                        collected += 1\n",
    "                    ind += 1\n",
    "            best_probs = new_best_probs\n",
    "\n",
    "            batch_indexing = torch.arange(batch_size).reshape(-1, 1)\n",
    "            states = (\n",
    "                unstick_two_dimensions_together(states[0], dim_value=batch_size, dim=1),\n",
    "                unstick_two_dimensions_together(states[1], dim_value=batch_size, dim=1)\n",
    "            )\n",
    "            states = (\n",
    "                states[0][:, batch_indexing, new_best_permutation, :],\n",
    "                states[1][:, batch_indexing, new_best_permutation, :]\n",
    "            )\n",
    "            states = (stick_two_dimensions_together(states[0], dim=1), stick_two_dimensions_together(states[1], dim=1))\n",
    "\n",
    "            current_sequences = current_sequences[batch_indexing, new_best_permutation, :]\n",
    "            current_sequences[batch_indexing, self.beam_indexing, i] = new_next_words\n",
    "            prev_y = unstick_two_dimensions_together(prev_y, dim_value=batch_size, dim=0)\n",
    "            prev_y[batch_indexing, self.beam_indexing, 0] = new_next_words\n",
    "            prev_y = stick_two_dimensions_together(prev_y, dim=0)\n",
    "\n",
    "        sorted_probs_args = [np.flip(np.argsort(result_prob)) for result_prob in results_probs]\n",
    "        return [np.array(result)[sorted_probs_args[i]] for i, result in enumerate(results)]\n",
    "\n",
    "\n",
    "def stick_two_dimensions_together(tensor: Tensor, dim: int) -> Tensor:\n",
    "    \"\"\"\n",
    "    Sticks dim and dim + 1 together.\n",
    "    :param tensor: [..., D_i, D_{i + 1}, ...]\n",
    "    :param dim: i\n",
    "    :return: [..., D_i * D_{i + 1}, ...]\n",
    "    \"\"\"\n",
    "    new_shape_before_dim = [tensor.shape[i] for i in range(dim)]\n",
    "    new_shape_after_dim = [tensor.shape[i] for i in range(dim + 2, len(tensor.shape))]\n",
    "    return tensor.reshape(new_shape_before_dim + [-1] + new_shape_after_dim)\n",
    "\n",
    "\n",
    "def unstick_two_dimensions_together(tensor: Tensor, dim_value: int, dim: int) -> Tensor:\n",
    "    \"\"\"\n",
    "    Sticks dim and dim + 1 together.\n",
    "    :param tensor: [..., dim_value * D_{i + 1}, ...]\n",
    "    :param dim_value: dimension value after unsticking\n",
    "    :param dim: i\n",
    "    :return: [..., dim_value, D_{i + 1}, ...]\n",
    "    \"\"\"\n",
    "    new_shape_before_dim = [tensor.shape[i] for i in range(dim)]\n",
    "    new_shape_after_dim = [tensor.shape[i] for i in range(dim + 1, len(tensor.shape))]\n",
    "    return tensor.reshape(new_shape_before_dim + [dim_value, -1] + new_shape_after_dim)"
   ]
  },
  {
   "cell_type": "code",
   "execution_count": 470,
   "metadata": {},
   "outputs": [],
   "source": [
    "def calculate_top_k_accuracy(k,\n",
    "                             dataset_iterator,\n",
    "                             decode_method,\n",
    "                             eos_index) -> float:\n",
    "    correct_top_1 = 0\n",
    "    correct = 0\n",
    "    total = 0\n",
    "    for i, batch in enumerate(tqdm(dataset_iterator)):\n",
    "        targets = remove_eos(batch.trg_y.cpu().numpy(), eos_index)\n",
    "        results = decode_method(batch)\n",
    "        for example_id in range(len(results)):\n",
    "            target = targets[example_id]\n",
    "            example_top_k_results = results[example_id][:k]\n",
    "            for i, result in enumerate(example_top_k_results):\n",
    "                if len(result) == len(target) and np.all(result == target):\n",
    "                    if i == 0:\n",
    "                        correct_top_1 += 1\n",
    "                    correct += 1\n",
    "                    break\n",
    "        total += len(batch)\n",
    "    return correct, total, correct_top_1\n",
    "\n",
    "def test_calculate_top_k_accuracy(dataset_to_run, k, max_len, vocab, batch_size):\n",
    "    max_len = 51\n",
    "    beam_search_class = BatchedBeamSearch(k, model, vocab.stoi[CONFIG['SOS_TOKEN']], vocab.stoi[CONFIG['EOS_TOKEN']], 51)\n",
    "    data_iterator = accuracy_iterator = data.Iterator(dataset_to_run, batch_size=batch_size, train=False,\n",
    "                                              sort_within_batch=True,\n",
    "                                              sort=False,\n",
    "                                              sort_key=lambda x: (len(x.src), len(x.trg)),\n",
    "                                              repeat=False,\n",
    "                                              device=CONFIG['DEVICE'])\n",
    "    pad_index = vocab.stoi[CONFIG['PAD_TOKEN']]\n",
    "    return calculate_top_k_accuracy(k, [rebatch(pad_index, x) for x in data_iterator], beam_search_class.decode, vocab.stoi[CONFIG['EOS_TOKEN']])"
   ]
  },
  {
   "cell_type": "code",
   "execution_count": 446,
   "metadata": {
    "scrolled": true
   },
   "outputs": [
    {
     "data": {
      "application/vnd.jupyter.widget-view+json": {
       "model_id": "13b34cbe1d4d4f879223439f027d7ba0",
       "version_major": 2,
       "version_minor": 0
      },
      "text/plain": [
       "HBox(children=(IntProgress(value=0, max=162), HTML(value='')))"
      ]
     },
     "metadata": {},
     "output_type": "display_data"
    },
    {
     "name": "stderr",
     "output_type": "stream",
     "text": [
      "/home/mikhail/anaconda3/envs/embeddings-for-code-diffs/lib/python3.6/site-packages/ipykernel_launcher.py:14: DeprecationWarning: elementwise comparison failed; this will raise an error in the future.\n",
      "  \n"
     ]
    },
    {
     "name": "stdout",
     "output_type": "stream",
     "text": [
      "\n",
      "(0, 162)\n"
     ]
    }
   ],
   "source": [
    "with torch.no_grad():\n",
    "    res = test_calculate_top_k_accuracy(EQUAL_LENGTH_TEST_DATASET_PART, k=1, max_len=51, vocab=diffs_field.vocab, batch_size=1)\n",
    "    print(res)"
   ]
  },
  {
   "cell_type": "code",
   "execution_count": 301,
   "metadata": {
    "scrolled": true
   },
   "outputs": [
    {
     "data": {
      "application/vnd.jupyter.widget-view+json": {
       "model_id": "9c3a7a3e6a074dd08e90a99e42b91f1d",
       "version_major": 2,
       "version_minor": 0
      },
      "text/plain": [
       "HBox(children=(IntProgress(value=0, max=21), HTML(value='')))"
      ]
     },
     "metadata": {},
     "output_type": "display_data"
    },
    {
     "name": "stdout",
     "output_type": "stream",
     "text": [
      "\n",
      "(28, 162)\n"
     ]
    }
   ],
   "source": [
    "with torch.no_grad():\n",
    "    res = test_calculate_top_k_accuracy(EQUAL_LENGTH_TEST_DATASET_PART, k=1, max_len=51, vocab=diffs_field.vocab, batch_size=8)\n",
    "    print(res)"
   ]
  },
  {
   "cell_type": "code",
   "execution_count": 282,
   "metadata": {},
   "outputs": [],
   "source": [
    "# K = 3"
   ]
  },
  {
   "cell_type": "code",
   "execution_count": 460,
   "metadata": {},
   "outputs": [
    {
     "data": {
      "application/vnd.jupyter.widget-view+json": {
       "model_id": "462ec282c63b44558d1ad9a0de408353",
       "version_major": 2,
       "version_minor": 0
      },
      "text/plain": [
       "HBox(children=(IntProgress(value=0, max=25), HTML(value='')))"
      ]
     },
     "metadata": {},
     "output_type": "display_data"
    },
    {
     "name": "stdout",
     "output_type": "stream",
     "text": [
      "\n",
      "(9, 25)\n"
     ]
    }
   ],
   "source": [
    "with torch.no_grad():\n",
    "    res = test_calculate_top_k_accuracy(TEST_DATASET_PART_25, k=3, max_len=51, vocab=diffs_field.vocab, batch_size=1)\n",
    "    print(res)"
   ]
  },
  {
   "cell_type": "code",
   "execution_count": 459,
   "metadata": {},
   "outputs": [
    {
     "data": {
      "application/vnd.jupyter.widget-view+json": {
       "model_id": "f72b14bc6c6e45ac9f03463c21734c72",
       "version_major": 2,
       "version_minor": 0
      },
      "text/plain": [
       "HBox(children=(IntProgress(value=0, max=9), HTML(value='')))"
      ]
     },
     "metadata": {},
     "output_type": "display_data"
    },
    {
     "name": "stdout",
     "output_type": "stream",
     "text": [
      "\n",
      "(9, 25)\n"
     ]
    }
   ],
   "source": [
    "with torch.no_grad():\n",
    "    res = test_calculate_top_k_accuracy(TEST_DATASET_PART_25, k=3, max_len=51, vocab=diffs_field.vocab, batch_size=3)\n",
    "    print(res)"
   ]
  },
  {
   "cell_type": "code",
   "execution_count": 462,
   "metadata": {},
   "outputs": [
    {
     "data": {
      "application/vnd.jupyter.widget-view+json": {
       "model_id": "680791d05dfd40ebac3533e7e0927edb",
       "version_major": 2,
       "version_minor": 0
      },
      "text/plain": [
       "HBox(children=(IntProgress(value=0, max=4), HTML(value='')))"
      ]
     },
     "metadata": {},
     "output_type": "display_data"
    },
    {
     "name": "stdout",
     "output_type": "stream",
     "text": [
      "\n",
      "(8, 25)\n"
     ]
    }
   ],
   "source": [
    "with torch.no_grad():\n",
    "    res = test_calculate_top_k_accuracy(TEST_DATASET_PART_25, k=3, max_len=51, vocab=diffs_field.vocab, batch_size=8)\n",
    "    print(res)"
   ]
  },
  {
   "cell_type": "code",
   "execution_count": null,
   "metadata": {},
   "outputs": [],
   "source": [
    "# K = 5"
   ]
  },
  {
   "cell_type": "code",
   "execution_count": 289,
   "metadata": {},
   "outputs": [
    {
     "data": {
      "application/vnd.jupyter.widget-view+json": {
       "model_id": "d086e415f14c42f49b20060778eae6bb",
       "version_major": 2,
       "version_minor": 0
      },
      "text/plain": [
       "HBox(children=(IntProgress(value=0, max=25), HTML(value='')))"
      ]
     },
     "metadata": {},
     "output_type": "display_data"
    },
    {
     "name": "stdout",
     "output_type": "stream",
     "text": [
      "\n",
      "(13, 25)\n"
     ]
    }
   ],
   "source": [
    "with torch.no_grad():\n",
    "    res = test_calculate_top_k_accuracy(TEST_DATASET_PART_25, k=10, max_len=51, vocab=diffs_field.vocab, batch_size=1)\n",
    "    print(res)"
   ]
  },
  {
   "cell_type": "code",
   "execution_count": 290,
   "metadata": {},
   "outputs": [
    {
     "data": {
      "application/vnd.jupyter.widget-view+json": {
       "model_id": "140dedc76f374c25906803792ce97258",
       "version_major": 2,
       "version_minor": 0
      },
      "text/plain": [
       "HBox(children=(IntProgress(value=0, max=9), HTML(value='')))"
      ]
     },
     "metadata": {},
     "output_type": "display_data"
    },
    {
     "name": "stdout",
     "output_type": "stream",
     "text": [
      "\n",
      "(13, 25)\n"
     ]
    }
   ],
   "source": [
    "with torch.no_grad():\n",
    "    res = test_calculate_top_k_accuracy(TEST_DATASET_PART_25, k=10, max_len=51, vocab=diffs_field.vocab, batch_size=3)\n",
    "    print(res)"
   ]
  },
  {
   "cell_type": "code",
   "execution_count": 291,
   "metadata": {},
   "outputs": [
    {
     "data": {
      "application/vnd.jupyter.widget-view+json": {
       "model_id": "3f0153d56ce04d6cb882c735e98cfa23",
       "version_major": 2,
       "version_minor": 0
      },
      "text/plain": [
       "HBox(children=(IntProgress(value=0, max=4), HTML(value='')))"
      ]
     },
     "metadata": {},
     "output_type": "display_data"
    },
    {
     "name": "stdout",
     "output_type": "stream",
     "text": [
      "\n",
      "(13, 25)\n"
     ]
    }
   ],
   "source": [
    "with torch.no_grad():\n",
    "    res = test_calculate_top_k_accuracy(TEST_DATASET_PART_25, k=10, max_len=51, vocab=diffs_field.vocab, batch_size=8)\n",
    "    print(res)"
   ]
  },
  {
   "cell_type": "code",
   "execution_count": 292,
   "metadata": {},
   "outputs": [
    {
     "data": {
      "application/vnd.jupyter.widget-view+json": {
       "model_id": "38385dcbac2c4fecb8739aa02f1aa2e0",
       "version_major": 2,
       "version_minor": 0
      },
      "text/plain": [
       "HBox(children=(IntProgress(value=0, max=1), HTML(value='')))"
      ]
     },
     "metadata": {},
     "output_type": "display_data"
    },
    {
     "name": "stdout",
     "output_type": "stream",
     "text": [
      "\n",
      "(13, 25)\n"
     ]
    }
   ],
   "source": [
    "with torch.no_grad():\n",
    "    res = test_calculate_top_k_accuracy(TEST_DATASET_PART_25, k=10, max_len=51, vocab=diffs_field.vocab, batch_size=25)\n",
    "    print(res)"
   ]
  },
  {
   "cell_type": "code",
   "execution_count": 295,
   "metadata": {},
   "outputs": [
    {
     "data": {
      "application/vnd.jupyter.widget-view+json": {
       "model_id": "ca82831f93c74abcab83ad7bd3c6f9ff",
       "version_major": 2,
       "version_minor": 0
      },
      "text/plain": [
       "HBox(children=(IntProgress(value=0, max=25), HTML(value='')))"
      ]
     },
     "metadata": {},
     "output_type": "display_data"
    },
    {
     "name": "stdout",
     "output_type": "stream",
     "text": [
      "\n",
      "(15, 25)\n"
     ]
    }
   ],
   "source": [
    "with torch.no_grad():\n",
    "    res = test_calculate_top_k_accuracy(TEST_DATASET_PART_25, k=50, max_len=51, vocab=diffs_field.vocab, batch_size=1)\n",
    "    print(res)"
   ]
  },
  {
   "cell_type": "code",
   "execution_count": 294,
   "metadata": {},
   "outputs": [
    {
     "data": {
      "application/vnd.jupyter.widget-view+json": {
       "model_id": "114719a30d7e4e5892233b292c6ea392",
       "version_major": 2,
       "version_minor": 0
      },
      "text/plain": [
       "HBox(children=(IntProgress(value=0, max=13), HTML(value='')))"
      ]
     },
     "metadata": {},
     "output_type": "display_data"
    },
    {
     "name": "stdout",
     "output_type": "stream",
     "text": [
      "\n",
      "(15, 25)\n"
     ]
    }
   ],
   "source": [
    "with torch.no_grad():\n",
    "    res = test_calculate_top_k_accuracy(TEST_DATASET_PART_25, k=50, max_len=51, vocab=diffs_field.vocab, batch_size=2)\n",
    "    print(res)"
   ]
  },
  {
   "cell_type": "code",
   "execution_count": 297,
   "metadata": {},
   "outputs": [
    {
     "data": {
      "application/vnd.jupyter.widget-view+json": {
       "model_id": "b63a15c540654209a5d061a29551d47d",
       "version_major": 2,
       "version_minor": 0
      },
      "text/plain": [
       "HBox(children=(IntProgress(value=0, max=1), HTML(value='')))"
      ]
     },
     "metadata": {},
     "output_type": "display_data"
    },
    {
     "name": "stdout",
     "output_type": "stream",
     "text": [
      "\n",
      "(15, 25)\n"
     ]
    }
   ],
   "source": [
    "with torch.no_grad():\n",
    "    res = test_calculate_top_k_accuracy(TEST_DATASET_PART_25, k=50, max_len=51, vocab=diffs_field.vocab, batch_size=25)\n",
    "    print(res)"
   ]
  },
  {
   "cell_type": "code",
   "execution_count": null,
   "metadata": {},
   "outputs": [],
   "source": [
    "# Final comparison"
   ]
  },
  {
   "cell_type": "code",
   "execution_count": null,
   "metadata": {},
   "outputs": [],
   "source": [
    "# k = 1"
   ]
  },
  {
   "cell_type": "code",
   "execution_count": 410,
   "metadata": {},
   "outputs": [
    {
     "data": {
      "application/vnd.jupyter.widget-view+json": {
       "model_id": "32a7a78d59c24c3c96d04fc4b319c885",
       "version_major": 2,
       "version_minor": 0
      },
      "text/plain": [
       "HBox(children=(IntProgress(value=0, max=300), HTML(value='')))"
      ]
     },
     "metadata": {},
     "output_type": "display_data"
    },
    {
     "name": "stderr",
     "output_type": "stream",
     "text": [
      "/home/mikhail/anaconda3/envs/embeddings-for-code-diffs/lib/python3.6/site-packages/ipykernel_launcher.py:33: DeprecationWarning: elementwise comparison failed; this will raise an error in the future.\n",
      "/home/mikhail/anaconda3/envs/embeddings-for-code-diffs/lib/python3.6/site-packages/ipykernel_launcher.py:43: DeprecationWarning: elementwise comparison failed; this will raise an error in the future.\n"
     ]
    },
    {
     "name": "stdout",
     "output_type": "stream",
     "text": [
      "Example #8\n",
      "Src : public void METHOD_1 ( int VAR_1 , TYPE_1 VAR_2 ) { this . VAR_3 . add ( VAR_1 , VAR_2 ) ; VAR_4 . add ( this ) ; }\n",
      "Trg : public void METHOD_1 ( int VAR_1 , TYPE_1 VAR_2 ) { this . VAR_3 . add ( VAR_1 , VAR_2 ) ; }\n",
      "Pred: public void METHOD_1 ( int VAR_1 , TYPE_1 VAR_2 ) { this . VAR_3 . add ( VAR_1 , VAR_2 ) ; }\n",
      "\n",
      "Correct: 53, total: 300, acc: 0.17666666666666667\n",
      "Top K Correct: 53, total: 300, acc: 0.17666666666666667\n"
     ]
    }
   ],
   "source": [
    "test_beam_search_learning_fixes_top_k(TEST_DATASET_PART_300, k=1, beam_search_method=beam_search_learning_fixes_cut_eos_sort_by_probs_no_unterminated)\n",
    "pass"
   ]
  },
  {
   "cell_type": "code",
   "execution_count": 411,
   "metadata": {},
   "outputs": [
    {
     "data": {
      "application/vnd.jupyter.widget-view+json": {
       "model_id": "78551e348335495a8b748e80c1ce9e70",
       "version_major": 2,
       "version_minor": 0
      },
      "text/plain": [
       "HBox(children=(IntProgress(value=0, max=300), HTML(value='')))"
      ]
     },
     "metadata": {},
     "output_type": "display_data"
    },
    {
     "name": "stdout",
     "output_type": "stream",
     "text": [
      "\n",
      "(53, 300)\n"
     ]
    }
   ],
   "source": [
    "with torch.no_grad():\n",
    "    res = test_calculate_top_k_accuracy(TEST_DATASET_PART_300, k=1, batch_size=1, max_len=51, vocab=diffs_field.vocab)\n",
    "    print(res)"
   ]
  },
  {
   "cell_type": "code",
   "execution_count": 412,
   "metadata": {},
   "outputs": [
    {
     "data": {
      "application/vnd.jupyter.widget-view+json": {
       "model_id": "ae97066a96864d479e96310670c9b2f7",
       "version_major": 2,
       "version_minor": 0
      },
      "text/plain": [
       "HBox(children=(IntProgress(value=0, max=5), HTML(value='')))"
      ]
     },
     "metadata": {},
     "output_type": "display_data"
    },
    {
     "name": "stdout",
     "output_type": "stream",
     "text": [
      "\n",
      "(35, 300)\n"
     ]
    }
   ],
   "source": [
    "with torch.no_grad():\n",
    "    res = test_calculate_top_k_accuracy(TEST_DATASET_PART_300, k=1, batch_size=64, max_len=51, vocab=diffs_field.vocab)\n",
    "    print(res)"
   ]
  },
  {
   "cell_type": "code",
   "execution_count": null,
   "metadata": {},
   "outputs": [],
   "source": [
    "# k = 3"
   ]
  },
  {
   "cell_type": "code",
   "execution_count": 413,
   "metadata": {},
   "outputs": [
    {
     "data": {
      "application/vnd.jupyter.widget-view+json": {
       "model_id": "98d0873eaa6f49f6b67812db9d7b47ba",
       "version_major": 2,
       "version_minor": 0
      },
      "text/plain": [
       "HBox(children=(IntProgress(value=0, max=300), HTML(value='')))"
      ]
     },
     "metadata": {},
     "output_type": "display_data"
    },
    {
     "name": "stderr",
     "output_type": "stream",
     "text": [
      "/home/mikhail/anaconda3/envs/embeddings-for-code-diffs/lib/python3.6/site-packages/ipykernel_launcher.py:33: DeprecationWarning: elementwise comparison failed; this will raise an error in the future.\n",
      "/home/mikhail/anaconda3/envs/embeddings-for-code-diffs/lib/python3.6/site-packages/ipykernel_launcher.py:43: DeprecationWarning: elementwise comparison failed; this will raise an error in the future.\n"
     ]
    },
    {
     "name": "stdout",
     "output_type": "stream",
     "text": [
      "Example #8\n",
      "Src : public void METHOD_1 ( int VAR_1 , TYPE_1 VAR_2 ) { this . VAR_3 . add ( VAR_1 , VAR_2 ) ; VAR_4 . add ( this ) ; }\n",
      "Trg : public void METHOD_1 ( int VAR_1 , TYPE_1 VAR_2 ) { this . VAR_3 . add ( VAR_1 , VAR_2 ) ; }\n",
      "Pred: public void METHOD_1 ( int VAR_1 , TYPE_1 VAR_2 ) { this . VAR_3 . add ( VAR_1 , VAR_2 ) ; }\n",
      "\n",
      "Correct: 60, total: 300, acc: 0.2\n",
      "Top K Correct: 97, total: 300, acc: 0.3233333333333333\n"
     ]
    }
   ],
   "source": [
    "test_beam_search_learning_fixes_top_k(TEST_DATASET_PART_300, k=3, beam_search_method=beam_search_learning_fixes_cut_eos_sort_by_probs_no_unterminated)\n",
    "pass"
   ]
  },
  {
   "cell_type": "code",
   "execution_count": 414,
   "metadata": {},
   "outputs": [
    {
     "data": {
      "application/vnd.jupyter.widget-view+json": {
       "model_id": "7af4c0d6b51a443890dc5906910a3a64",
       "version_major": 2,
       "version_minor": 0
      },
      "text/plain": [
       "HBox(children=(IntProgress(value=0, max=300), HTML(value='')))"
      ]
     },
     "metadata": {},
     "output_type": "display_data"
    },
    {
     "name": "stdout",
     "output_type": "stream",
     "text": [
      "\n",
      "(97, 300)\n"
     ]
    }
   ],
   "source": [
    "with torch.no_grad():\n",
    "    res = test_calculate_top_k_accuracy(TEST_DATASET_PART_300, k=3, batch_size=1, max_len=51, vocab=diffs_field.vocab)\n",
    "    print(res)"
   ]
  },
  {
   "cell_type": "code",
   "execution_count": 422,
   "metadata": {},
   "outputs": [
    {
     "data": {
      "application/vnd.jupyter.widget-view+json": {
       "model_id": "638dd61c77304e57826dd720e06b26d6",
       "version_major": 2,
       "version_minor": 0
      },
      "text/plain": [
       "HBox(children=(IntProgress(value=0, max=38), HTML(value='')))"
      ]
     },
     "metadata": {},
     "output_type": "display_data"
    },
    {
     "name": "stdout",
     "output_type": "stream",
     "text": [
      "\n",
      "(85, 300)\n"
     ]
    }
   ],
   "source": [
    "with torch.no_grad():\n",
    "    res = test_calculate_top_k_accuracy(TEST_DATASET_PART_300, k=3, batch_size=8, max_len=51, vocab=diffs_field.vocab)\n",
    "    print(res)"
   ]
  },
  {
   "cell_type": "code",
   "execution_count": 424,
   "metadata": {},
   "outputs": [
    {
     "data": {
      "application/vnd.jupyter.widget-view+json": {
       "model_id": "43385959d3264c6a82a9e14df54d6e0a",
       "version_major": 2,
       "version_minor": 0
      },
      "text/plain": [
       "HBox(children=(IntProgress(value=0, max=5), HTML(value='')))"
      ]
     },
     "metadata": {},
     "output_type": "display_data"
    },
    {
     "name": "stdout",
     "output_type": "stream",
     "text": [
      "\n",
      "(67, 300)\n"
     ]
    }
   ],
   "source": [
    "with torch.no_grad():\n",
    "    res = test_calculate_top_k_accuracy(TEST_DATASET_PART_300, k=3, batch_size=64, max_len=51, vocab=diffs_field.vocab)\n",
    "    print(res)"
   ]
  },
  {
   "cell_type": "code",
   "execution_count": 421,
   "metadata": {},
   "outputs": [
    {
     "data": {
      "application/vnd.jupyter.widget-view+json": {
       "model_id": "64806df9e86e44908f10926ef9bd6aec",
       "version_major": 2,
       "version_minor": 0
      },
      "text/plain": [
       "HBox(children=(IntProgress(value=0, max=46), HTML(value='')))"
      ]
     },
     "metadata": {},
     "output_type": "display_data"
    },
    {
     "name": "stdout",
     "output_type": "stream",
     "text": [
      "\n",
      "(1319, 5835)\n",
      "0.2260497000856898\n"
     ]
    }
   ],
   "source": [
    "# degredate the model big batch size, maybe the whole dataset will be ok?\n",
    "with torch.no_grad():\n",
    "    res = test_calculate_top_k_accuracy(test_dataset, k=3, batch_size=128, max_len=51, vocab=diffs_field.vocab)\n",
    "    print(res)\n",
    "    print(res[0] / res[1])"
   ]
  },
  {
   "cell_type": "code",
   "execution_count": 463,
   "metadata": {},
   "outputs": [
    {
     "data": {
      "application/vnd.jupyter.widget-view+json": {
       "model_id": "19f6c6acd1da431ebf908652da25549b",
       "version_major": 2,
       "version_minor": 0
      },
      "text/plain": [
       "HBox(children=(IntProgress(value=0, max=5835), HTML(value='')))"
      ]
     },
     "metadata": {},
     "output_type": "display_data"
    },
    {
     "name": "stdout",
     "output_type": "stream",
     "text": [
      "\n",
      "(1790, 5835)\n",
      "0.3067694944301628\n"
     ]
    }
   ],
   "source": [
    "# degredate the model big batch size, maybe the whole dataset will be ok?\n",
    "with torch.no_grad():\n",
    "    res = test_calculate_top_k_accuracy(test_dataset, k=3, batch_size=1, max_len=51, vocab=diffs_field.vocab)\n",
    "    print(res)\n",
    "    print(res[0] / res[1])"
   ]
  },
  {
   "cell_type": "code",
   "execution_count": 467,
   "metadata": {},
   "outputs": [
    {
     "data": {
      "application/vnd.jupyter.widget-view+json": {
       "model_id": "05dc49678bc047b18bd0aefb0bca2bfc",
       "version_major": 2,
       "version_minor": 0
      },
      "text/plain": [
       "HBox(children=(IntProgress(value=0, max=300), HTML(value='')))"
      ]
     },
     "metadata": {},
     "output_type": "display_data"
    },
    {
     "name": "stdout",
     "output_type": "stream",
     "text": [
      "\n",
      "(177, 300)\n",
      "0.59\n"
     ]
    }
   ],
   "source": [
    "# degredate the model big batch size, maybe the whole dataset will be ok?\n",
    "with torch.no_grad():\n",
    "    res = test_calculate_top_k_accuracy(TEST_DATASET_PART_300, k=50, batch_size=1, max_len=51, vocab=diffs_field.vocab)\n",
    "    print(res)\n",
    "    print(res[0] / res[1])"
   ]
  },
  {
   "cell_type": "code",
   "execution_count": 468,
   "metadata": {},
   "outputs": [
    {
     "data": {
      "application/vnd.jupyter.widget-view+json": {
       "model_id": "de286da0db84412983f16905a2800c95",
       "version_major": 2,
       "version_minor": 0
      },
      "text/plain": [
       "HBox(children=(IntProgress(value=0, max=5), HTML(value='')))"
      ]
     },
     "metadata": {},
     "output_type": "display_data"
    },
    {
     "name": "stdout",
     "output_type": "stream",
     "text": [
      "\n",
      "(155, 300)\n",
      "0.5166666666666667\n"
     ]
    }
   ],
   "source": [
    "# degredate the model big batch size, maybe the whole dataset will be ok?\n",
    "with torch.no_grad():\n",
    "    res = test_calculate_top_k_accuracy(TEST_DATASET_PART_300, k=50, batch_size=64, max_len=51, vocab=diffs_field.vocab)\n",
    "    print(res)\n",
    "    print(res[0] / res[1])"
   ]
  },
  {
   "cell_type": "code",
   "execution_count": 469,
   "metadata": {},
   "outputs": [
    {
     "data": {
      "application/vnd.jupyter.widget-view+json": {
       "model_id": "99bc1b7234e944d4ad88372ae8dac9ec",
       "version_major": 2,
       "version_minor": 0
      },
      "text/plain": [
       "HBox(children=(IntProgress(value=0, max=38), HTML(value='')))"
      ]
     },
     "metadata": {},
     "output_type": "display_data"
    },
    {
     "name": "stdout",
     "output_type": "stream",
     "text": [
      "\n",
      "(165, 300)\n",
      "0.55\n"
     ]
    }
   ],
   "source": [
    "# degredate the model big batch size, maybe the whole dataset will be ok?\n",
    "with torch.no_grad():\n",
    "    res = test_calculate_top_k_accuracy(TEST_DATASET_PART_300, k=50, batch_size=8, max_len=51, vocab=diffs_field.vocab)\n",
    "    print(res)\n",
    "    print(res[0] / res[1])"
   ]
  },
  {
   "cell_type": "code",
   "execution_count": 472,
   "metadata": {},
   "outputs": [
    {
     "data": {
      "application/vnd.jupyter.widget-view+json": {
       "model_id": "28b1e7e622734a2cb008999aff69b03e",
       "version_major": 2,
       "version_minor": 0
      },
      "text/plain": [
       "HBox(children=(IntProgress(value=0, max=300), HTML(value='')))"
      ]
     },
     "metadata": {},
     "output_type": "display_data"
    },
    {
     "name": "stdout",
     "output_type": "stream",
     "text": [
      "\n",
      "(97, 300, 60)\n",
      "0.3233333333333333\n",
      "0.2\n"
     ]
    }
   ],
   "source": [
    "# degredate the model big batch size, maybe the whole dataset will be ok?\n",
    "with torch.no_grad():\n",
    "    res = test_calculate_top_k_accuracy(TEST_DATASET_PART_300, k=3, batch_size=1, max_len=51, vocab=diffs_field.vocab)\n",
    "    print(res)\n",
    "    print(res[0] / res[1])\n",
    "    print(res[2] / res[1])"
   ]
  },
  {
   "cell_type": "code",
   "execution_count": 471,
   "metadata": {},
   "outputs": [
    {
     "data": {
      "application/vnd.jupyter.widget-view+json": {
       "model_id": "2ef88e14986f4d41b745dd9fd4d8e317",
       "version_major": 2,
       "version_minor": 0
      },
      "text/plain": [
       "HBox(children=(IntProgress(value=0, max=5), HTML(value='')))"
      ]
     },
     "metadata": {},
     "output_type": "display_data"
    },
    {
     "name": "stdout",
     "output_type": "stream",
     "text": [
      "\n",
      "(72, 300, 44)\n",
      "0.24\n",
      "0.14666666666666667\n"
     ]
    }
   ],
   "source": [
    "# degredate the model big batch size, maybe the whole dataset will be ok?\n",
    "with torch.no_grad():\n",
    "    res = test_calculate_top_k_accuracy(TEST_DATASET_PART_300, k=3, batch_size=64, max_len=51, vocab=diffs_field.vocab)\n",
    "    print(res)\n",
    "    print(res[0] / res[1])\n",
    "    print(res[2] / res[1])"
   ]
  },
  {
   "cell_type": "code",
   "execution_count": 475,
   "metadata": {},
   "outputs": [
    {
     "data": {
      "application/vnd.jupyter.widget-view+json": {
       "model_id": "0f9f2a05d0a74eeb8e44d0ae75a7762c",
       "version_major": 2,
       "version_minor": 0
      },
      "text/plain": [
       "HBox(children=(IntProgress(value=0, max=1459), HTML(value='')))"
      ]
     },
     "metadata": {},
     "output_type": "display_data"
    },
    {
     "ename": "KeyboardInterrupt",
     "evalue": "",
     "output_type": "error",
     "traceback": [
      "\u001b[0;31m---------------------------------------------------------------------------\u001b[0m",
      "\u001b[0;31mKeyboardInterrupt\u001b[0m                         Traceback (most recent call last)",
      "\u001b[0;32m<ipython-input-475-b7f599a4e2e5>\u001b[0m in \u001b[0;36m<module>\u001b[0;34m\u001b[0m\n\u001b[1;32m      1\u001b[0m \u001b[0;31m# degredate the model big batch size, maybe the whole dataset will be ok?\u001b[0m\u001b[0;34m\u001b[0m\u001b[0;34m\u001b[0m\u001b[0;34m\u001b[0m\u001b[0m\n\u001b[1;32m      2\u001b[0m \u001b[0;32mwith\u001b[0m \u001b[0mtorch\u001b[0m\u001b[0;34m.\u001b[0m\u001b[0mno_grad\u001b[0m\u001b[0;34m(\u001b[0m\u001b[0;34m)\u001b[0m\u001b[0;34m:\u001b[0m\u001b[0;34m\u001b[0m\u001b[0;34m\u001b[0m\u001b[0m\n\u001b[0;32m----> 3\u001b[0;31m     \u001b[0mres\u001b[0m \u001b[0;34m=\u001b[0m \u001b[0mtest_calculate_top_k_accuracy\u001b[0m\u001b[0;34m(\u001b[0m\u001b[0mtrain_dataset\u001b[0m\u001b[0;34m,\u001b[0m \u001b[0mk\u001b[0m\u001b[0;34m=\u001b[0m\u001b[0;36m50\u001b[0m\u001b[0;34m,\u001b[0m \u001b[0mbatch_size\u001b[0m\u001b[0;34m=\u001b[0m\u001b[0;36m32\u001b[0m\u001b[0;34m,\u001b[0m \u001b[0mmax_len\u001b[0m\u001b[0;34m=\u001b[0m\u001b[0;36m51\u001b[0m\u001b[0;34m,\u001b[0m \u001b[0mvocab\u001b[0m\u001b[0;34m=\u001b[0m\u001b[0mdiffs_field\u001b[0m\u001b[0;34m.\u001b[0m\u001b[0mvocab\u001b[0m\u001b[0;34m)\u001b[0m\u001b[0;34m\u001b[0m\u001b[0;34m\u001b[0m\u001b[0m\n\u001b[0m\u001b[1;32m      4\u001b[0m     \u001b[0mprint\u001b[0m\u001b[0;34m(\u001b[0m\u001b[0mres\u001b[0m\u001b[0;34m)\u001b[0m\u001b[0;34m\u001b[0m\u001b[0;34m\u001b[0m\u001b[0m\n\u001b[1;32m      5\u001b[0m     \u001b[0mprint\u001b[0m\u001b[0;34m(\u001b[0m\u001b[0mres\u001b[0m\u001b[0;34m[\u001b[0m\u001b[0;36m0\u001b[0m\u001b[0;34m]\u001b[0m \u001b[0;34m/\u001b[0m \u001b[0mres\u001b[0m\u001b[0;34m[\u001b[0m\u001b[0;36m1\u001b[0m\u001b[0;34m]\u001b[0m\u001b[0;34m)\u001b[0m\u001b[0;34m\u001b[0m\u001b[0;34m\u001b[0m\u001b[0m\n",
      "\u001b[0;32m<ipython-input-470-d54430f9bf42>\u001b[0m in \u001b[0;36mtest_calculate_top_k_accuracy\u001b[0;34m(dataset_to_run, k, max_len, vocab, batch_size)\u001b[0m\n\u001b[1;32m     31\u001b[0m                                               device=CONFIG['DEVICE'])\n\u001b[1;32m     32\u001b[0m     \u001b[0mpad_index\u001b[0m \u001b[0;34m=\u001b[0m \u001b[0mvocab\u001b[0m\u001b[0;34m.\u001b[0m\u001b[0mstoi\u001b[0m\u001b[0;34m[\u001b[0m\u001b[0mCONFIG\u001b[0m\u001b[0;34m[\u001b[0m\u001b[0;34m'PAD_TOKEN'\u001b[0m\u001b[0;34m]\u001b[0m\u001b[0;34m]\u001b[0m\u001b[0;34m\u001b[0m\u001b[0;34m\u001b[0m\u001b[0m\n\u001b[0;32m---> 33\u001b[0;31m     \u001b[0;32mreturn\u001b[0m \u001b[0mcalculate_top_k_accuracy\u001b[0m\u001b[0;34m(\u001b[0m\u001b[0mk\u001b[0m\u001b[0;34m,\u001b[0m \u001b[0;34m[\u001b[0m\u001b[0mrebatch\u001b[0m\u001b[0;34m(\u001b[0m\u001b[0mpad_index\u001b[0m\u001b[0;34m,\u001b[0m \u001b[0mx\u001b[0m\u001b[0;34m)\u001b[0m \u001b[0;32mfor\u001b[0m \u001b[0mx\u001b[0m \u001b[0;32min\u001b[0m \u001b[0mdata_iterator\u001b[0m\u001b[0;34m]\u001b[0m\u001b[0;34m,\u001b[0m \u001b[0mbeam_search_class\u001b[0m\u001b[0;34m.\u001b[0m\u001b[0mdecode\u001b[0m\u001b[0;34m,\u001b[0m \u001b[0mvocab\u001b[0m\u001b[0;34m.\u001b[0m\u001b[0mstoi\u001b[0m\u001b[0;34m[\u001b[0m\u001b[0mCONFIG\u001b[0m\u001b[0;34m[\u001b[0m\u001b[0;34m'EOS_TOKEN'\u001b[0m\u001b[0;34m]\u001b[0m\u001b[0;34m]\u001b[0m\u001b[0;34m)\u001b[0m\u001b[0;34m\u001b[0m\u001b[0;34m\u001b[0m\u001b[0m\n\u001b[0m",
      "\u001b[0;32m<ipython-input-470-d54430f9bf42>\u001b[0m in \u001b[0;36mcalculate_top_k_accuracy\u001b[0;34m(k, dataset_iterator, decode_method, eos_index)\u001b[0m\n\u001b[1;32m      8\u001b[0m     \u001b[0;32mfor\u001b[0m \u001b[0mi\u001b[0m\u001b[0;34m,\u001b[0m \u001b[0mbatch\u001b[0m \u001b[0;32min\u001b[0m \u001b[0menumerate\u001b[0m\u001b[0;34m(\u001b[0m\u001b[0mtqdm\u001b[0m\u001b[0;34m(\u001b[0m\u001b[0mdataset_iterator\u001b[0m\u001b[0;34m)\u001b[0m\u001b[0;34m)\u001b[0m\u001b[0;34m:\u001b[0m\u001b[0;34m\u001b[0m\u001b[0;34m\u001b[0m\u001b[0m\n\u001b[1;32m      9\u001b[0m         \u001b[0mtargets\u001b[0m \u001b[0;34m=\u001b[0m \u001b[0mremove_eos\u001b[0m\u001b[0;34m(\u001b[0m\u001b[0mbatch\u001b[0m\u001b[0;34m.\u001b[0m\u001b[0mtrg_y\u001b[0m\u001b[0;34m.\u001b[0m\u001b[0mcpu\u001b[0m\u001b[0;34m(\u001b[0m\u001b[0;34m)\u001b[0m\u001b[0;34m.\u001b[0m\u001b[0mnumpy\u001b[0m\u001b[0;34m(\u001b[0m\u001b[0;34m)\u001b[0m\u001b[0;34m,\u001b[0m \u001b[0meos_index\u001b[0m\u001b[0;34m)\u001b[0m\u001b[0;34m\u001b[0m\u001b[0;34m\u001b[0m\u001b[0m\n\u001b[0;32m---> 10\u001b[0;31m         \u001b[0mresults\u001b[0m \u001b[0;34m=\u001b[0m \u001b[0mdecode_method\u001b[0m\u001b[0;34m(\u001b[0m\u001b[0mbatch\u001b[0m\u001b[0;34m)\u001b[0m\u001b[0;34m\u001b[0m\u001b[0;34m\u001b[0m\u001b[0m\n\u001b[0m\u001b[1;32m     11\u001b[0m         \u001b[0;32mfor\u001b[0m \u001b[0mexample_id\u001b[0m \u001b[0;32min\u001b[0m \u001b[0mrange\u001b[0m\u001b[0;34m(\u001b[0m\u001b[0mlen\u001b[0m\u001b[0;34m(\u001b[0m\u001b[0mresults\u001b[0m\u001b[0;34m)\u001b[0m\u001b[0;34m)\u001b[0m\u001b[0;34m:\u001b[0m\u001b[0;34m\u001b[0m\u001b[0;34m\u001b[0m\u001b[0m\n\u001b[1;32m     12\u001b[0m             \u001b[0mtarget\u001b[0m \u001b[0;34m=\u001b[0m \u001b[0mtargets\u001b[0m\u001b[0;34m[\u001b[0m\u001b[0mexample_id\u001b[0m\u001b[0;34m]\u001b[0m\u001b[0;34m\u001b[0m\u001b[0;34m\u001b[0m\u001b[0m\n",
      "\u001b[0;32m<ipython-input-383-bd6703557c30>\u001b[0m in \u001b[0;36mdecode\u001b[0;34m(self, batch)\u001b[0m\n\u001b[1;32m     96\u001b[0m         \u001b[0;32mfor\u001b[0m \u001b[0mi\u001b[0m \u001b[0;32min\u001b[0m \u001b[0mrange\u001b[0m\u001b[0;34m(\u001b[0m\u001b[0;36m1\u001b[0m\u001b[0;34m,\u001b[0m \u001b[0mself\u001b[0m\u001b[0;34m.\u001b[0m\u001b[0mmax_len\u001b[0m\u001b[0;34m)\u001b[0m\u001b[0;34m:\u001b[0m\u001b[0;34m\u001b[0m\u001b[0;34m\u001b[0m\u001b[0m\n\u001b[1;32m     97\u001b[0m             out, states, pre_output = self.model.decode(edit_final, encoder_output, encoder_final,\n\u001b[0;32m---> 98\u001b[0;31m                                                         src_mask, prev_y, trg_mask, states)\n\u001b[0m\u001b[1;32m     99\u001b[0m             \u001b[0mprob\u001b[0m \u001b[0;34m=\u001b[0m \u001b[0mself\u001b[0m\u001b[0;34m.\u001b[0m\u001b[0mmodel\u001b[0m\u001b[0;34m.\u001b[0m\u001b[0mgenerator\u001b[0m\u001b[0;34m(\u001b[0m\u001b[0mpre_output\u001b[0m\u001b[0;34m[\u001b[0m\u001b[0;34m:\u001b[0m\u001b[0;34m,\u001b[0m \u001b[0;34m-\u001b[0m\u001b[0;36m1\u001b[0m\u001b[0;34m]\u001b[0m\u001b[0;34m)\u001b[0m  \u001b[0;31m# [B * beam_size, V]\u001b[0m\u001b[0;34m\u001b[0m\u001b[0;34m\u001b[0m\u001b[0m\n\u001b[1;32m    100\u001b[0m             \u001b[0mprob\u001b[0m \u001b[0;34m=\u001b[0m \u001b[0munstick_two_dimensions_together\u001b[0m\u001b[0;34m(\u001b[0m\u001b[0mprob\u001b[0m\u001b[0;34m,\u001b[0m \u001b[0mdim_value\u001b[0m\u001b[0;34m=\u001b[0m\u001b[0mbatch_size\u001b[0m\u001b[0;34m,\u001b[0m \u001b[0mdim\u001b[0m\u001b[0;34m=\u001b[0m\u001b[0;36m0\u001b[0m\u001b[0;34m)\u001b[0m\u001b[0;34m.\u001b[0m\u001b[0mreshape\u001b[0m\u001b[0;34m(\u001b[0m\u001b[0mbatch_size\u001b[0m\u001b[0;34m,\u001b[0m \u001b[0mself\u001b[0m\u001b[0;34m.\u001b[0m\u001b[0mbeam_size\u001b[0m\u001b[0;34m,\u001b[0m \u001b[0mvocab_size\u001b[0m\u001b[0;34m)\u001b[0m\u001b[0;34m\u001b[0m\u001b[0;34m\u001b[0m\u001b[0m\n",
      "\u001b[0;32m~/Documents/Development/embeddings-for-code-diffs/neural_editor/seq2seq/EncoderDecoder.py\u001b[0m in \u001b[0;36mdecode\u001b[0;34m(self, edit_final, encoder_output, encoder_final, src_mask, trg, trg_mask, states_to_initialize)\u001b[0m\n\u001b[1;32m    124\u001b[0m         \"\"\"\n\u001b[1;32m    125\u001b[0m         return self.decoder(self.embed(trg), edit_final, encoder_output, encoder_final,\n\u001b[0;32m--> 126\u001b[0;31m                             src_mask, trg_mask, states_to_initialize)\n\u001b[0m",
      "\u001b[0;32m~/anaconda3/envs/embeddings-for-code-diffs/lib/python3.6/site-packages/torch/nn/modules/module.py\u001b[0m in \u001b[0;36m__call__\u001b[0;34m(self, *input, **kwargs)\u001b[0m\n\u001b[1;32m    539\u001b[0m             \u001b[0mresult\u001b[0m \u001b[0;34m=\u001b[0m \u001b[0mself\u001b[0m\u001b[0;34m.\u001b[0m\u001b[0m_slow_forward\u001b[0m\u001b[0;34m(\u001b[0m\u001b[0;34m*\u001b[0m\u001b[0minput\u001b[0m\u001b[0;34m,\u001b[0m \u001b[0;34m**\u001b[0m\u001b[0mkwargs\u001b[0m\u001b[0;34m)\u001b[0m\u001b[0;34m\u001b[0m\u001b[0;34m\u001b[0m\u001b[0m\n\u001b[1;32m    540\u001b[0m         \u001b[0;32melse\u001b[0m\u001b[0;34m:\u001b[0m\u001b[0;34m\u001b[0m\u001b[0;34m\u001b[0m\u001b[0m\n\u001b[0;32m--> 541\u001b[0;31m             \u001b[0mresult\u001b[0m \u001b[0;34m=\u001b[0m \u001b[0mself\u001b[0m\u001b[0;34m.\u001b[0m\u001b[0mforward\u001b[0m\u001b[0;34m(\u001b[0m\u001b[0;34m*\u001b[0m\u001b[0minput\u001b[0m\u001b[0;34m,\u001b[0m \u001b[0;34m**\u001b[0m\u001b[0mkwargs\u001b[0m\u001b[0;34m)\u001b[0m\u001b[0;34m\u001b[0m\u001b[0;34m\u001b[0m\u001b[0m\n\u001b[0m\u001b[1;32m    542\u001b[0m         \u001b[0;32mfor\u001b[0m \u001b[0mhook\u001b[0m \u001b[0;32min\u001b[0m \u001b[0mself\u001b[0m\u001b[0;34m.\u001b[0m\u001b[0m_forward_hooks\u001b[0m\u001b[0;34m.\u001b[0m\u001b[0mvalues\u001b[0m\u001b[0;34m(\u001b[0m\u001b[0;34m)\u001b[0m\u001b[0;34m:\u001b[0m\u001b[0;34m\u001b[0m\u001b[0;34m\u001b[0m\u001b[0m\n\u001b[1;32m    543\u001b[0m             \u001b[0mhook_result\u001b[0m \u001b[0;34m=\u001b[0m \u001b[0mhook\u001b[0m\u001b[0;34m(\u001b[0m\u001b[0mself\u001b[0m\u001b[0;34m,\u001b[0m \u001b[0minput\u001b[0m\u001b[0;34m,\u001b[0m \u001b[0mresult\u001b[0m\u001b[0;34m)\u001b[0m\u001b[0;34m\u001b[0m\u001b[0;34m\u001b[0m\u001b[0m\n",
      "\u001b[0;32m~/Documents/Development/embeddings-for-code-diffs/neural_editor/seq2seq/decoder/Decoder.py\u001b[0m in \u001b[0;36mforward\u001b[0;34m(self, trg_embed, edit_final, encoder_output, encoder_final, src_mask, trg_mask, states_to_initialize)\u001b[0m\n\u001b[1;32m    123\u001b[0m             \u001b[0;31m# [B, 1, DecoderH], [NumLayers, B, DecoderH], [NumLayers, B, DecoderH], [B, 1, DecoderH]\u001b[0m\u001b[0;34m\u001b[0m\u001b[0;34m\u001b[0m\u001b[0;34m\u001b[0m\u001b[0m\n\u001b[1;32m    124\u001b[0m             output, hidden, cell, pre_output = self.forward_step(\n\u001b[0;32m--> 125\u001b[0;31m                 edit_hidden, prev_embed, encoder_output, src_mask, projection_key, hidden, cell)\n\u001b[0m\u001b[1;32m    126\u001b[0m             \u001b[0mdecoder_states\u001b[0m\u001b[0;34m.\u001b[0m\u001b[0mappend\u001b[0m\u001b[0;34m(\u001b[0m\u001b[0moutput\u001b[0m\u001b[0;34m)\u001b[0m\u001b[0;34m\u001b[0m\u001b[0;34m\u001b[0m\u001b[0m\n\u001b[1;32m    127\u001b[0m             \u001b[0mpre_output_vectors\u001b[0m\u001b[0;34m.\u001b[0m\u001b[0mappend\u001b[0m\u001b[0;34m(\u001b[0m\u001b[0mpre_output\u001b[0m\u001b[0;34m)\u001b[0m\u001b[0;34m\u001b[0m\u001b[0;34m\u001b[0m\u001b[0m\n",
      "\u001b[0;32m~/Documents/Development/embeddings-for-code-diffs/neural_editor/seq2seq/decoder/Decoder.py\u001b[0m in \u001b[0;36mforward_step\u001b[0;34m(self, edit_hidden, prev_embed, encoder_output, src_mask, projection_key, hidden, cell)\u001b[0m\n\u001b[1;32m     58\u001b[0m         context, attn_probs = self.attention(\n\u001b[1;32m     59\u001b[0m             \u001b[0mquery\u001b[0m\u001b[0;34m=\u001b[0m\u001b[0mquery\u001b[0m\u001b[0;34m,\u001b[0m \u001b[0mproj_key\u001b[0m\u001b[0;34m=\u001b[0m\u001b[0mprojection_key\u001b[0m\u001b[0;34m,\u001b[0m\u001b[0;34m\u001b[0m\u001b[0;34m\u001b[0m\u001b[0m\n\u001b[0;32m---> 60\u001b[0;31m             value=encoder_output, mask=src_mask)\n\u001b[0m\u001b[1;32m     61\u001b[0m \u001b[0;34m\u001b[0m\u001b[0m\n\u001b[1;32m     62\u001b[0m         \u001b[0;31m# [B, 1, NumDirections * DiffEncoderH]\u001b[0m\u001b[0;34m\u001b[0m\u001b[0;34m\u001b[0m\u001b[0;34m\u001b[0m\u001b[0m\n",
      "\u001b[0;32m~/anaconda3/envs/embeddings-for-code-diffs/lib/python3.6/site-packages/torch/nn/modules/module.py\u001b[0m in \u001b[0;36m__call__\u001b[0;34m(self, *input, **kwargs)\u001b[0m\n\u001b[1;32m    539\u001b[0m             \u001b[0mresult\u001b[0m \u001b[0;34m=\u001b[0m \u001b[0mself\u001b[0m\u001b[0;34m.\u001b[0m\u001b[0m_slow_forward\u001b[0m\u001b[0;34m(\u001b[0m\u001b[0;34m*\u001b[0m\u001b[0minput\u001b[0m\u001b[0;34m,\u001b[0m \u001b[0;34m**\u001b[0m\u001b[0mkwargs\u001b[0m\u001b[0;34m)\u001b[0m\u001b[0;34m\u001b[0m\u001b[0;34m\u001b[0m\u001b[0m\n\u001b[1;32m    540\u001b[0m         \u001b[0;32melse\u001b[0m\u001b[0;34m:\u001b[0m\u001b[0;34m\u001b[0m\u001b[0;34m\u001b[0m\u001b[0m\n\u001b[0;32m--> 541\u001b[0;31m             \u001b[0mresult\u001b[0m \u001b[0;34m=\u001b[0m \u001b[0mself\u001b[0m\u001b[0;34m.\u001b[0m\u001b[0mforward\u001b[0m\u001b[0;34m(\u001b[0m\u001b[0;34m*\u001b[0m\u001b[0minput\u001b[0m\u001b[0;34m,\u001b[0m \u001b[0;34m**\u001b[0m\u001b[0mkwargs\u001b[0m\u001b[0;34m)\u001b[0m\u001b[0;34m\u001b[0m\u001b[0;34m\u001b[0m\u001b[0m\n\u001b[0m\u001b[1;32m    542\u001b[0m         \u001b[0;32mfor\u001b[0m \u001b[0mhook\u001b[0m \u001b[0;32min\u001b[0m \u001b[0mself\u001b[0m\u001b[0;34m.\u001b[0m\u001b[0m_forward_hooks\u001b[0m\u001b[0;34m.\u001b[0m\u001b[0mvalues\u001b[0m\u001b[0;34m(\u001b[0m\u001b[0;34m)\u001b[0m\u001b[0;34m:\u001b[0m\u001b[0;34m\u001b[0m\u001b[0;34m\u001b[0m\u001b[0m\n\u001b[1;32m    543\u001b[0m             \u001b[0mhook_result\u001b[0m \u001b[0;34m=\u001b[0m \u001b[0mhook\u001b[0m\u001b[0;34m(\u001b[0m\u001b[0mself\u001b[0m\u001b[0;34m,\u001b[0m \u001b[0minput\u001b[0m\u001b[0;34m,\u001b[0m \u001b[0mresult\u001b[0m\u001b[0;34m)\u001b[0m\u001b[0;34m\u001b[0m\u001b[0;34m\u001b[0m\u001b[0m\n",
      "\u001b[0;32m~/Documents/Development/embeddings-for-code-diffs/neural_editor/seq2seq/BahdanauAttention.py\u001b[0m in \u001b[0;36mforward\u001b[0;34m(self, query, proj_key, value, mask)\u001b[0m\n\u001b[1;32m     38\u001b[0m \u001b[0;34m\u001b[0m\u001b[0m\n\u001b[1;32m     39\u001b[0m         \u001b[0;31m# Calculate scores.\u001b[0m\u001b[0;34m\u001b[0m\u001b[0;34m\u001b[0m\u001b[0;34m\u001b[0m\u001b[0m\n\u001b[0;32m---> 40\u001b[0;31m         \u001b[0mscores\u001b[0m \u001b[0;34m=\u001b[0m \u001b[0mself\u001b[0m\u001b[0;34m.\u001b[0m\u001b[0menergy_layer\u001b[0m\u001b[0;34m(\u001b[0m\u001b[0mtorch\u001b[0m\u001b[0;34m.\u001b[0m\u001b[0mtanh\u001b[0m\u001b[0;34m(\u001b[0m\u001b[0mquery\u001b[0m \u001b[0;34m+\u001b[0m \u001b[0mproj_key\u001b[0m\u001b[0;34m)\u001b[0m\u001b[0;34m)\u001b[0m  \u001b[0;31m# [B, SrcSeqLen, 1]\u001b[0m\u001b[0;34m\u001b[0m\u001b[0;34m\u001b[0m\u001b[0m\n\u001b[0m\u001b[1;32m     41\u001b[0m         \u001b[0mscores\u001b[0m \u001b[0;34m=\u001b[0m \u001b[0mscores\u001b[0m\u001b[0;34m.\u001b[0m\u001b[0msqueeze\u001b[0m\u001b[0;34m(\u001b[0m\u001b[0;36m2\u001b[0m\u001b[0;34m)\u001b[0m\u001b[0;34m.\u001b[0m\u001b[0munsqueeze\u001b[0m\u001b[0;34m(\u001b[0m\u001b[0;36m1\u001b[0m\u001b[0;34m)\u001b[0m  \u001b[0;31m# [B, 1, SrcSeqLen]\u001b[0m\u001b[0;34m\u001b[0m\u001b[0;34m\u001b[0m\u001b[0m\n\u001b[1;32m     42\u001b[0m \u001b[0;34m\u001b[0m\u001b[0m\n",
      "\u001b[0;31mKeyboardInterrupt\u001b[0m: "
     ]
    }
   ],
   "source": [
    "# degredate the model big batch size, maybe the whole dataset will be ok?\n",
    "with torch.no_grad():\n",
    "    res = test_calculate_top_k_accuracy(train_dataset, k=50, batch_size=32, max_len=51, vocab=diffs_field.vocab)\n",
    "    print(res)\n",
    "    print(res[0] / res[1])\n",
    "    print(res[2] / res[1])"
   ]
  },
  {
   "cell_type": "code",
   "execution_count": 442,
   "metadata": {},
   "outputs": [],
   "source": [
    "def get_greedy_decode(model,\n",
    "                  max_len: int,\n",
    "                  sos_index: int, eos_index: int):\n",
    "    def greed_decode_batch(batch):\n",
    "        \"\"\"\n",
    "        Greedily decode a sentence.\n",
    "        :return: [DecodedSeqLenCutWithEos]\n",
    "        \"\"\"\n",
    "        # TODO: create beam search\n",
    "        # [B, SrcSeqLen], [B, 1, SrcSeqLen], [B]\n",
    "        src, src_mask, src_lengths = batch.src, batch.src_mask, batch.src_lengths\n",
    "        with torch.no_grad():\n",
    "            edit_final, encoder_output, encoder_final = model.encode(batch)\n",
    "            prev_y = torch.ones(batch.nseqs, 1).fill_(sos_index).type_as(src)  # [B, 1]\n",
    "            trg_mask = torch.ones_like(prev_y)  # [B, 1]\n",
    "\n",
    "        output = torch.zeros((batch.nseqs, max_len))\n",
    "        states = None\n",
    "\n",
    "        for i in range(max_len):\n",
    "            with torch.no_grad():\n",
    "                # pre_output: [B, TrgSeqLen, DecoderH]\n",
    "                out, states, pre_output = model.decode(edit_final, encoder_output, encoder_final,\n",
    "                                                       src_mask, prev_y, trg_mask, states)\n",
    "\n",
    "                # we predict from the pre-output layer, which is\n",
    "                # a combination of Decoder state, prev emb, and context\n",
    "                prob = model.generator(pre_output[:, -1])  # [B, V]\n",
    "\n",
    "            _, next_words = torch.max(prob, dim=1)\n",
    "            output[:, i] = next_words\n",
    "            prev_y[:, 0] = next_words\n",
    "\n",
    "        output = output.cpu().long().numpy()\n",
    "        return remove_eos(output, eos_index)\n",
    "    return greed_decode_batch\n",
    "\n",
    "def test_calculate_top_k_accuracy_greedy(dataset_to_run, k, max_len, vocab, batch_size):\n",
    "    max_len = 51\n",
    "    data_iterator = accuracy_iterator = data.Iterator(dataset_to_run, batch_size=batch_size, train=False,\n",
    "                                              sort_within_batch=True,\n",
    "                                              sort=True,\n",
    "                                              sort_key=lambda x: (len(x.src), len(x.trg)),\n",
    "                                              repeat=False,\n",
    "                                              device=CONFIG['DEVICE'])\n",
    "    pad_index = vocab.stoi[CONFIG['PAD_TOKEN']]\n",
    "    return calculate_top_k_accuracy(k, [rebatch(pad_index, x) for x in data_iterator], \n",
    "                                    get_greedy_decode(model, 51, vocab.stoi[CONFIG['SOS_TOKEN']], vocab.stoi[CONFIG['EOS_TOKEN']]),\n",
    "                                    vocab.stoi[CONFIG['EOS_TOKEN']])"
   ]
  },
  {
   "cell_type": "code",
   "execution_count": 443,
   "metadata": {},
   "outputs": [
    {
     "data": {
      "application/vnd.jupyter.widget-view+json": {
       "model_id": "d44db6aca98340729276644536302e0d",
       "version_major": 2,
       "version_minor": 0
      },
      "text/plain": [
       "HBox(children=(IntProgress(value=0, max=5), HTML(value='')))"
      ]
     },
     "metadata": {},
     "output_type": "display_data"
    },
    {
     "name": "stdout",
     "output_type": "stream",
     "text": [
      "\n",
      "(33, 300)\n",
      "0.11\n"
     ]
    }
   ],
   "source": [
    "with torch.no_grad():\n",
    "    res = test_calculate_top_k_accuracy_greedy(TEST_DATASET_PART_300, k=1, batch_size=64, max_len=51, vocab=diffs_field.vocab)\n",
    "    print(res)\n",
    "    print(res[0] / res[1])"
   ]
  },
  {
   "cell_type": "code",
   "execution_count": 444,
   "metadata": {},
   "outputs": [
    {
     "data": {
      "application/vnd.jupyter.widget-view+json": {
       "model_id": "334955f646fd41bfbf6d54dbde70f11a",
       "version_major": 2,
       "version_minor": 0
      },
      "text/plain": [
       "HBox(children=(IntProgress(value=0, max=300), HTML(value='')))"
      ]
     },
     "metadata": {},
     "output_type": "display_data"
    },
    {
     "name": "stdout",
     "output_type": "stream",
     "text": [
      "\n",
      "(53, 300)\n",
      "0.17666666666666667\n"
     ]
    }
   ],
   "source": [
    "with torch.no_grad():\n",
    "    res = test_calculate_top_k_accuracy_greedy(TEST_DATASET_PART_300, k=1, batch_size=1, max_len=51, vocab=diffs_field.vocab)\n",
    "    print(res)\n",
    "    print(res[0] / res[1])"
   ]
  },
  {
   "cell_type": "code",
   "execution_count": 169,
   "metadata": {},
   "outputs": [
    {
     "data": {
      "text/plain": [
       "1"
      ]
     },
     "execution_count": 169,
     "metadata": {},
     "output_type": "execute_result"
    }
   ],
   "source": [
    "diffs_field.vocab.stoi[CONFIG['PAD_TOKEN']]"
   ]
  },
  {
   "cell_type": "code",
   "execution_count": 65,
   "metadata": {},
   "outputs": [
    {
     "data": {
      "application/vnd.jupyter.widget-view+json": {
       "model_id": "85b7982aaa4b4b4b801f8be9ad9a3d59",
       "version_major": 2,
       "version_minor": 0
      },
      "text/plain": [
       "HBox(children=(IntProgress(value=0, max=25), HTML(value='')))"
      ]
     },
     "metadata": {},
     "output_type": "display_data"
    },
    {
     "name": "stderr",
     "output_type": "stream",
     "text": [
      "/home/mikhail/anaconda3/envs/embeddings-for-code-diffs/lib/python3.6/site-packages/ipykernel_launcher.py:33: DeprecationWarning: elementwise comparison failed; this will raise an error in the future.\n",
      "/home/mikhail/anaconda3/envs/embeddings-for-code-diffs/lib/python3.6/site-packages/ipykernel_launcher.py:43: DeprecationWarning: elementwise comparison failed; this will raise an error in the future.\n"
     ]
    },
    {
     "name": "stdout",
     "output_type": "stream",
     "text": [
      "Example #8\n",
      "Src : public void METHOD_1 ( int VAR_1 , TYPE_1 VAR_2 ) { this . VAR_3 . add ( VAR_1 , VAR_2 ) ; VAR_4 . add ( this ) ; }\n",
      "Trg : public void METHOD_1 ( int VAR_1 , TYPE_1 VAR_2 ) { this . VAR_3 . add ( VAR_1 , VAR_2 ) ; }\n",
      "Pred: public void METHOD_1 ( int VAR_1 , TYPE_1 VAR_2 ) { this . VAR_3 . add ( VAR_1 , VAR_2 ) ; }\n",
      "\n",
      "Correct: 4, total: 25, acc: 0.16\n",
      "Top K Correct: 4, total: 25, acc: 0.16\n"
     ]
    }
   ],
   "source": [
    "test_beam_search_learning_fixes_top_k(TEST_DATASET_PART_25, k=1, beam_search_method=beam_search_learning_fixes_cut_eos_sort_by_probs_no_unterminated)\n",
    "pass"
   ]
  },
  {
   "cell_type": "code",
   "execution_count": 104,
   "metadata": {
    "scrolled": true
   },
   "outputs": [
    {
     "data": {
      "application/vnd.jupyter.widget-view+json": {
       "model_id": "255e4a0c37ea4eb3b7200adb417ca694",
       "version_major": 2,
       "version_minor": 0
      },
      "text/plain": [
       "HBox(children=(IntProgress(value=1, bar_style='info', max=1), HTML(value='')))"
      ]
     },
     "metadata": {},
     "output_type": "display_data"
    },
    {
     "name": "stdout",
     "output_type": "stream",
     "text": [
      "[array([18, 20, 14,  5, 29,  9, 15, 17, 16,  6, 11, 30, 10, 24, 10, 76,  5,\n",
      "        9, 15, 16,  6,  7, 12])]\n",
      "\n"
     ]
    },
    {
     "data": {
      "text/plain": [
       "(4, 25)"
      ]
     },
     "execution_count": 104,
     "metadata": {},
     "output_type": "execute_result"
    }
   ],
   "source": [
    "test_calculate_top_k_accuracy(TEST_DATASET_PART_25, k=1, max_len=51, vocab=diffs_field.vocab, batch_size=1)"
   ]
  },
  {
   "cell_type": "code",
   "execution_count": 79,
   "metadata": {},
   "outputs": [
    {
     "data": {
      "application/vnd.jupyter.widget-view+json": {
       "model_id": "7a66df59db364ce7a92c0bcc4d12050a",
       "version_major": 2,
       "version_minor": 0
      },
      "text/plain": [
       "HBox(children=(IntProgress(value=1, bar_style='info', max=1), HTML(value='')))"
      ]
     },
     "metadata": {},
     "output_type": "display_data"
    },
    {
     "name": "stdout",
     "output_type": "stream",
     "text": [
      "2\n",
      "1\n",
      "2\n",
      "2\n",
      "2\n",
      "2\n",
      "2\n",
      "2\n",
      "12\n",
      "2\n",
      "2\n",
      "2\n",
      "19\n",
      "2\n",
      "2\n",
      "1\n",
      "\n"
     ]
    },
    {
     "data": {
      "text/plain": [
       "(3, 25)"
      ]
     },
     "execution_count": 79,
     "metadata": {},
     "output_type": "execute_result"
    }
   ],
   "source": [
    "test_calculate_top_k_accuracy(TEST_DATASET_PART_25, k=1, max_len=51, vocab=diffs_field.vocab, batch_size=2)"
   ]
  },
  {
   "cell_type": "code",
   "execution_count": 72,
   "metadata": {},
   "outputs": [
    {
     "data": {
      "application/vnd.jupyter.widget-view+json": {
       "model_id": "1831673c7d3e48fb8e802f88fb132ae4",
       "version_major": 2,
       "version_minor": 0
      },
      "text/plain": [
       "HBox(children=(IntProgress(value=1, bar_style='info', max=1), HTML(value='')))"
      ]
     },
     "metadata": {},
     "output_type": "display_data"
    },
    {
     "name": "stdout",
     "output_type": "stream",
     "text": [
      "\n"
     ]
    },
    {
     "data": {
      "text/plain": [
       "(3, 25)"
      ]
     },
     "execution_count": 72,
     "metadata": {},
     "output_type": "execute_result"
    }
   ],
   "source": [
    "test_calculate_top_k_accuracy(TEST_DATASET_PART_25, k=1, max_len=51, vocab=diffs_field.vocab, batch_size=4)"
   ]
  },
  {
   "cell_type": "code",
   "execution_count": 67,
   "metadata": {},
   "outputs": [
    {
     "data": {
      "application/vnd.jupyter.widget-view+json": {
       "model_id": "6dd7429c3f824aa082092742758762be",
       "version_major": 2,
       "version_minor": 0
      },
      "text/plain": [
       "HBox(children=(IntProgress(value=0, max=25), HTML(value='')))"
      ]
     },
     "metadata": {},
     "output_type": "display_data"
    },
    {
     "name": "stderr",
     "output_type": "stream",
     "text": [
      "/home/mikhail/anaconda3/envs/embeddings-for-code-diffs/lib/python3.6/site-packages/ipykernel_launcher.py:33: DeprecationWarning: elementwise comparison failed; this will raise an error in the future.\n",
      "/home/mikhail/anaconda3/envs/embeddings-for-code-diffs/lib/python3.6/site-packages/ipykernel_launcher.py:43: DeprecationWarning: elementwise comparison failed; this will raise an error in the future.\n"
     ]
    },
    {
     "name": "stdout",
     "output_type": "stream",
     "text": [
      "Example #8\n",
      "Src : public void METHOD_1 ( int VAR_1 , TYPE_1 VAR_2 ) { this . VAR_3 . add ( VAR_1 , VAR_2 ) ; VAR_4 . add ( this ) ; }\n",
      "Trg : public void METHOD_1 ( int VAR_1 , TYPE_1 VAR_2 ) { this . VAR_3 . add ( VAR_1 , VAR_2 ) ; }\n",
      "Pred: public void METHOD_1 ( int VAR_1 , TYPE_1 VAR_2 ) { this . VAR_3 . add ( VAR_1 , VAR_2 ) ; }\n",
      "\n",
      "Correct: 4, total: 25, acc: 0.16\n",
      "Top K Correct: 15, total: 25, acc: 0.6\n"
     ]
    }
   ],
   "source": [
    "test_beam_search_learning_fixes_top_k(TEST_DATASET_PART_25, k=50, beam_search_method=beam_search_learning_fixes_cut_eos_sort_by_probs_no_unterminated)\n",
    "pass"
   ]
  },
  {
   "cell_type": "code",
   "execution_count": 70,
   "metadata": {
    "scrolled": true
   },
   "outputs": [
    {
     "data": {
      "application/vnd.jupyter.widget-view+json": {
       "model_id": "537b740ce6f24d17a20628ac27fefda9",
       "version_major": 2,
       "version_minor": 0
      },
      "text/plain": [
       "HBox(children=(IntProgress(value=1, bar_style='info', max=1), HTML(value='')))"
      ]
     },
     "metadata": {},
     "output_type": "display_data"
    },
    {
     "name": "stdout",
     "output_type": "stream",
     "text": [
      "\n"
     ]
    },
    {
     "data": {
      "text/plain": [
       "(15, 25)"
      ]
     },
     "execution_count": 70,
     "metadata": {},
     "output_type": "execute_result"
    }
   ],
   "source": [
    "test_calculate_top_k_accuracy(TEST_DATASET_PART_25, k=50, max_len=51, vocab=diffs_field.vocab, batch_size=1)"
   ]
  },
  {
   "cell_type": "code",
   "execution_count": 15,
   "metadata": {
    "scrolled": true
   },
   "outputs": [
    {
     "data": {
      "image/png": "[encoded data removed]",
      "text/plain": [
       "<Figure size 514x360 with 1 Axes>"
      ]
     },
     "metadata": {
      "needs_background": "light"
     },
     "output_type": "display_data"
    }
   ],
   "source": [
    "representations1 = visualization(model, defects4j_dataset, defects4j_classes, diffs_field)"
   ]
  },
  {
   "cell_type": "code",
   "execution_count": 16,
   "metadata": {},
   "outputs": [
    {
     "data": {
      "image/png": "[encoded data removed]",
      "text/plain": [
       "<Figure size 514x360 with 1 Axes>"
      ]
     },
     "metadata": {
      "needs_background": "light"
     },
     "output_type": "display_data"
    }
   ],
   "source": [
    "representations2 = visualization(model, defects4j_dataset, defects4j_classes, diffs_field)"
   ]
  },
  {
   "cell_type": "code",
   "execution_count": 10,
   "metadata": {},
   "outputs": [
    {
     "name": "stdout",
     "output_type": "stream",
     "text": [
      "torch.Size([20, 1024])\n",
      "torch.Size([20, 1024])\n"
     ]
    },
    {
     "data": {
      "text/plain": [
       "tensor(True)"
      ]
     },
     "execution_count": 10,
     "metadata": {},
     "output_type": "execute_result"
    }
   ],
   "source": [
    "print(representations1.shape)\n",
    "print(representations2.shape)\n",
    "torch.all(representations1 == representations2)"
   ]
  },
  {
   "cell_type": "code",
   "execution_count": 11,
   "metadata": {
    "scrolled": false
   },
   "outputs": [
    {
     "data": {
      "image/png": "[encoded data removed]",
      "text/plain": [
       "<Figure size 514x360 with 1 Axes>"
      ]
     },
     "metadata": {
      "needs_background": "light"
     },
     "output_type": "display_data"
    },
    {
     "data": {
      "text/plain": [
       "tensor([[-7.1191e-01,  8.0957e-03, -2.8204e-02,  ..., -7.3940e-03,\n",
       "         -9.8486e-04,  1.8852e-03],\n",
       "        [-8.1712e-01,  7.6494e-03, -2.7829e-02,  ..., -5.2626e-03,\n",
       "         -1.8538e-04,  2.5696e-03],\n",
       "        [-6.6940e-01,  7.4178e-03, -2.7310e-02,  ..., -2.0572e-02,\n",
       "          1.6388e-03,  2.5715e-03],\n",
       "        ...,\n",
       "        [-7.3090e-01,  1.0865e-02, -1.5660e-02,  ..., -4.8336e-03,\n",
       "         -8.7348e-04,  1.9063e-03],\n",
       "        [-5.6894e-01,  7.2808e-03, -2.3685e-02,  ..., -9.4135e-03,\n",
       "         -5.8357e-04,  1.9976e-03],\n",
       "        [-7.0973e-01,  2.4050e-02, -1.4779e-02,  ..., -3.8035e-03,\n",
       "         -5.6782e-04,  2.2715e-03]])"
      ]
     },
     "execution_count": 11,
     "metadata": {},
     "output_type": "execute_result"
    }
   ],
   "source": [
    "visualization(model, defects4j_dataset, defects4j_classes, diffs_field)"
   ]
  },
  {
   "cell_type": "code",
   "execution_count": 12,
   "metadata": {},
   "outputs": [
    {
     "data": {
      "image/png": "[encoded data removed]",
      "text/plain": [
       "<Figure size 514x360 with 1 Axes>"
      ]
     },
     "metadata": {
      "needs_background": "light"
     },
     "output_type": "display_data"
    },
    {
     "data": {
      "text/plain": [
       "tensor([[-7.1191e-01,  8.0957e-03, -2.8204e-02,  ..., -7.3940e-03,\n",
       "         -9.8486e-04,  1.8852e-03],\n",
       "        [-8.1712e-01,  7.6494e-03, -2.7829e-02,  ..., -5.2626e-03,\n",
       "         -1.8538e-04,  2.5696e-03],\n",
       "        [-6.6940e-01,  7.4178e-03, -2.7310e-02,  ..., -2.0572e-02,\n",
       "          1.6388e-03,  2.5715e-03],\n",
       "        ...,\n",
       "        [-7.3090e-01,  1.0865e-02, -1.5660e-02,  ..., -4.8336e-03,\n",
       "         -8.7348e-04,  1.9063e-03],\n",
       "        [-5.6894e-01,  7.2808e-03, -2.3685e-02,  ..., -9.4135e-03,\n",
       "         -5.8357e-04,  1.9976e-03],\n",
       "        [-7.0973e-01,  2.4050e-02, -1.4779e-02,  ..., -3.8035e-03,\n",
       "         -5.6782e-04,  2.2715e-03]])"
      ]
     },
     "execution_count": 12,
     "metadata": {},
     "output_type": "execute_result"
    }
   ],
   "source": [
    "visualization(model, defects4j_dataset, defects4j_classes, diffs_field)"
   ]
  },
  {
   "cell_type": "code",
   "execution_count": 17,
   "metadata": {},
   "outputs": [
    {
     "data": {
      "image/png": "[encoded data removed]",
      "text/plain": [
       "<Figure size 360x360 with 1 Axes>"
      ]
     },
     "metadata": {
      "needs_background": "light"
     },
     "output_type": "display_data"
    },
    {
     "data": {
      "text/plain": [
       "tensor([[-8.4524e-02,  3.3586e-03, -2.3228e-02,  ...,  9.1824e-03,\n",
       "         -1.9427e-03,  2.8964e-03],\n",
       "        [-5.8691e-03,  2.0505e-03, -2.1914e-02,  ..., -8.1180e-03,\n",
       "         -1.7744e-03,  2.5179e-03],\n",
       "        [ 5.8424e-01,  2.8601e-02,  9.5877e-02,  ...,  6.8093e-03,\n",
       "         -1.7779e-03,  3.3568e-03],\n",
       "        ...,\n",
       "        [-8.8831e-04,  2.1231e-03, -2.5135e-02,  ...,  5.6890e-02,\n",
       "         -2.1689e-04,  3.7377e-03],\n",
       "        [-2.1566e-01,  6.7615e-03, -1.9898e-02,  ..., -7.1132e-03,\n",
       "         -1.0167e-03,  1.9975e-03],\n",
       "        [ 2.4822e-04,  2.4294e-03, -1.6830e-02,  ...,  9.5779e-03,\n",
       "         -1.9288e-03,  2.8636e-03]])"
      ]
     },
     "execution_count": 17,
     "metadata": {},
     "output_type": "execute_result"
    }
   ],
   "source": [
    "visualization(model, Dataset(train_dataset[:500], train_dataset.fields), None, diffs_field)"
   ]
  },
  {
   "cell_type": "code",
   "execution_count": 52,
   "metadata": {},
   "outputs": [],
   "source": [
    "def visualization_for_dataset(model: EncoderDecoder, dataset: Dataset, classes: List[str], diffs_field: Field) -> None:\n",
    "    pad_index: int = diffs_field.vocab.stoi[CONFIG['PAD_TOKEN']]\n",
    "    batch_size = len(dataset)\n",
    "\n",
    "    def batch_comparator(x):\n",
    "        return len(x.src), len(x.trg)\n",
    "\n",
    "    iterator = data.Iterator(dataset, batch_size=batch_size,\n",
    "                             sort=False, train=False,\n",
    "                             sort_within_batch=True,\n",
    "                             sort_key=batch_comparator, shuffle=False, device=CONFIG['DEVICE'])\n",
    "    representations = torch.zeros(len(dataset), CONFIG['EDIT_REPRESENTATION_SIZE'] * 2)\n",
    "    classes = np.array(classes)\n",
    "    model.eval()\n",
    "    with torch.no_grad():\n",
    "        for i, batch in enumerate(iterator):\n",
    "            batch = rebatch(pad_index, batch)\n",
    "            sorted_args = h(list(map(batch_comparator, dataset[i: i + batch_size])))\n",
    "            print(list(map(batch_comparator, dataset[i: i + batch_size])))\n",
    "            print(sorted_args)\n",
    "            classes[i: i + batch_size] = classes[sorted_args]\n",
    "            representations[i: i + batch_size] = model.encode_edit(batch)[0][-1, :]  # hidden, last layer, all batches\n",
    "        visualize_tsne(representations, [el for el in classes])"
   ]
  },
  {
   "cell_type": "code",
   "execution_count": 53,
   "metadata": {},
   "outputs": [],
   "source": [
    "def h(seq):\n",
    "    return sorted(range(len(seq)), key=seq.__getitem__)"
   ]
  },
  {
   "cell_type": "code",
   "execution_count": 55,
   "metadata": {},
   "outputs": [
    {
     "name": "stdout",
     "output_type": "stream",
     "text": [
      "[1, 0]\n"
     ]
    }
   ],
   "source": [
    "sorted_args = h([(2, 2), (2, 1)])\n",
    "print(sorted_args)"
   ]
  },
  {
   "cell_type": "code",
   "execution_count": 54,
   "metadata": {
    "scrolled": true
   },
   "outputs": [
    {
     "name": "stdout",
     "output_type": "stream",
     "text": [
      "[(72, 93), (40, 82), (68, 88), (19, 46), (96, 90), (68, 80), (18, 48), (38, 49), (88, 98), (70, 89), (87, 70), (68, 68), (20, 20), (94, 94), (93, 93), (44, 54), (47, 92), (20, 41), (57, 89), (16, 40)]\n",
      "[19, 6, 3, 12, 17, 7, 1, 15, 16, 18, 11, 5, 2, 9, 0, 10, 8, 14, 13, 4]\n"
     ]
    },
    {
     "data": {
      "image/png": "[encoded data removed]",
      "text/plain": [
       "<Figure size 514x360 with 1 Axes>"
      ]
     },
     "metadata": {
      "needs_background": "light"
     },
     "output_type": "display_data"
    }
   ],
   "source": [
    "visualization_for_dataset(model, defects4j_dataset, defects4j_classes, diffs_field)"
   ]
  },
  {
   "cell_type": "code",
   "execution_count": 44,
   "metadata": {},
   "outputs": [
    {
     "data": {
      "text/plain": [
       "array([[1, 0],\n",
       "       [0, 1],\n",
       "       [0, 1],\n",
       "       [0, 1]])"
      ]
     },
     "execution_count": 44,
     "metadata": {},
     "output_type": "execute_result"
    }
   ],
   "source": [
    "np.argsort(np.array([(2, 1), (1, 1), (1, 2), (0, 0)]))"
   ]
  },
  {
   "cell_type": "code",
   "execution_count": 39,
   "metadata": {},
   "outputs": [
    {
     "data": {
      "text/plain": [
       "array([[2, 1],\n",
       "       [1, 1],\n",
       "       [1, 2],\n",
       "       [0, 0]])"
      ]
     },
     "execution_count": 39,
     "metadata": {},
     "output_type": "execute_result"
    }
   ],
   "source": [
    "np.array([(2, 1), (1, 1), (1, 2), (0, 0)])"
   ]
  },
  {
   "cell_type": "code",
   "execution_count": 56,
   "metadata": {},
   "outputs": [
    {
     "data": {
      "text/plain": [
       "[2, 1, 0]"
      ]
     },
     "execution_count": 56,
     "metadata": {},
     "output_type": "execute_result"
    }
   ],
   "source": [
    "h([(2, 2), (2, 1), (1, 2)])"
   ]
  },
  {
   "cell_type": "code",
   "execution_count": null,
   "metadata": {},
   "outputs": [],
   "source": []
  }
 ],
 "metadata": {
  "kernelspec": {
   "display_name": "Python 3",
   "language": "python",
   "name": "python3"
  },
  "language_info": {
   "codemirror_mode": {
    "name": "ipython",
    "version": 3
   },
   "file_extension": ".py",
   "mimetype": "text/x-python",
   "name": "python",
   "nbconvert_exporter": "python",
   "pygments_lexer": "ipython3",
   "version": "3.6.9"
  }
 },
 "nbformat": 4,
 "nbformat_minor": 2
}
